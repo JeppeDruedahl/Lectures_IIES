{
 "cells": [
  {
   "cell_type": "markdown",
   "metadata": {},
   "source": [
    "# The matrix formulation"
   ]
  },
  {
   "cell_type": "markdown",
   "metadata": {},
   "source": [
    "**Table of contents**<a id='toc0_'></a>    \n",
    "- 1. [Setup](#toc1_)    \n",
    "- 2. [The matrix formulation](#toc2_)    \n",
    "\n",
    "<!-- vscode-jupyter-toc-config\n",
    "\tnumbering=true\n",
    "\tanchor=true\n",
    "\tflat=false\n",
    "\tminLevel=2\n",
    "\tmaxLevel=6\n",
    "\t/vscode-jupyter-toc-config -->\n",
    "<!-- THIS CELL WILL BE REPLACED ON TOC UPDATE. DO NOT WRITE YOUR TEXT IN THIS CELL -->"
   ]
  },
  {
   "cell_type": "code",
   "execution_count": 1,
   "metadata": {},
   "outputs": [],
   "source": [
    "%load_ext autoreload\n",
    "%autoreload 2\n",
    "\n",
    "import numpy as np\n",
    "import numba as nb\n",
    "\n",
    "import matplotlib.pyplot as plt   \n",
    "colors = plt.rcParams['axes.prop_cycle'].by_key()['color']\n",
    "plt.rcParams.update({\"axes.grid\" : True, \"grid.color\": \"black\", \"grid.alpha\":\"0.25\", \"grid.linestyle\": \"--\"})\n",
    "plt.rcParams.update({'font.size': 14})\n",
    "\n",
    "from EconModel import jit\n",
    "from ConSavModel import ConSavModelClass"
   ]
  },
  {
   "cell_type": "markdown",
   "metadata": {},
   "source": [
    "## 1. <a id='toc1_'></a>[Setup](#toc0_)"
   ]
  },
  {
   "cell_type": "code",
   "execution_count": 2,
   "metadata": {},
   "outputs": [],
   "source": [
    "model = ConSavModelClass()"
   ]
  },
  {
   "cell_type": "code",
   "execution_count": 3,
   "metadata": {},
   "outputs": [],
   "source": [
    "par = model.par\n",
    "sol = model.sol\n",
    "sim = model.sim\n",
    "D = sim.D_\n",
    "Dbeg = sim.Dbeg_"
   ]
  },
  {
   "cell_type": "code",
   "execution_count": 4,
   "metadata": {},
   "outputs": [
    {
     "name": "stdout",
     "output_type": "stream",
     "text": [
      "iteration    0 solved in 5.5 secs   [max abs. diff. 4.95e+01]\n",
      "iteration    1 solved in 0.0 secs   [max abs. diff. 1.67e+01]\n",
      "iteration    2 solved in 0.0 secs   [max abs. diff. 8.37e+00]\n",
      "iteration    3 solved in 0.0 secs   [max abs. diff. 5.04e+00]\n",
      "iteration    4 solved in 0.0 secs   [max abs. diff. 3.38e+00]\n",
      "iteration    5 solved in 0.0 secs   [max abs. diff. 2.42e+00]\n",
      "iteration    6 solved in 0.0 secs   [max abs. diff. 1.82e+00]\n",
      "iteration    7 solved in 0.0 secs   [max abs. diff. 1.42e+00]\n",
      "iteration    8 solved in 0.0 secs   [max abs. diff. 1.14e+00]\n",
      "iteration    9 solved in 0.0 secs   [max abs. diff. 9.40e-01]\n",
      "iteration  100 solved in 0.0 secs   [max abs. diff. 4.07e-03]\n",
      "iteration  200 solved in 0.0 secs   [max abs. diff. 1.38e-05]\n",
      "iteration  300 solved in 0.0 secs   [max abs. diff. 1.28e-08]\n",
      "iteration  304 solved in 0.0 secs   [max abs. diff. 9.67e-09]\n",
      "model solved in 5.7 secs\n",
      "model prepared for simulation in 0.0 secs\n",
      "model simulated in 6.6 secs [430 iterations]\n"
     ]
    }
   ],
   "source": [
    "model.solve(algo='egm')\n",
    "model.prepare_simulate(algo='hist')\n",
    "model.simulate_hist_alt()"
   ]
  },
  {
   "cell_type": "markdown",
   "metadata": {},
   "source": [
    "## 2. <a id='toc2_'></a>[The matrix formulation](#toc0_)"
   ]
  },
  {
   "cell_type": "markdown",
   "metadata": {},
   "source": [
    "**The stochastic transition, $\\boldsymbol{D}_{t} =\\Pi_{z}^{\\prime}\\underline{\\boldsymbol{D}}_{t}$:**"
   ]
  },
  {
   "cell_type": "code",
   "execution_count": 5,
   "metadata": {},
   "outputs": [],
   "source": [
    "@nb.njit\n",
    "def build_Pi_z(par):\n",
    "\n",
    "    Pi_z = np.zeros((par.Nz*par.Na,par.Nz*par.Na))\n",
    "\n",
    "    i = 0\n",
    "    for i_z_lag in range(par.Nz):\n",
    "        for i_a_lag in range(par.Na):\n",
    "            j = 0\n",
    "            for i_z in range(par.Nz):\n",
    "                for i_a_lag_ in range(par.Na):\n",
    "                    if i_a_lag == i_a_lag_: # does not change\n",
    "                        Pi_z[i,j] = par.z_trans[i_z_lag,i_z]                     \n",
    "                    else:\n",
    "                        Pi_z[i,j] = 0.0\n",
    "                    j += 1\n",
    "            i += 1\n",
    "    \n",
    "    return Pi_z\n",
    "            "
   ]
  },
  {
   "cell_type": "code",
   "execution_count": 6,
   "metadata": {},
   "outputs": [],
   "source": [
    "with jit(model) as model_jit:\n",
    "    Pi_z = build_Pi_z(model_jit.par)"
   ]
  },
  {
   "cell_type": "code",
   "execution_count": 7,
   "metadata": {},
   "outputs": [],
   "source": [
    "D_alt = Pi_z.T@Dbeg.ravel()\n",
    "max_abs_diff = np.max(np.abs(D_alt-D.ravel()))\n",
    "assert np.isclose(max_abs_diff,0.0)"
   ]
  },
  {
   "cell_type": "markdown",
   "metadata": {},
   "source": [
    "**The choice transition, $\\underline{\\boldsymbol{D}}_{t+1} =\\Lambda_{t}^{\\prime}\\boldsymbol{D}_{t}$:**"
   ]
  },
  {
   "cell_type": "code",
   "execution_count": 8,
   "metadata": {},
   "outputs": [],
   "source": [
    "@nb.njit\n",
    "def build_Lambda(par,sol):\n",
    "\n",
    "    Lambda = np.zeros((par.Nz*par.Na,par.Nz*par.Na))\n",
    "\n",
    "    i = 0\n",
    "    for i_z in range(par.Nz):\n",
    "        for i_a_lag in range(par.Na):\n",
    "            j = 0\n",
    "            for i_z_ in range(par.Nz):\n",
    "                for i_a in range(par.Na):\n",
    "                    if i_z == i_z_ and i_a == sol.pol_indices[i_z,i_a_lag]:\n",
    "                        Lambda[i,j] = sol.pol_weights[i_z,i_a_lag]\n",
    "                    elif i_z == i_z_ and i_a == sol.pol_indices[i_z,i_a_lag]+1:\n",
    "                        Lambda[i,j] = 1-sol.pol_weights[i_z,i_a_lag]\n",
    "                    else:\n",
    "                        Lambda[i,j] = 0.0\n",
    "                    j += 1\n",
    "            i += 1\n",
    "     \n",
    "    return Lambda"
   ]
  },
  {
   "cell_type": "code",
   "execution_count": 9,
   "metadata": {},
   "outputs": [],
   "source": [
    "with jit(model) as model_jit:\n",
    "    Lambda = build_Lambda(model_jit.par,model_jit.sol)"
   ]
  },
  {
   "cell_type": "code",
   "execution_count": 10,
   "metadata": {},
   "outputs": [],
   "source": [
    "Dbeg_plus_alt = Lambda.T@D.ravel()\n",
    "max_abs_diff = np.max(np.abs(Dbeg_plus_alt-Dbeg.ravel()))\n",
    "assert np.isclose(max_abs_diff,0.0)"
   ]
  }
 ],
 "metadata": {
  "kernelspec": {
   "display_name": "Python 3 (ipykernel)",
   "language": "python",
   "name": "python3"
  },
  "language_info": {
   "codemirror_mode": {
    "name": "ipython",
    "version": 3
   },
   "file_extension": ".py",
   "mimetype": "text/x-python",
   "name": "python",
   "nbconvert_exporter": "python",
   "pygments_lexer": "ipython3",
   "version": "3.11.3"
  },
  "toc-autonumbering": true
 },
 "nbformat": 4,
 "nbformat_minor": 4
}
