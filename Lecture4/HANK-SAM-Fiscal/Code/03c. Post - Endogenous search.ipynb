{
 "cells": [
  {
   "attachments": {},
   "cell_type": "markdown",
   "id": "f3508250",
   "metadata": {
    "papermill": {
     "duration": 0.011967,
     "end_time": "2023-05-03T17:40:04.417747",
     "exception": false,
     "start_time": "2023-05-03T17:40:04.405780",
     "status": "completed"
    },
    "tags": []
   },
   "source": [
    "# Endogenous search"
   ]
  },
  {
   "cell_type": "markdown",
   "id": "7da574d5",
   "metadata": {
    "papermill": {
     "duration": 0.006003,
     "end_time": "2023-05-03T17:40:04.428801",
     "exception": false,
     "start_time": "2023-05-03T17:40:04.422798",
     "status": "completed"
    },
    "tags": []
   },
   "source": [
    "**Table of contents**<a id='toc0_'></a>    \n",
    "- 1. [Settings](#toc1_)    \n",
    "- 2. [Endogenous search](#toc2_)    \n",
    "  - 2.1. [Steady state](#toc2_1_)    \n",
    "  - 2.2. [Policies](#toc2_2_)    \n",
    "\n",
    "<!-- vscode-jupyter-toc-config\n",
    "\tnumbering=true\n",
    "\tanchor=true\n",
    "\tflat=false\n",
    "\tminLevel=2\n",
    "\tmaxLevel=6\n",
    "\t/vscode-jupyter-toc-config -->\n",
    "<!-- THIS CELL WILL BE REPLACED ON TOC UPDATE. DO NOT WRITE YOUR TEXT IN THIS CELL -->"
   ]
  },
  {
   "cell_type": "code",
   "execution_count": 1,
   "id": "70a674ca",
   "metadata": {
    "execution": {
     "iopub.execute_input": "2023-05-03T17:40:04.439765Z",
     "iopub.status.busy": "2023-05-03T17:40:04.438764Z",
     "iopub.status.idle": "2023-05-03T17:40:12.966494Z",
     "shell.execute_reply": "2023-05-03T17:40:12.965492Z"
    },
    "papermill": {
     "duration": 8.537735,
     "end_time": "2023-05-03T17:40:12.970494",
     "exception": false,
     "start_time": "2023-05-03T17:40:04.432759",
     "status": "completed"
    },
    "tags": []
   },
   "outputs": [],
   "source": [
    "%load_ext autoreload\n",
    "%autoreload 2\n",
    "\n",
    "import numpy as np\n",
    "import matplotlib.pyplot as plt\n",
    "\n",
    "from FullHANKSAMModel import FullHANKSAMModelClass\n",
    "from figures import create_fig, save_fig\n",
    "import policy"
   ]
  },
  {
   "cell_type": "markdown",
   "id": "cf834652",
   "metadata": {
    "papermill": {
     "duration": 0.006,
     "end_time": "2023-05-03T17:40:12.988505",
     "exception": false,
     "start_time": "2023-05-03T17:40:12.982505",
     "status": "completed"
    },
    "tags": []
   },
   "source": [
    "## 1. <a id='toc1_'></a>[Settings](#toc0_)"
   ]
  },
  {
   "cell_type": "code",
   "execution_count": 2,
   "id": "99177dd4",
   "metadata": {
    "execution": {
     "iopub.execute_input": "2023-05-03T17:40:13.000522Z",
     "iopub.status.busy": "2023-05-03T17:40:12.999513Z",
     "iopub.status.idle": "2023-05-03T17:40:13.158602Z",
     "shell.execute_reply": "2023-05-03T17:40:13.157600Z"
    },
    "papermill": {
     "duration": 0.169096,
     "end_time": "2023-05-03T17:40:13.162605",
     "exception": false,
     "start_time": "2023-05-03T17:40:12.993509",
     "status": "completed"
    },
    "tags": []
   },
   "outputs": [],
   "source": [
    "model = FullHANKSAMModelClass(name='baseline')\n",
    "model.load()"
   ]
  },
  {
   "cell_type": "code",
   "execution_count": 3,
   "id": "394b470c",
   "metadata": {
    "execution": {
     "iopub.execute_input": "2023-05-03T17:40:13.182664Z",
     "iopub.status.busy": "2023-05-03T17:40:13.181663Z",
     "iopub.status.idle": "2023-05-03T17:40:15.363421Z",
     "shell.execute_reply": "2023-05-03T17:40:15.362420Z"
    },
    "papermill": {
     "duration": 2.192757,
     "end_time": "2023-05-03T17:40:15.365422",
     "exception": false,
     "start_time": "2023-05-03T17:40:13.172665",
     "status": "completed"
    },
    "tags": []
   },
   "outputs": [
    {
     "name": "stdout",
     "output_type": "stream",
     "text": [
      "iteration 0, par.UI_prob = 0.500\n"
     ]
    },
    {
     "name": "stdout",
     "output_type": "stream",
     "text": [
      " s_eff_scale = 1.537 [match ss.u]]\n",
      " par.UI_prob = 0.488 [math par.UI_of_u_share_target]\n",
      "diff(UI_prob) = 1.20e-02\n",
      "\n",
      "iteration 1, par.UI_prob = 0.488\n"
     ]
    },
    {
     "name": "stdout",
     "output_type": "stream",
     "text": [
      " s_eff_scale = 1.000 [match ss.u]]\n",
      " par.UI_prob = 0.488 [math par.UI_of_u_share_target]\n",
      "diff(UI_prob) = 0.00e+00\n",
      "\n",
      "converged\n"
     ]
    }
   ],
   "source": [
    "model.calibrate_dur_dep_UE(do_print=True)"
   ]
  },
  {
   "cell_type": "code",
   "execution_count": 4,
   "id": "896cc76e",
   "metadata": {
    "execution": {
     "iopub.execute_input": "2023-05-03T17:40:15.386489Z",
     "iopub.status.busy": "2023-05-03T17:40:15.385483Z",
     "iopub.status.idle": "2023-05-03T17:40:43.035303Z",
     "shell.execute_reply": "2023-05-03T17:40:43.034302Z"
    },
    "papermill": {
     "duration": 27.660873,
     "end_time": "2023-05-03T17:40:43.039350",
     "exception": false,
     "start_time": "2023-05-03T17:40:15.378477",
     "status": "completed"
    },
    "tags": []
   },
   "outputs": [
    {
     "name": "stdout",
     "output_type": "stream",
     "text": [
      "household problem in ss solved in 15.6 secs [2521 iterations]\n"
     ]
    },
    {
     "name": "stdout",
     "output_type": "stream",
     "text": [
      "household problem in ss simulated in 4.1 secs [1752 iterations]\n",
      "\n",
      "par.HtM_share =  0.376\n",
      "par.PIH_share =  0.0\n",
      "1-par.HtM_share-par.PIH_share =  0.624\n",
      "par.beta_max**12 = 0.971\n",
      "ss.U_UI_hh/ss.u*100 = 39.00 [par.UI_of_u_share_target = 39.00]\n",
      "\n"
     ]
    },
    {
     "name": "stdout",
     "output_type": "stream",
     "text": [
      "MPC_qtr                   =     40.7 | vec: [100.0 4.9 nan ]\n",
      "C_drop_ss                 =    -19.9 | vec: [-36.8 -9.7 nan ]\n",
      "C_drop_ex                 =    -43.1 | vec: [-100.0 -8.8 nan ]\n",
      "A_hh                      =      1.0 | vec: [0.0 1.6 nan ]\n",
      "moments in ss calculated in 7.2 secs\n",
      "MPC_qtr = 40.7\n",
      "C_drop_ss = -19.9\n",
      "C_drop_ex_ss = -43.1\n",
      "\n",
      "ss.delta = 0.019\n",
      "ss.lambda_u = 0.306\n",
      "ss.qB/ss.Y_hh = 2.118\n",
      "ss.qB/ss.Y = 1.065\n",
      "ss.div/ss.Y = 0.309\n",
      "ss.C_hh/ss.Y = 0.505\n",
      "ss.C_cap/ss.Y = 0.309\n",
      "ss.G/ss.Y = 0.187\n",
      "ss.clearing_Y =   0.00000000\n",
      "steady state found in 27.5 secs\n"
     ]
    }
   ],
   "source": [
    "model.find_ss(calib_beta=False,do_print=True)"
   ]
  },
  {
   "cell_type": "markdown",
   "id": "05d23f53",
   "metadata": {
    "papermill": {
     "duration": 0.006005,
     "end_time": "2023-05-03T17:40:43.057365",
     "exception": false,
     "start_time": "2023-05-03T17:40:43.051360",
     "status": "completed"
    },
    "tags": []
   },
   "source": [
    "## 2. <a id='toc2_'></a>[Endogenous search](#toc0_)"
   ]
  },
  {
   "cell_type": "code",
   "execution_count": 5,
   "id": "81819342",
   "metadata": {
    "execution": {
     "iopub.execute_input": "2023-05-03T17:40:43.069374Z",
     "iopub.status.busy": "2023-05-03T17:40:43.068375Z",
     "iopub.status.idle": "2023-05-03T17:40:45.579408Z",
     "shell.execute_reply": "2023-05-03T17:40:45.578407Z"
    },
    "papermill": {
     "duration": 2.522043,
     "end_time": "2023-05-03T17:40:45.583411",
     "exception": false,
     "start_time": "2023-05-03T17:40:43.061368",
     "status": "completed"
    },
    "tags": []
   },
   "outputs": [],
   "source": [
    "model_ = model.copy()\n",
    "model_.name = 'endogenous_search'\n",
    "model_.par.exo_search = False\n",
    "model_.par.do_vbeg = True"
   ]
  },
  {
   "cell_type": "code",
   "execution_count": 6,
   "id": "d83c61ba",
   "metadata": {
    "execution": {
     "iopub.execute_input": "2023-05-03T17:40:45.604471Z",
     "iopub.status.busy": "2023-05-03T17:40:45.603472Z",
     "iopub.status.idle": "2023-05-03T17:45:50.759048Z",
     "shell.execute_reply": "2023-05-03T17:45:50.756046Z"
    },
    "papermill": {
     "duration": 305.178579,
     "end_time": "2023-05-03T17:45:50.774059",
     "exception": false,
     "start_time": "2023-05-03T17:40:45.595480",
     "status": "completed"
    },
    "tags": []
   },
   "outputs": [
    {
     "name": "stdout",
     "output_type": "stream",
     "text": [
      "par.zeta = 0.10000 -> "
     ]
    },
    {
     "name": "stdout",
     "output_type": "stream",
     "text": [
      "ss.U_ALL_hh-ss.u = -6.5e-03\n",
      "par.zeta = 10.00000 -> "
     ]
    },
    {
     "name": "stdout",
     "output_type": "stream",
     "text": [
      "ss.U_ALL_hh-ss.u = 1.1e-02\n",
      "par.zeta = 3.89026 -> "
     ]
    },
    {
     "name": "stdout",
     "output_type": "stream",
     "text": [
      "ss.U_ALL_hh-ss.u = 6.7e-03\n",
      "par.zeta = 1.96801 -> "
     ]
    },
    {
     "name": "stdout",
     "output_type": "stream",
     "text": [
      "ss.U_ALL_hh-ss.u = 4.1e-03\n",
      "par.zeta = 1.25022 -> "
     ]
    },
    {
     "name": "stdout",
     "output_type": "stream",
     "text": [
      "ss.U_ALL_hh-ss.u = 2.4e-03\n",
      "par.zeta = 0.52406 -> "
     ]
    },
    {
     "name": "stdout",
     "output_type": "stream",
     "text": [
      "ss.U_ALL_hh-ss.u = -8.2e-04\n",
      "par.zeta = 0.71160 -> "
     ]
    },
    {
     "name": "stdout",
     "output_type": "stream",
     "text": [
      "ss.U_ALL_hh-ss.u = 2.8e-04\n",
      "par.zeta = 0.66360 -> "
     ]
    },
    {
     "name": "stdout",
     "output_type": "stream",
     "text": [
      "ss.U_ALL_hh-ss.u = 2.9e-05\n",
      "par.zeta = 0.65827 -> "
     ]
    },
    {
     "name": "stdout",
     "output_type": "stream",
     "text": [
      "ss.U_ALL_hh-ss.u = -7.2e-08\n",
      "par.zeta = 0.65829 -> "
     ]
    },
    {
     "name": "stdout",
     "output_type": "stream",
     "text": [
      "ss.U_ALL_hh-ss.u = 2.8e-10\n",
      "par.zeta = 0.65829 -> "
     ]
    },
    {
     "name": "stdout",
     "output_type": "stream",
     "text": [
      "ss.U_ALL_hh-ss.u = 3.1e-15\n",
      "par.zeta = 0.65829 -> "
     ]
    },
    {
     "name": "stdout",
     "output_type": "stream",
     "text": [
      "ss.U_ALL_hh-ss.u = -9.0e-17\n",
      "par.zeta = 0.65829 -> "
     ]
    },
    {
     "name": "stdout",
     "output_type": "stream",
     "text": [
      "ss.U_ALL_hh-ss.u = -9.0e-17\n",
      "\n",
      "par.HtM_share =  0.376\n",
      "par.PIH_share =  0.0\n",
      "1-par.HtM_share-par.PIH_share =  0.624\n",
      "par.beta_max**12 = 0.971\n",
      "ss.U_UI_hh/ss.u*100 = 39.30 [par.UI_of_u_share_target = 39.00]\n",
      "\n"
     ]
    },
    {
     "name": "stdout",
     "output_type": "stream",
     "text": [
      "MPC_qtr                   =     40.6 | vec: [99.8 5.0 nan ]\n",
      "C_drop_ss                 =    -20.5 | vec: [-36.9 -9.4 nan ]\n",
      "C_drop_ex                 =    -47.5 | vec: [-100.0 -9.3 nan ]\n",
      "A_hh                      =      0.9 | vec: [0.0 1.5 nan ]\n",
      "moments in ss calculated in 4.9 secs\n",
      "MPC_qtr = 40.6\n",
      "C_drop_ss = -20.5\n",
      "C_drop_ex_ss = -47.5\n",
      "\n",
      "ss.delta = 0.019\n",
      "ss.lambda_u = 0.306\n",
      "ss.qB/ss.Y_hh = 2.000\n",
      "ss.qB/ss.Y = 1.006\n",
      "ss.div/ss.Y = 0.309\n",
      "ss.C_hh/ss.Y = 0.505\n",
      "ss.C_cap/ss.Y = 0.309\n",
      "ss.G/ss.Y = 0.187\n",
      "ss.clearing_Y =   0.00000000\n",
      "steady state found in 2.0 mins 20 secs\n",
      "\n"
     ]
    },
    {
     "name": "stdout",
     "output_type": "stream",
     "text": [
      "MPC_qtr                   =      40.6300\n",
      "C_drop_ss                 =     -20.4563\n",
      "C_drop_ex                 =     -47.5315\n",
      "A_hh                      =       0.9471\n",
      "w_share                   =      82.9560\n",
      "var_u                     =       0.7822\n",
      "std_W                     =       0.0000\n",
      "timeshift                 =       9.0000\n",
      "timeshift_obj             =       0.0000\n",
      "EU_share                  =      47.7749\n",
      "\n"
     ]
    }
   ],
   "source": [
    "model_.par.nu = 20.0\n",
    "model_.full_run(do_print=True,do_print_full=True)"
   ]
  },
  {
   "cell_type": "markdown",
   "id": "a9cbf6fb",
   "metadata": {
    "papermill": {
     "duration": 0.007006,
     "end_time": "2023-05-03T17:45:50.795077",
     "exception": false,
     "start_time": "2023-05-03T17:45:50.788071",
     "status": "completed"
    },
    "tags": []
   },
   "source": [
    "### 2.1. <a id='toc2_1_'></a>[Steady state](#toc0_)"
   ]
  },
  {
   "cell_type": "code",
   "execution_count": 7,
   "id": "4312c841",
   "metadata": {
    "execution": {
     "iopub.execute_input": "2023-05-03T17:45:50.809132Z",
     "iopub.status.busy": "2023-05-03T17:45:50.808131Z",
     "iopub.status.idle": "2023-05-03T17:45:50.933191Z",
     "shell.execute_reply": "2023-05-03T17:45:50.932190Z"
    },
    "papermill": {
     "duration": 0.135111,
     "end_time": "2023-05-03T17:45:50.936193",
     "exception": false,
     "start_time": "2023-05-03T17:45:50.801082",
     "status": "completed"
    },
    "tags": []
   },
   "outputs": [
    {
     "name": "stdout",
     "output_type": "stream",
     "text": [
      "0.05876582807299259\n",
      "0.058765828072992604\n"
     ]
    }
   ],
   "source": [
    "for i_fix in range(2):\n",
    "    print(np.sum(model.ss.D[i_fix,1:,:]/np.sum(model.ss.D[i_fix,:,:])))"
   ]
  },
  {
   "cell_type": "code",
   "execution_count": 8,
   "id": "883ec7b7",
   "metadata": {
    "execution": {
     "iopub.execute_input": "2023-05-03T17:45:50.960256Z",
     "iopub.status.busy": "2023-05-03T17:45:50.959256Z",
     "iopub.status.idle": "2023-05-03T17:45:51.081312Z",
     "shell.execute_reply": "2023-05-03T17:45:51.080312Z"
    },
    "papermill": {
     "duration": 0.135069,
     "end_time": "2023-05-03T17:45:51.085316",
     "exception": false,
     "start_time": "2023-05-03T17:45:50.950247",
     "status": "completed"
    },
    "tags": []
   },
   "outputs": [
    {
     "name": "stdout",
     "output_type": "stream",
     "text": [
      "0.06243094325828844\n",
      "0.05655812178482517\n"
     ]
    }
   ],
   "source": [
    "for i_fix in range(2):\n",
    "    print(np.sum(model_.ss.D[i_fix,1:,:]/np.sum(model_.ss.D[i_fix,:,:])))"
   ]
  },
  {
   "cell_type": "code",
   "execution_count": 9,
   "id": "4071abf1",
   "metadata": {
    "execution": {
     "iopub.execute_input": "2023-05-03T17:45:51.107379Z",
     "iopub.status.busy": "2023-05-03T17:45:51.106376Z",
     "iopub.status.idle": "2023-05-03T17:45:52.042102Z",
     "shell.execute_reply": "2023-05-03T17:45:52.041101Z"
    },
    "papermill": {
     "duration": 0.948727,
     "end_time": "2023-05-03T17:45:52.046105",
     "exception": false,
     "start_time": "2023-05-03T17:45:51.097378",
     "status": "completed"
    },
    "tags": []
   },
   "outputs": [
    {
     "data": {
      "image/png": "[encoded data removed]",
      "text/plain": [
       "<Figure size 600x400 with 1 Axes>"
      ]
     },
     "metadata": {},
     "output_type": "display_data"
    }
   ],
   "source": [
    "fig,ax = create_fig()\n",
    "for i_u in [1,2,4,8,12]:\n",
    "    ax.plot(model_.par.a_grid,model_.ss.s[1,i_u,:],label=f'month = {i_u}')\n",
    "\n",
    "ax.legend()\n",
    "ax.set_xlim([0,10])\n",
    "ax.set_xlabel('assets, $a_{t}$')\n",
    "\n",
    "fig.tight_layout()\n",
    "fig.savefig('results/endo_search.pdf')"
   ]
  },
  {
   "cell_type": "code",
   "execution_count": 10,
   "id": "e33cedb4",
   "metadata": {
    "execution": {
     "iopub.execute_input": "2023-05-03T17:45:52.069125Z",
     "iopub.status.busy": "2023-05-03T17:45:52.068124Z",
     "iopub.status.idle": "2023-05-03T17:45:52.202233Z",
     "shell.execute_reply": "2023-05-03T17:45:52.201233Z"
    },
    "papermill": {
     "duration": 0.146073,
     "end_time": "2023-05-03T17:45:52.206236",
     "exception": false,
     "start_time": "2023-05-03T17:45:52.060163",
     "status": "completed"
    },
    "tags": []
   },
   "outputs": [],
   "source": [
    "share_of_u = [np.sum(model.ss.D[model.par.i_u_hh == i_u])/model.ss.u for i_u in range(1,model.par.Nu+1)]\n",
    "share_of_u_new = [np.sum(model_.ss.D[model_.par.i_u_hh == i_u])/model_.ss.u for i_u in range(1,model_.par.Nu+1)]"
   ]
  },
  {
   "cell_type": "code",
   "execution_count": 11,
   "id": "d83d76f6",
   "metadata": {
    "execution": {
     "iopub.execute_input": "2023-05-03T17:45:52.228255Z",
     "iopub.status.busy": "2023-05-03T17:45:52.227255Z",
     "iopub.status.idle": "2023-05-03T17:45:52.610615Z",
     "shell.execute_reply": "2023-05-03T17:45:52.609568Z"
    },
    "papermill": {
     "duration": 0.395366,
     "end_time": "2023-05-03T17:45:52.614617",
     "exception": false,
     "start_time": "2023-05-03T17:45:52.219251",
     "status": "completed"
    },
    "tags": []
   },
   "outputs": [
    {
     "data": {
      "image/png": "[encoded data removed]",
      "text/plain": [
       "<Figure size 600x400 with 1 Axes>"
      ]
     },
     "metadata": {},
     "output_type": "display_data"
    }
   ],
   "source": [
    "fig,ax = create_fig()\n",
    "ax.plot(np.arange(1,model.par.Nu),share_of_u[:-1],label='baseline')\n",
    "ax.plot(np.arange(1,model.par.Nu),share_of_u_new[:-1],label='endo. search')\n",
    "\n",
    "ax.legend()\n",
    "ax.set_xlabel('assets, $a_{t}$')\n",
    "ax.set_ylabel('share of unemployed')\n",
    "ax.set_xticks(np.arange(1,model.par.Nu))\n",
    "fig.tight_layout()\n",
    "fig.savefig('results/endo_search_share_of_u.pdf')"
   ]
  },
  {
   "cell_type": "markdown",
   "id": "480f26c2",
   "metadata": {
    "papermill": {
     "duration": 0.008008,
     "end_time": "2023-05-03T17:45:52.636634",
     "exception": false,
     "start_time": "2023-05-03T17:45:52.628626",
     "status": "completed"
    },
    "tags": []
   },
   "source": [
    "### 2.2. <a id='toc2_2_'></a>[Policies](#toc0_)"
   ]
  },
  {
   "cell_type": "code",
   "execution_count": 12,
   "id": "fb267a0c",
   "metadata": {
    "execution": {
     "iopub.execute_input": "2023-05-03T17:45:52.650651Z",
     "iopub.status.busy": "2023-05-03T17:45:52.649646Z",
     "iopub.status.idle": "2023-05-03T17:49:34.742799Z",
     "shell.execute_reply": "2023-05-03T17:49:34.741801Z"
    },
    "papermill": {
     "duration": 222.120177,
     "end_time": "2023-05-03T17:49:34.762816",
     "exception": false,
     "start_time": "2023-05-03T17:45:52.642639",
     "status": "completed"
    },
    "tags": []
   },
   "outputs": [
    {
     "name": "stdout",
     "output_type": "stream",
     "text": [
      "basepol = 'G'"
     ]
    },
    {
     "name": "stdout",
     "output_type": "stream",
     "text": [
      "\n",
      " hh_transfer"
     ]
    },
    {
     "name": "stdout",
     "output_type": "stream",
     "text": [
      "\n",
      " retention_subsidy"
     ]
    },
    {
     "name": "stdout",
     "output_type": "stream",
     "text": [
      "\n",
      " hiring_subsidy"
     ]
    },
    {
     "name": "stdout",
     "output_type": "stream",
     "text": [
      "\n",
      " phi_obar"
     ]
    },
    {
     "name": "stdout",
     "output_type": "stream",
     "text": [
      " failed, GEModelTools: No improvement for 5 iterations\n"
     ]
    },
    {
     "name": "stdout",
     "output_type": "stream",
     "text": [
      " u_bar"
     ]
    },
    {
     "name": "stdout",
     "output_type": "stream",
     "text": [
      " failed, GEModelTools: No improvement for 5 iterations\n"
     ]
    }
   ],
   "source": [
    "pols = ['G','hh_transfer','retention_subsidy','hiring_subsidy','phi_obar','u_bar']\n",
    "policy.policies(model_,pols,do_print=True) "
   ]
  },
  {
   "cell_type": "code",
   "execution_count": 13,
   "id": "cde71b0a",
   "metadata": {
    "execution": {
     "iopub.execute_input": "2023-05-03T17:49:34.793842Z",
     "iopub.status.busy": "2023-05-03T17:49:34.792841Z",
     "iopub.status.idle": "2023-05-03T17:49:34.923949Z",
     "shell.execute_reply": "2023-05-03T17:49:34.922948Z"
    },
    "papermill": {
     "duration": 0.14516,
     "end_time": "2023-05-03T17:49:34.926994",
     "exception": false,
     "start_time": "2023-05-03T17:49:34.781834",
     "status": "completed"
    },
    "tags": []
   },
   "outputs": [],
   "source": [
    "pol_models = policy.load_pol_models(['baseline','endogenous_search'],pols)"
   ]
  },
  {
   "cell_type": "code",
   "execution_count": 14,
   "id": "46e4879d",
   "metadata": {
    "execution": {
     "iopub.execute_input": "2023-05-03T17:49:34.952973Z",
     "iopub.status.busy": "2023-05-03T17:49:34.951973Z",
     "iopub.status.idle": "2023-05-03T17:49:35.172154Z",
     "shell.execute_reply": "2023-05-03T17:49:35.171153Z"
    },
    "papermill": {
     "duration": 0.233194,
     "end_time": "2023-05-03T17:49:35.175159",
     "exception": false,
     "start_time": "2023-05-03T17:49:34.941965",
     "status": "completed"
    },
    "tags": []
   },
   "outputs": [
    {
     "data": {
      "text/html": [
       "<div>\n",
       "<style scoped>\n",
       "    .dataframe tbody tr th:only-of-type {\n",
       "        vertical-align: middle;\n",
       "    }\n",
       "\n",
       "    .dataframe tbody tr th {\n",
       "        vertical-align: top;\n",
       "    }\n",
       "\n",
       "    .dataframe thead th {\n",
       "        text-align: right;\n",
       "    }\n",
       "</style>\n",
       "<table border=\"1\" class=\"dataframe\">\n",
       "  <thead>\n",
       "    <tr style=\"text-align: right;\">\n",
       "      <th></th>\n",
       "      <th></th>\n",
       "      <th>G</th>\n",
       "      <th>transfer</th>\n",
       "      <th>retention</th>\n",
       "      <th>hiring</th>\n",
       "      <th>UI level</th>\n",
       "      <th>UI duration</th>\n",
       "    </tr>\n",
       "  </thead>\n",
       "  <tbody>\n",
       "    <tr>\n",
       "      <th>0</th>\n",
       "      <td>baseline</td>\n",
       "      <td>1.0 [0.60]</td>\n",
       "      <td>0.19</td>\n",
       "      <td>1.72</td>\n",
       "      <td>1.17</td>\n",
       "      <td>0.41</td>\n",
       "      <td>1.00</td>\n",
       "    </tr>\n",
       "    <tr>\n",
       "      <th>1</th>\n",
       "      <td>endogenous_search</td>\n",
       "      <td>1.0 [0.60]</td>\n",
       "      <td>0.15</td>\n",
       "      <td>1.67</td>\n",
       "      <td>1.13</td>\n",
       "      <td></td>\n",
       "      <td></td>\n",
       "    </tr>\n",
       "  </tbody>\n",
       "</table>\n",
       "</div>"
      ],
      "text/plain": [
       "                               G transfer retention hiring UI level  \\\n",
       "0           baseline  1.0 [0.60]     0.19      1.72   1.17     0.41   \n",
       "1  endogenous_search  1.0 [0.60]     0.15      1.67   1.13            \n",
       "\n",
       "  UI duration  \n",
       "0        1.00  \n",
       "1              "
      ]
     },
     "metadata": {},
     "output_type": "display_data"
    }
   ],
   "source": [
    "df = policy.fiscal_multipliers(pol_models,tex='endo_search',do_rel=True,not_G_rel=True)"
   ]
  }
 ],
 "metadata": {
  "kernelspec": {
   "display_name": "Python 3",
   "language": "python",
   "name": "python3"
  },
  "language_info": {
   "codemirror_mode": {
    "name": "ipython",
    "version": 3
   },
   "file_extension": ".py",
   "mimetype": "text/x-python",
   "name": "python",
   "nbconvert_exporter": "python",
   "pygments_lexer": "ipython3",
   "version": "3.9.16"
  },
  "papermill": {
   "default_parameters": {},
   "duration": 576.872661,
   "end_time": "2023-05-03T17:49:38.364842",
   "environment_variables": {},
   "exception": null,
   "input_path": "03c. Post - Endogenous search.ipynb",
   "output_path": "temp_notebooks/03c. Post - Endogenous search.ipynb",
   "parameters": {},
   "start_time": "2023-05-03T17:40:01.492181",
   "version": "2.4.0"
  },
  "toc-autonumbering": true,
  "vscode": {
   "interpreter": {
    "hash": "47ef90cdf3004d3f859f1fb202523c65c07ba7c22eefd261b181f4744e2d0403"
   }
  }
 },
 "nbformat": 4,
 "nbformat_minor": 5
}