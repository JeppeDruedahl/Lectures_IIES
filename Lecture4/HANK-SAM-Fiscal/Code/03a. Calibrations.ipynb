{
 "cells": [
  {
   "attachments": {},
   "cell_type": "markdown",
   "id": "ce42cbba",
   "metadata": {
    "papermill": {
     "duration": 0.009008,
     "end_time": "2023-05-03T15:06:24.436525",
     "exception": false,
     "start_time": "2023-05-03T15:06:24.427517",
     "status": "completed"
    },
    "tags": []
   },
   "source": [
    "# Calibrations"
   ]
  },
  {
   "cell_type": "markdown",
   "id": "99e50454",
   "metadata": {
    "papermill": {
     "duration": 0.004962,
     "end_time": "2023-05-03T15:06:24.448493",
     "exception": false,
     "start_time": "2023-05-03T15:06:24.443531",
     "status": "completed"
    },
    "tags": []
   },
   "source": [
    "**Table of contents**<a id='toc0_'></a>    \n",
    "- 1. [Settings](#toc1_)    \n",
    "- 2. [Setup calibrations](#toc2_)    \n",
    "- 3. [Run calibrations](#toc3_)    \n",
    "\n",
    "<!-- vscode-jupyter-toc-config\n",
    "\tnumbering=true\n",
    "\tanchor=true\n",
    "\tflat=false\n",
    "\tminLevel=2\n",
    "\tmaxLevel=6\n",
    "\t/vscode-jupyter-toc-config -->\n",
    "<!-- THIS CELL WILL BE REPLACED ON TOC UPDATE. DO NOT WRITE YOUR TEXT IN THIS CELL -->"
   ]
  },
  {
   "cell_type": "code",
   "execution_count": 1,
   "id": "70a674ca",
   "metadata": {
    "execution": {
     "iopub.execute_input": "2023-05-03T15:06:24.457500Z",
     "iopub.status.busy": "2023-05-03T15:06:24.456500Z",
     "iopub.status.idle": "2023-05-03T15:06:31.845659Z",
     "shell.execute_reply": "2023-05-03T15:06:31.844657Z"
    },
    "papermill": {
     "duration": 7.398162,
     "end_time": "2023-05-03T15:06:31.849657",
     "exception": false,
     "start_time": "2023-05-03T15:06:24.451495",
     "status": "completed"
    },
    "tags": []
   },
   "outputs": [],
   "source": [
    "%load_ext autoreload\n",
    "%autoreload 2\n",
    "\n",
    "import pickle\n",
    "\n",
    "import numpy as np\n",
    "import matplotlib.pyplot as plt\n",
    "\n",
    "from FullHANKSAMModel import FullHANKSAMModelClass\n",
    "import policy"
   ]
  },
  {
   "cell_type": "markdown",
   "id": "fac04130",
   "metadata": {
    "papermill": {
     "duration": 0.004999,
     "end_time": "2023-05-03T15:06:31.864669",
     "exception": false,
     "start_time": "2023-05-03T15:06:31.859670",
     "status": "completed"
    },
    "tags": []
   },
   "source": [
    "## 1. <a id='toc1_'></a>[Settings](#toc0_)"
   ]
  },
  {
   "cell_type": "code",
   "execution_count": 2,
   "id": "8ea5ccbb-2989-4c86-82c4-6475da2225c1",
   "metadata": {
    "execution": {
     "iopub.execute_input": "2023-05-03T15:06:31.875636Z",
     "iopub.status.busy": "2023-05-03T15:06:31.874636Z",
     "iopub.status.idle": "2023-05-03T15:06:32.015797Z",
     "shell.execute_reply": "2023-05-03T15:06:32.015797Z"
    },
    "papermill": {
     "duration": 0.151121,
     "end_time": "2023-05-03T15:06:32.019799",
     "exception": false,
     "start_time": "2023-05-03T15:06:31.868678",
     "status": "completed"
    },
    "tags": []
   },
   "outputs": [],
   "source": [
    "basemodel = FullHANKSAMModelClass(name='baseline')\n",
    "basemodel.load()"
   ]
  },
  {
   "cell_type": "code",
   "execution_count": 3,
   "id": "4b36d52f-6aaa-4722-87d4-70448b6ff21f",
   "metadata": {
    "execution": {
     "iopub.execute_input": "2023-05-03T15:06:32.036828Z",
     "iopub.status.busy": "2023-05-03T15:06:32.035769Z",
     "iopub.status.idle": "2023-05-03T15:06:53.676661Z",
     "shell.execute_reply": "2023-05-03T15:06:53.676661Z"
    },
    "papermill": {
     "duration": 21.648854,
     "end_time": "2023-05-03T15:06:53.678662",
     "exception": false,
     "start_time": "2023-05-03T15:06:32.029808",
     "status": "completed"
    },
    "tags": []
   },
   "outputs": [],
   "source": [
    "basemodel.find_ss(calib_beta=False)"
   ]
  },
  {
   "cell_type": "code",
   "execution_count": 4,
   "id": "2b6a47f0-5c90-4b0b-85f7-1fc8ac4ea8c4",
   "metadata": {
    "execution": {
     "iopub.execute_input": "2023-05-03T15:06:53.687669Z",
     "iopub.status.busy": "2023-05-03T15:06:53.687669Z",
     "iopub.status.idle": "2023-05-03T15:06:53.820825Z",
     "shell.execute_reply": "2023-05-03T15:06:53.819825Z"
    },
    "papermill": {
     "duration": 0.141162,
     "end_time": "2023-05-03T15:06:53.823827",
     "exception": false,
     "start_time": "2023-05-03T15:06:53.682665",
     "status": "completed"
    },
    "tags": []
   },
   "outputs": [
    {
     "name": "stdout",
     "output_type": "stream",
     "text": [
      "lowest possible real interest rate: 0.9738490325502225\n"
     ]
    }
   ],
   "source": [
    "par = basemodel.par\n",
    "ss = basemodel.ss\n",
    "\n",
    "prob_unemp = ss.delta\n",
    "MUC_today = par.w_ss**(-par.sigma)\n",
    "MUC_tmw = par.beta_max*(prob_unemp*par.UI_prob*(par.phi_obar_ss*par.w_ss)**(-par.sigma) \n",
    "                       + prob_unemp*(1-par.UI_prob)*(par.phi_ubar*par.w_ss)**(-par.sigma)\n",
    "                       + (1-prob_unemp)*par.w_ss**(-par.sigma))\n",
    "\n",
    "RealR_lower_bound = MUC_today/MUC_tmw\n",
    "\n",
    "print('lowest possible real interest rate:', RealR_lower_bound)"
   ]
  },
  {
   "cell_type": "code",
   "execution_count": 5,
   "id": "f5952c82",
   "metadata": {
    "execution": {
     "iopub.execute_input": "2023-05-03T15:06:53.840799Z",
     "iopub.status.busy": "2023-05-03T15:06:53.840799Z",
     "iopub.status.idle": "2023-05-03T15:06:53.967909Z",
     "shell.execute_reply": "2023-05-03T15:06:53.966947Z"
    },
    "papermill": {
     "duration": 0.137114,
     "end_time": "2023-05-03T15:06:53.970948",
     "exception": false,
     "start_time": "2023-05-03T15:06:53.833834",
     "status": "completed"
    },
    "tags": []
   },
   "outputs": [
    {
     "name": "stdout",
     "output_type": "stream",
     "text": [
      "par.psi = 1.6978\n",
      "par.xi = 0.0147\n",
      "par.w_ss = 0.6913\n"
     ]
    }
   ],
   "source": [
    "par = basemodel.par\n",
    "print(f'{par.psi = }')\n",
    "print(f'{par.xi = }')\n",
    "print(f'{par.w_ss = }')"
   ]
  },
  {
   "cell_type": "code",
   "execution_count": 6,
   "id": "7794c99a",
   "metadata": {
    "execution": {
     "iopub.execute_input": "2023-05-03T15:06:53.989964Z",
     "iopub.status.busy": "2023-05-03T15:06:53.989964Z",
     "iopub.status.idle": "2023-05-03T15:06:54.108019Z",
     "shell.execute_reply": "2023-05-03T15:06:54.108019Z"
    },
    "papermill": {
     "duration": 0.130061,
     "end_time": "2023-05-03T15:06:54.112021",
     "exception": false,
     "start_time": "2023-05-03T15:06:53.981960",
     "status": "completed"
    },
    "tags": []
   },
   "outputs": [],
   "source": [
    "par = basemodel.par\n",
    "\n",
    "model_specs = {\n",
    "\n",
    "    # liquidity (perhaps add more later)\n",
    "    'high_liq':{'pardict':{'RealR_ss':par.RealR_ss+0.0005}},\n",
    "    'mid_liq':{'pardict':{'RealR_ss':par.RealR_ss-0.0005}},\n",
    "    'low_liq':{'pardict':{'RealR_ss':par.RealR_ss-0.0010}}, # RealR_lower_bound+0.001\n",
    "\n",
    "    # HtM\n",
    "    'high_HtM_share_recalib_beta':{'pardict':{'HtM_share':par.HtM_share+0.05},'recalib_beta':True},\n",
    "    'low_HtM_share_recalib_beta':{'pardict':{'HtM_share':par.HtM_share-0.05},'recalib_beta':True},\n",
    "\n",
    "    # labor market\n",
    "    'free_entry':{'pardict':{'xi':np.inf}},\n",
    "    'exo_sep':{'pardict':{'psi':0.0}},\n",
    "\n",
    "    # dividends\n",
    "     'div_HtM':{'pardict':{'div_hh':0.0}},    \n",
    "     'div_PIH':{'pardict':{'PIH_share':0.05,'div_PIH':0.50}},\n",
    "     'div_return':{'pardict':{'div_return':True}}, \n",
    "\n",
    "    'div_HtM_calibrate_path':{'pardict':{'div_hh':0.0,'psi':1.2502,'xi':0.0151,'w_ss':0.5851},'calib_path':True},    \n",
    "    #'div_return_calibrate_path':{'pardict':{'div_return':True,'psi':1.9431,'xi':0.0167,'w_ss':0.7247},'calib_path':True,'calib_path_ini':True}, \n",
    "    'div_PIH_calibrate_beta_path_half':{'pardict':{'PIH_share':0.05,'div_PIH':0.50,'psi':1.9431,'xi':0.0167,'w_ss':0.7247},'calib_beta':True,'calib_path':True},\n",
    "}"
   ]
  },
  {
   "cell_type": "code",
   "execution_count": 7,
   "id": "b4ed3eee",
   "metadata": {
    "execution": {
     "iopub.execute_input": "2023-05-03T15:06:54.132084Z",
     "iopub.status.busy": "2023-05-03T15:06:54.131085Z",
     "iopub.status.idle": "2023-05-03T15:06:54.278210Z",
     "shell.execute_reply": "2023-05-03T15:06:54.278210Z"
    },
    "papermill": {
     "duration": 0.160133,
     "end_time": "2023-05-03T15:06:54.282207",
     "exception": false,
     "start_time": "2023-05-03T15:06:54.122074",
     "status": "completed"
    },
    "tags": []
   },
   "outputs": [],
   "source": [
    "with open(f'saved/model_names.p', 'wb') as f:\n",
    "    pickle.dump(['baseline'] + [k for k in model_specs.keys()], f)"
   ]
  },
  {
   "attachments": {},
   "cell_type": "markdown",
   "id": "bd50ad16",
   "metadata": {
    "papermill": {
     "duration": 0.006006,
     "end_time": "2023-05-03T15:06:54.297220",
     "exception": false,
     "start_time": "2023-05-03T15:06:54.291214",
     "status": "completed"
    },
    "tags": []
   },
   "source": [
    "## 2. <a id='toc2_'></a>[Create models and run calibrations](#toc0_)"
   ]
  },
  {
   "cell_type": "code",
   "execution_count": 8,
   "id": "ceb406cf",
   "metadata": {
    "execution": {
     "iopub.execute_input": "2023-05-03T15:06:54.307184Z",
     "iopub.status.busy": "2023-05-03T15:06:54.306184Z",
     "iopub.status.idle": "2023-05-03T15:25:42.303275Z",
     "shell.execute_reply": "2023-05-03T15:25:42.302274Z"
    },
    "papermill": {
     "duration": 1128.016107,
     "end_time": "2023-05-03T15:25:42.317286",
     "exception": false,
     "start_time": "2023-05-03T15:06:54.301179",
     "status": "completed"
    },
    "tags": []
   },
   "outputs": [
    {
     "name": "stdout",
     "output_type": "stream",
     "text": [
      "### high_liq ###\n"
     ]
    },
    {
     "name": "stdout",
     "output_type": "stream",
     "text": [
      "### mid_liq ###\n"
     ]
    },
    {
     "name": "stdout",
     "output_type": "stream",
     "text": [
      "### low_liq ###\n"
     ]
    },
    {
     "name": "stdout",
     "output_type": "stream",
     "text": [
      "### high_HtM_share_recalib_beta ###\n"
     ]
    },
    {
     "name": "stdout",
     "output_type": "stream",
     "text": [
      "\n"
     ]
    },
    {
     "name": "stdout",
     "output_type": "stream",
     "text": [
      "x = [0.99758,]: "
     ]
    },
    {
     "name": "stdout",
     "output_type": "stream",
     "text": [
      "  0.05906772, [C_drop_ss = -20.2]\n",
      "x = [1.00000,]: "
     ]
    },
    {
     "name": "stdout",
     "output_type": "stream",
     "text": [
      "  0.13443203, [C_drop_ss = -19.6]\n",
      "x = [0.99517,]: "
     ]
    },
    {
     "name": "stdout",
     "output_type": "stream",
     "text": [
      "  0.62487884, [C_drop_ss = -20.8]\n",
      "x = [0.99879,]: "
     ]
    },
    {
     "name": "stdout",
     "output_type": "stream",
     "text": [
      "  0.00279420, [C_drop_ss = -19.9]\n",
      "calibration stopped\n",
      "\n",
      "par.HtM_share =  0.426\n",
      "par.PIH_share =  0.0\n",
      "1-par.HtM_share-par.PIH_share =  0.574\n",
      "par.beta_max**12 = 0.975\n",
      "ss.U_UI_hh/ss.u*100 = 39.00 [par.UI_of_u_share_target = 39.00]\n",
      "calibration obj.: < 0.0\n",
      "\n"
     ]
    },
    {
     "name": "stdout",
     "output_type": "stream",
     "text": [
      "MPC_qtr                   =     44.7 | vec: [100.0 3.7 nan ]\n",
      "C_drop_ss                 =    -19.9 | vec: [-36.8 -7.3 nan ]\n",
      "C_drop_ex                 =    -46.3 | vec: [-100.0 -6.5 nan ]\n",
      "A_hh                      =      1.2 | vec: [0.0 2.1 nan ]\n",
      "moments in ss calculated in 1.9 secs\n",
      "MPC_qtr = 44.7\n",
      "C_drop_ss = -19.9\n",
      "C_drop_ex_ss = -46.3\n",
      "\n",
      "ss.delta = 0.019\n",
      "ss.lambda_u = 0.306\n",
      "ss.qB/ss.Y_hh = 2.526\n",
      "ss.qB/ss.Y = 1.271\n",
      "ss.div/ss.Y = 0.309\n",
      "ss.C_hh/ss.Y = 0.505\n",
      "ss.C_cap/ss.Y = 0.309\n",
      "ss.G/ss.Y = 0.186\n",
      "ss.clearing_Y =   0.00000000\n",
      "steady state found in 50.9 secs\n",
      "\n"
     ]
    },
    {
     "name": "stdout",
     "output_type": "stream",
     "text": [
      "MPC_qtr                   =      44.7281\n",
      "C_drop_ss                 =     -19.9471\n",
      "C_drop_ex                 =     -46.3282\n",
      "A_hh                      =       1.1961\n",
      "w_share                   =      82.9560\n",
      "var_u                     =       0.7897\n",
      "std_W                     =       0.0000\n",
      "timeshift                 =      10.0000\n",
      "timeshift_obj             =       0.0497\n",
      "EU_share                  =      44.7157\n",
      "\n",
      "### low_HtM_share_recalib_beta ###\n"
     ]
    },
    {
     "name": "stdout",
     "output_type": "stream",
     "text": [
      "\n"
     ]
    },
    {
     "name": "stdout",
     "output_type": "stream",
     "text": [
      "x = [0.99758,]: "
     ]
    },
    {
     "name": "stdout",
     "output_type": "stream",
     "text": [
      "  7.09221711, [C_drop_ss = -17.3]\n",
      "x = [1.00000,]: "
     ]
    },
    {
     "name": "stdout",
     "output_type": "stream",
     "text": [
      " 11.41903570, [C_drop_ss = -16.6]\n",
      "x = [0.99517,]: "
     ]
    },
    {
     "name": "stdout",
     "output_type": "stream",
     "text": [
      "  4.07980220, [C_drop_ss = -18.0]\n",
      "x = [0.99275,]: "
     ]
    },
    {
     "name": "stdout",
     "output_type": "stream",
     "text": [
      "  2.05358084, [C_drop_ss = -18.6]\n",
      "x = [0.98791,]: "
     ]
    },
    {
     "name": "stdout",
     "output_type": "stream",
     "text": [
      "  0.15096863, [C_drop_ss = -19.6]\n",
      "x = [0.98308,]: "
     ]
    },
    {
     "name": "stdout",
     "output_type": "stream",
     "text": [
      "  0.27546808, [C_drop_ss = -20.5]\n",
      "x = [0.98308,]: "
     ]
    },
    {
     "name": "stdout",
     "output_type": "stream",
     "text": [
      "  0.27546808, [C_drop_ss = -20.5]\n",
      "x = [0.98550,]: "
     ]
    },
    {
     "name": "stdout",
     "output_type": "stream",
     "text": [
      "  0.00675399, [C_drop_ss = -20.1]\n",
      "calibration stopped\n",
      "\n",
      "par.HtM_share =  0.326\n",
      "par.PIH_share =  0.0\n",
      "1-par.HtM_share-par.PIH_share =  0.674\n",
      "par.beta_max**12 = 0.967\n",
      "ss.U_UI_hh/ss.u*100 = 39.00 [par.UI_of_u_share_target = 39.00]\n",
      "calibration obj.: < 0.0\n",
      "\n"
     ]
    },
    {
     "name": "stdout",
     "output_type": "stream",
     "text": [
      "MPC_qtr                   =     36.7 | vec: [100.0 6.1 nan ]\n",
      "C_drop_ss                 =    -20.1 | vec: [-36.8 -11.9 nan ]\n",
      "C_drop_ex                 =    -39.9 | vec: [-100.0 -10.9 nan ]\n",
      "A_hh                      =      0.9 | vec: [0.0 1.3 nan ]\n",
      "moments in ss calculated in 1.5 secs\n",
      "MPC_qtr = 36.7\n",
      "C_drop_ss = -20.1\n",
      "C_drop_ex_ss = -39.9\n",
      "\n",
      "ss.delta = 0.019\n",
      "ss.lambda_u = 0.306\n",
      "ss.qB/ss.Y_hh = 1.829\n",
      "ss.qB/ss.Y = 0.920\n",
      "ss.div/ss.Y = 0.309\n",
      "ss.C_hh/ss.Y = 0.505\n",
      "ss.C_cap/ss.Y = 0.309\n",
      "ss.G/ss.Y = 0.187\n",
      "ss.clearing_Y =   0.00000000\n",
      "steady state found in 1.0 mins 10 secs\n",
      "\n"
     ]
    },
    {
     "name": "stdout",
     "output_type": "stream",
     "text": [
      "MPC_qtr                   =      36.7109\n",
      "C_drop_ss                 =     -20.0822\n",
      "C_drop_ex                 =     -39.9491\n",
      "A_hh                      =       0.8659\n",
      "w_share                   =      82.9560\n",
      "var_u                     =       0.9652\n",
      "std_W                     =       0.0000\n",
      "timeshift                 =       9.0000\n",
      "timeshift_obj             =       0.0000\n",
      "EU_share                  =      45.1616\n",
      "\n",
      "### free_entry ###\n"
     ]
    },
    {
     "name": "stdout",
     "output_type": "stream",
     "text": [
      "### exo_sep ###\n"
     ]
    },
    {
     "name": "stdout",
     "output_type": "stream",
     "text": [
      "### div_HtM ###\n"
     ]
    },
    {
     "name": "stdout",
     "output_type": "stream",
     "text": [
      "### div_PIH ###\n"
     ]
    },
    {
     "name": "stdout",
     "output_type": "stream",
     "text": [
      "### div_return ###\n"
     ]
    },
    {
     "name": "stdout",
     "output_type": "stream",
     "text": [
      "### div_HtM_calibrate_path ###\n"
     ]
    },
    {
     "name": "stdout",
     "output_type": "stream",
     "text": [
      "\n"
     ]
    },
    {
     "name": "stdout",
     "output_type": "stream",
     "text": [
      "household problem in ss solved in 6.9 secs [2682 iterations]\n"
     ]
    },
    {
     "name": "stdout",
     "output_type": "stream",
     "text": [
      "household problem in ss simulated in 0.7 secs [1760 iterations]\n",
      "\n",
      "par.HtM_share =  0.376\n",
      "par.PIH_share =  0.0\n",
      "1-par.HtM_share-par.PIH_share =  0.624\n",
      "par.beta_max**12 = 0.971\n",
      "ss.U_UI_hh/ss.u*100 = 39.00 [par.UI_of_u_share_target = 39.00]\n",
      "\n"
     ]
    },
    {
     "name": "stdout",
     "output_type": "stream",
     "text": [
      "MPC_qtr                   =     40.7 | vec: [100.0 4.9 nan ]\n",
      "C_drop_ss                 =    -19.9 | vec: [-36.8 -9.7 nan ]\n",
      "C_drop_ex                 =    -43.1 | vec: [-100.0 -8.8 nan ]\n",
      "A_hh                      =      0.8 | vec: [0.0 1.4 nan ]\n",
      "moments in ss calculated in 1.5 secs\n",
      "MPC_qtr = 40.7\n",
      "C_drop_ss = -19.9\n",
      "C_drop_ex_ss = -43.1\n",
      "\n",
      "ss.delta = 0.019\n",
      "ss.lambda_u = 0.306\n",
      "ss.qB/ss.Y_hh = 2.120\n",
      "ss.qB/ss.Y = 0.903\n",
      "ss.div/ss.Y = 0.415\n",
      "ss.C_hh/ss.Y = 0.427\n",
      "ss.C_cap/ss.Y = 0.415\n",
      "ss.G/ss.Y = 0.158\n",
      "ss.clearing_Y =   0.00000000\n",
      "steady state found in 9.1 secs\n",
      "\n",
      "calibrate path:\n"
     ]
    },
    {
     "name": "stdout",
     "output_type": "stream",
     "text": [
      "psi = 1.2502, xi = 0.0151, w_ss = 0.5851 -> EU_share = 45.11, timeshift =  9.00, timeshift_obj =  0.00, var_u =  0.8780 -> obj =   0.17293970 [2.0 mins 9 secs]\n",
      "calibration stopped\n",
      "\n",
      "par.psi = 1.2502\n",
      "par.xi = 0.0151\n",
      "par.w_ss = 0.5851\n",
      "calibration obj.:   0.17293970 < 1.0\n",
      "done in 2.0 mins 9 secs\n",
      "\n"
     ]
    },
    {
     "name": "stdout",
     "output_type": "stream",
     "text": [
      "MPC_qtr                   =      40.6510\n",
      "C_drop_ss                 =     -19.9448\n",
      "C_drop_ex                 =     -43.0766\n",
      "A_hh                      =       0.8496\n",
      "w_share                   =      70.2120\n",
      "var_u                     =       0.8780\n",
      "std_W                     =       0.0000\n",
      "timeshift                 =       9.0000\n",
      "timeshift_obj             =       0.0000\n",
      "EU_share                  =      45.1149\n",
      "\n",
      "### div_PIH_calibrate_beta_path_half ###\n"
     ]
    },
    {
     "name": "stdout",
     "output_type": "stream",
     "text": [
      "\n"
     ]
    },
    {
     "name": "stdout",
     "output_type": "stream",
     "text": [
      "x = [0.37592,0.99267]:   0.04142960 [MPC_qtr = 40.6, C_drop_ss = -19.8, C_drop_ex_ss = -42.9]\n"
     ]
    },
    {
     "name": "stdout",
     "output_type": "stream",
     "text": [
      "x = [0.39472,0.99267]:   2.84030635 [MPC_qtr = 42.4, C_drop_ss = -20.3, C_drop_ex_ss = -44.7]\n"
     ]
    },
    {
     "name": "stdout",
     "output_type": "stream",
     "text": [
      "x = [0.37592,1.00000]:   6.26968258 [MPC_qtr = 39.8, C_drop_ss = -18.1, C_drop_ex_ss = -41.3]\n"
     ]
    },
    {
     "name": "stdout",
     "output_type": "stream",
     "text": [
      "x = [0.39472,0.98533]:  10.64796119 [MPC_qtr = 43.1, C_drop_ss = -21.6, C_drop_ex_ss = -45.9]\n"
     ]
    },
    {
     "name": "stdout",
     "output_type": "stream",
     "text": [
      "x = [0.38062,0.99633]:   0.83351325 [MPC_qtr = 40.6, C_drop_ss = -19.2, C_drop_ex_ss = -42.6]\n"
     ]
    },
    {
     "name": "stdout",
     "output_type": "stream",
     "text": [
      "x = [0.36182,0.99633]:   6.33150018 [MPC_qtr = 38.8, C_drop_ss = -18.6, C_drop_ex_ss = -40.9]\n"
     ]
    },
    {
     "name": "stdout",
     "output_type": "stream",
     "text": [
      "x = [0.38649,0.99358]:   0.54203265 [MPC_qtr = 41.5, C_drop_ss = -19.9, C_drop_ex_ss = -43.7]\n"
     ]
    },
    {
     "name": "stdout",
     "output_type": "stream",
     "text": [
      "x = [0.38179,0.98992]:   1.17578824 [MPC_qtr = 41.4, C_drop_ss = -20.5, C_drop_ex_ss = -44.0]\n"
     ]
    },
    {
     "name": "stdout",
     "output_type": "stream",
     "text": [
      "x = [0.38091,0.99473]:   0.22813876 [MPC_qtr = 40.8, C_drop_ss = -19.5, C_drop_ex_ss = -43.0]\n"
     ]
    },
    {
     "name": "stdout",
     "output_type": "stream",
     "text": [
      "x = [0.37034,0.99381]:   0.96486123 [MPC_qtr = 39.9, C_drop_ss = -19.4, C_drop_ex_ss = -42.2]\n"
     ]
    },
    {
     "name": "stdout",
     "output_type": "stream",
     "text": [
      "x = [0.38245,0.99364]:   0.16695432 [MPC_qtr = 41.1, C_drop_ss = -19.8, C_drop_ex_ss = -43.4]\n"
     ]
    },
    {
     "name": "stdout",
     "output_type": "stream",
     "text": [
      "x = [0.37746,0.99158]:   0.08445606 [MPC_qtr = 40.8, C_drop_ss = -20.1, C_drop_ex_ss = -43.3]\n"
     ]
    },
    {
     "name": "stdout",
     "output_type": "stream",
     "text": [
      "x = [0.37093,0.99060]:   0.02169569 [MPC_qtr = 40.3, C_drop_ss = -20.1, C_drop_ex_ss = -42.9]\n"
     ]
    },
    {
     "name": "stdout",
     "output_type": "stream",
     "text": [
      "x = [0.36516,0.98909]:   0.18538800 [MPC_qtr = 39.9, C_drop_ss = -20.2, C_drop_ex_ss = -42.6]\n"
     ]
    },
    {
     "name": "stdout",
     "output_type": "stream",
     "text": [
      "x = [0.36938,0.99169]:   0.25398233 [MPC_qtr = 40.1, C_drop_ss = -19.8, C_drop_ex_ss = -42.5]\n"
     ]
    },
    {
     "name": "stdout",
     "output_type": "stream",
     "text": [
      "x = [0.37544,0.99161]:   0.00923799 [MPC_qtr = 40.6, C_drop_ss = -20.0, C_drop_ex_ss = -43.1]\n",
      "calibration stopped\n",
      "\n",
      "par.HtM_share =  0.375\n",
      "par.PIH_share =  0.05\n",
      "1-par.HtM_share-par.PIH_share =  0.575\n",
      "par.beta_max**12 = 0.971\n",
      "ss.U_UI_hh/ss.u*100 = 39.00 [par.UI_of_u_share_target = 39.00]\n",
      "calibration obj.: < 0.0\n",
      "\n"
     ]
    },
    {
     "name": "stdout",
     "output_type": "stream",
     "text": [
      "MPC_qtr                   =     40.6 | vec: [100.0 5.1 3.5 ]\n",
      "C_drop_ss                 =    -20.0 | vec: [-36.8 -10.0 -6.8 ]\n",
      "C_drop_ex                 =    -43.1 | vec: [-100.0 -9.1 -6.1 ]\n",
      "A_hh                      =      1.0 | vec: [0.0 1.6 2.3 ]\n",
      "moments in ss calculated in 1.6 secs\n",
      "MPC_qtr = 40.6\n",
      "C_drop_ss = -20.0\n",
      "C_drop_ex_ss = -43.1\n",
      "\n",
      "ss.delta = 0.019\n",
      "ss.lambda_u = 0.306\n",
      "ss.qB/ss.Y_hh = 2.111\n",
      "ss.qB/ss.Y = 1.113\n",
      "ss.div/ss.Y = 0.275\n",
      "ss.C_hh/ss.Y = 0.529\n",
      "ss.C_cap/ss.Y = 0.275\n",
      "ss.G/ss.Y = 0.196\n",
      "ss.clearing_Y =   0.00000000\n",
      "steady state found in 3.0 mins 14 secs\n",
      "\n",
      "calibrate path:\n"
     ]
    },
    {
     "name": "stdout",
     "output_type": "stream",
     "text": [
      "psi = 1.9431, xi = 0.0167, w_ss = 0.7247 -> EU_share = 45.30, timeshift =  9.00, timeshift_obj =  0.00, var_u =  0.8781 -> obj =   0.94554449 [1.0 mins 31 secs]\n",
      "calibration stopped\n",
      "\n",
      "par.psi = 1.9431\n",
      "par.xi = 0.0167\n",
      "par.w_ss = 0.7247\n",
      "calibration obj.:   0.94554449 < 1.0\n",
      "done in 1.0 mins 31 secs\n",
      "\n"
     ]
    },
    {
     "name": "stdout",
     "output_type": "stream",
     "text": [
      "MPC_qtr                   =      40.6469\n",
      "C_drop_ss                 =     -19.9981\n",
      "C_drop_ex                 =     -43.0961\n",
      "A_hh                      =       1.0478\n",
      "w_share                   =      86.9640\n",
      "var_u                     =       0.8781\n",
      "std_W                     =       0.0000\n",
      "timeshift                 =       9.0000\n",
      "timeshift_obj             =       0.0000\n",
      "EU_share                  =      45.3019\n",
      "\n"
     ]
    }
   ],
   "source": [
    "policy.create_models(basemodel,model_specs)"
   ]
  }
 ],
 "metadata": {
  "kernelspec": {
   "display_name": "Python 3",
   "language": "python",
   "name": "python3"
  },
  "language_info": {
   "codemirror_mode": {
    "name": "ipython",
    "version": 3
   },
   "file_extension": ".py",
   "mimetype": "text/x-python",
   "name": "python",
   "nbconvert_exporter": "python",
   "pygments_lexer": "ipython3",
   "version": "3.9.16"
  },
  "papermill": {
   "default_parameters": {},
   "duration": 1161.018794,
   "end_time": "2023-05-03T15:25:43.341132",
   "environment_variables": {},
   "exception": null,
   "input_path": "03a. Calibrations.ipynb",
   "output_path": "temp_notebooks/03a. Calibrations.ipynb",
   "parameters": {},
   "start_time": "2023-05-03T15:06:22.322338",
   "version": "2.4.0"
  },
  "toc-autonumbering": true,
  "vscode": {
   "interpreter": {
    "hash": "47ef90cdf3004d3f859f1fb202523c65c07ba7c22eefd261b181f4744e2d0403"
   }
  }
 },
 "nbformat": 4,
 "nbformat_minor": 5
}