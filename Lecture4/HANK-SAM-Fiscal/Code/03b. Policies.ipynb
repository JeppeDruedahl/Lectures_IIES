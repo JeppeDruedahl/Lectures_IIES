{
 "cells": [
  {
   "cell_type": "markdown",
   "id": "a9574dbf",
   "metadata": {
    "papermill": {
     "duration": 0.014926,
     "end_time": "2023-05-03T15:25:47.051378",
     "exception": false,
     "start_time": "2023-05-03T15:25:47.036452",
     "status": "completed"
    },
    "tags": []
   },
   "source": [
    "# Policy analysis"
   ]
  },
  {
   "cell_type": "markdown",
   "id": "b27fb757",
   "metadata": {
    "papermill": {
     "duration": 0.007008,
     "end_time": "2023-05-03T15:25:47.065393",
     "exception": false,
     "start_time": "2023-05-03T15:25:47.058385",
     "status": "completed"
    },
    "tags": []
   },
   "source": [
    "**Table of contents**<a id='toc0_'></a>    \n",
    "- 1. [Settings](#toc1_)    \n",
    "- 2. [Run](#toc2_)    \n",
    "- 3. [IRFs](#toc3_)    \n",
    "- 4. [Fiscal multipliers](#toc4_)    \n",
    "- 5. [Latex tables](#toc5_)    \n",
    "- 6. [Slides](#toc6_)    \n",
    "\n",
    "<!-- vscode-jupyter-toc-config\n",
    "\tnumbering=true\n",
    "\tanchor=true\n",
    "\tflat=false\n",
    "\tminLevel=2\n",
    "\tmaxLevel=6\n",
    "\t/vscode-jupyter-toc-config -->\n",
    "<!-- THIS CELL WILL BE REPLACED ON TOC UPDATE. DO NOT WRITE YOUR TEXT IN THIS CELL -->"
   ]
  },
  {
   "cell_type": "code",
   "execution_count": 1,
   "id": "49260493-959d-465a-a07b-2e6da852777b",
   "metadata": {
    "execution": {
     "iopub.execute_input": "2023-05-03T15:25:47.077400Z",
     "iopub.status.busy": "2023-05-03T15:25:47.077400Z",
     "iopub.status.idle": "2023-05-03T15:25:55.482736Z",
     "shell.execute_reply": "2023-05-03T15:25:55.481782Z"
    },
    "papermill": {
     "duration": 8.415393,
     "end_time": "2023-05-03T15:25:55.485788",
     "exception": false,
     "start_time": "2023-05-03T15:25:47.070395",
     "status": "completed"
    },
    "tags": []
   },
   "outputs": [],
   "source": [
    "%load_ext autoreload\n",
    "%autoreload 2\n",
    "\n",
    "import pickle\n",
    "\n",
    "import numpy as np\n",
    "import matplotlib.pyplot as plt\n",
    "\n",
    "from FullHANKSAMModel import FullHANKSAMModelClass\n",
    "from figures import create_fig, save_fig\n",
    "import policy"
   ]
  },
  {
   "cell_type": "markdown",
   "id": "0ba41aa4",
   "metadata": {
    "papermill": {
     "duration": 0.007005,
     "end_time": "2023-05-03T15:25:55.508758",
     "exception": false,
     "start_time": "2023-05-03T15:25:55.501753",
     "status": "completed"
    },
    "tags": []
   },
   "source": [
    "## 1. <a id='toc1_'></a>[Settings](#toc0_)"
   ]
  },
  {
   "cell_type": "code",
   "execution_count": 2,
   "id": "ccb4974d",
   "metadata": {
    "execution": {
     "iopub.execute_input": "2023-05-03T15:25:55.522813Z",
     "iopub.status.busy": "2023-05-03T15:25:55.521769Z",
     "iopub.status.idle": "2023-05-03T15:25:55.634906Z",
     "shell.execute_reply": "2023-05-03T15:25:55.633909Z"
    },
    "papermill": {
     "duration": 0.124144,
     "end_time": "2023-05-03T15:25:55.638910",
     "exception": false,
     "start_time": "2023-05-03T15:25:55.514766",
     "status": "completed"
    },
    "tags": []
   },
   "outputs": [],
   "source": [
    "LOAD = False"
   ]
  },
  {
   "cell_type": "code",
   "execution_count": 3,
   "id": "0e49b88b",
   "metadata": {
    "execution": {
     "iopub.execute_input": "2023-05-03T15:25:55.662886Z",
     "iopub.status.busy": "2023-05-03T15:25:55.661885Z",
     "iopub.status.idle": "2023-05-03T15:25:55.783021Z",
     "shell.execute_reply": "2023-05-03T15:25:55.782021Z"
    },
    "papermill": {
     "duration": 0.133145,
     "end_time": "2023-05-03T15:25:55.787024",
     "exception": false,
     "start_time": "2023-05-03T15:25:55.653879",
     "status": "completed"
    },
    "tags": []
   },
   "outputs": [],
   "source": [
    "with open('saved/model_names.p', 'rb') as f:\n",
    "    model_names = pickle.load(f) "
   ]
  },
  {
   "cell_type": "code",
   "execution_count": 4,
   "id": "c46e4026",
   "metadata": {
    "execution": {
     "iopub.execute_input": "2023-05-03T15:25:55.810052Z",
     "iopub.status.busy": "2023-05-03T15:25:55.810052Z",
     "iopub.status.idle": "2023-05-03T15:25:55.938157Z",
     "shell.execute_reply": "2023-05-03T15:25:55.937155Z"
    },
    "papermill": {
     "duration": 0.141161,
     "end_time": "2023-05-03T15:25:55.941162",
     "exception": false,
     "start_time": "2023-05-03T15:25:55.800001",
     "status": "completed"
    },
    "tags": []
   },
   "outputs": [
    {
     "name": "stdout",
     "output_type": "stream",
     "text": [
      "baseline\n",
      "high_liq\n",
      "mid_liq\n",
      "low_liq\n",
      "high_HtM_share_recalib_beta\n",
      "low_HtM_share_recalib_beta\n",
      "free_entry\n",
      "exo_sep\n",
      "div_HtM\n",
      "div_PIH\n",
      "div_return\n",
      "div_HtM_calibrate_path\n",
      "div_PIH_calibrate_beta_path_half\n"
     ]
    }
   ],
   "source": [
    "for model_name in model_names:\n",
    "    print(model_name)\n",
    "\n",
    "# overwrite\n",
    "# model_names = ['baseline']"
   ]
  },
  {
   "cell_type": "code",
   "execution_count": 5,
   "id": "8ad4ac3c",
   "metadata": {
    "execution": {
     "iopub.execute_input": "2023-05-03T15:25:55.965178Z",
     "iopub.status.busy": "2023-05-03T15:25:55.965178Z",
     "iopub.status.idle": "2023-05-03T15:25:56.074274Z",
     "shell.execute_reply": "2023-05-03T15:25:56.074274Z"
    },
    "papermill": {
     "duration": 0.122145,
     "end_time": "2023-05-03T15:25:56.078275",
     "exception": false,
     "start_time": "2023-05-03T15:25:55.956130",
     "status": "completed"
    },
    "tags": []
   },
   "outputs": [],
   "source": [
    "pols = ['G','hh_transfer','retention_subsidy','hiring_subsidy','phi_obar','u_bar']\n",
    "pols_flex = ['retention_subsidy','hiring_subsidy']\n",
    "pols_RA = ['G','retention_subsidy','hiring_subsidy']"
   ]
  },
  {
   "cell_type": "markdown",
   "id": "b3b9658a",
   "metadata": {
    "papermill": {
     "duration": 0.008007,
     "end_time": "2023-05-03T15:25:56.099249",
     "exception": false,
     "start_time": "2023-05-03T15:25:56.091242",
     "status": "completed"
    },
    "tags": []
   },
   "source": [
    "## 2. <a id='toc2_'></a>[Run](#toc0_)"
   ]
  },
  {
   "cell_type": "code",
   "execution_count": 6,
   "id": "a646370e",
   "metadata": {
    "execution": {
     "iopub.execute_input": "2023-05-03T15:25:56.111257Z",
     "iopub.status.busy": "2023-05-03T15:25:56.111257Z",
     "iopub.status.idle": "2023-05-03T15:25:56.244425Z",
     "shell.execute_reply": "2023-05-03T15:25:56.244425Z"
    },
    "papermill": {
     "duration": 0.144164,
     "end_time": "2023-05-03T15:25:56.248415",
     "exception": false,
     "start_time": "2023-05-03T15:25:56.104251",
     "status": "completed"
    },
    "tags": []
   },
   "outputs": [],
   "source": [
    "basemodel = FullHANKSAMModelClass()"
   ]
  },
  {
   "cell_type": "code",
   "execution_count": 7,
   "id": "6df3812a",
   "metadata": {
    "execution": {
     "iopub.execute_input": "2023-05-03T15:25:56.270389Z",
     "iopub.status.busy": "2023-05-03T15:25:56.270389Z",
     "iopub.status.idle": "2023-05-03T17:39:50.577034Z",
     "shell.execute_reply": "2023-05-03T17:39:50.575989Z"
    },
    "papermill": {
     "duration": 8034.340629,
     "end_time": "2023-05-03T17:39:50.602011",
     "exception": false,
     "start_time": "2023-05-03T15:25:56.261382",
     "status": "completed"
    },
    "tags": []
   },
   "outputs": [
    {
     "name": "stdout",
     "output_type": "stream",
     "text": [
      "### baseline ###\n",
      "\n"
     ]
    },
    {
     "name": "stdout",
     "output_type": "stream",
     "text": [
      "full run"
     ]
    },
    {
     "name": "stdout",
     "output_type": "stream",
     "text": [
      " [var_u_G] "
     ]
    },
    {
     "name": "stdout",
     "output_type": "stream",
     "text": [
      "\n",
      "_flex\n"
     ]
    },
    {
     "name": "stdout",
     "output_type": "stream",
     "text": [
      "_RA"
     ]
    },
    {
     "name": "stdout",
     "output_type": "stream",
     "text": [
      " [var_u_G] "
     ]
    },
    {
     "name": "stdout",
     "output_type": "stream",
     "text": [
      "\n",
      "basepol = 'G'"
     ]
    },
    {
     "name": "stdout",
     "output_type": "stream",
     "text": [
      "\n",
      " G_RA"
     ]
    },
    {
     "name": "stdout",
     "output_type": "stream",
     "text": [
      "\n",
      " hh_transfer"
     ]
    },
    {
     "name": "stdout",
     "output_type": "stream",
     "text": [
      "\n",
      " retention_subsidy"
     ]
    },
    {
     "name": "stdout",
     "output_type": "stream",
     "text": [
      "\n",
      " retention_subsidy_flex"
     ]
    },
    {
     "name": "stdout",
     "output_type": "stream",
     "text": [
      "\n",
      " retention_subsidy_RA"
     ]
    },
    {
     "name": "stdout",
     "output_type": "stream",
     "text": [
      "\n",
      " hiring_subsidy"
     ]
    },
    {
     "name": "stdout",
     "output_type": "stream",
     "text": [
      "\n",
      " hiring_subsidy_flex"
     ]
    },
    {
     "name": "stdout",
     "output_type": "stream",
     "text": [
      "\n",
      " hiring_subsidy_RA"
     ]
    },
    {
     "name": "stdout",
     "output_type": "stream",
     "text": [
      "\n",
      " phi_obar"
     ]
    },
    {
     "name": "stdout",
     "output_type": "stream",
     "text": [
      "\n",
      " u_bar"
     ]
    },
    {
     "name": "stdout",
     "output_type": "stream",
     "text": [
      "\n"
     ]
    },
    {
     "name": "stdout",
     "output_type": "stream",
     "text": [
      "\n",
      "### high_liq ###\n",
      "\n"
     ]
    },
    {
     "name": "stdout",
     "output_type": "stream",
     "text": [
      "full run"
     ]
    },
    {
     "name": "stdout",
     "output_type": "stream",
     "text": [
      " [var_u_G] "
     ]
    },
    {
     "name": "stdout",
     "output_type": "stream",
     "text": [
      "\n",
      "_flex\n"
     ]
    },
    {
     "name": "stdout",
     "output_type": "stream",
     "text": [
      "_RA"
     ]
    },
    {
     "name": "stdout",
     "output_type": "stream",
     "text": [
      " [var_u_G] "
     ]
    },
    {
     "name": "stdout",
     "output_type": "stream",
     "text": [
      "\n",
      "basepol = 'G'"
     ]
    },
    {
     "name": "stdout",
     "output_type": "stream",
     "text": [
      "\n",
      " G_RA"
     ]
    },
    {
     "name": "stdout",
     "output_type": "stream",
     "text": [
      "\n",
      " hh_transfer"
     ]
    },
    {
     "name": "stdout",
     "output_type": "stream",
     "text": [
      "\n",
      " retention_subsidy"
     ]
    },
    {
     "name": "stdout",
     "output_type": "stream",
     "text": [
      "\n",
      " retention_subsidy_flex"
     ]
    },
    {
     "name": "stdout",
     "output_type": "stream",
     "text": [
      "\n",
      " retention_subsidy_RA"
     ]
    },
    {
     "name": "stdout",
     "output_type": "stream",
     "text": [
      "\n",
      " hiring_subsidy"
     ]
    },
    {
     "name": "stdout",
     "output_type": "stream",
     "text": [
      "\n",
      " hiring_subsidy_flex"
     ]
    },
    {
     "name": "stdout",
     "output_type": "stream",
     "text": [
      "\n",
      " hiring_subsidy_RA"
     ]
    },
    {
     "name": "stdout",
     "output_type": "stream",
     "text": [
      "\n",
      " phi_obar"
     ]
    },
    {
     "name": "stdout",
     "output_type": "stream",
     "text": [
      "\n",
      " u_bar"
     ]
    },
    {
     "name": "stdout",
     "output_type": "stream",
     "text": [
      "\n"
     ]
    },
    {
     "name": "stdout",
     "output_type": "stream",
     "text": [
      "\n",
      "### mid_liq ###\n",
      "\n"
     ]
    },
    {
     "name": "stdout",
     "output_type": "stream",
     "text": [
      "full run"
     ]
    },
    {
     "name": "stdout",
     "output_type": "stream",
     "text": [
      " [var_u_G] "
     ]
    },
    {
     "name": "stdout",
     "output_type": "stream",
     "text": [
      "\n",
      "_flex\n"
     ]
    },
    {
     "name": "stdout",
     "output_type": "stream",
     "text": [
      "_RA"
     ]
    },
    {
     "name": "stdout",
     "output_type": "stream",
     "text": [
      " [var_u_G] "
     ]
    },
    {
     "name": "stdout",
     "output_type": "stream",
     "text": [
      "\n",
      "basepol = 'G'"
     ]
    },
    {
     "name": "stdout",
     "output_type": "stream",
     "text": [
      "\n",
      " G_RA"
     ]
    },
    {
     "name": "stdout",
     "output_type": "stream",
     "text": [
      "\n",
      " hh_transfer"
     ]
    },
    {
     "name": "stdout",
     "output_type": "stream",
     "text": [
      "\n",
      " retention_subsidy"
     ]
    },
    {
     "name": "stdout",
     "output_type": "stream",
     "text": [
      "\n",
      " retention_subsidy_flex"
     ]
    },
    {
     "name": "stdout",
     "output_type": "stream",
     "text": [
      "\n",
      " retention_subsidy_RA"
     ]
    },
    {
     "name": "stdout",
     "output_type": "stream",
     "text": [
      "\n",
      " hiring_subsidy"
     ]
    },
    {
     "name": "stdout",
     "output_type": "stream",
     "text": [
      "\n",
      " hiring_subsidy_flex"
     ]
    },
    {
     "name": "stdout",
     "output_type": "stream",
     "text": [
      "\n",
      " hiring_subsidy_RA"
     ]
    },
    {
     "name": "stdout",
     "output_type": "stream",
     "text": [
      "\n",
      " phi_obar"
     ]
    },
    {
     "name": "stdout",
     "output_type": "stream",
     "text": [
      "\n",
      " u_bar"
     ]
    },
    {
     "name": "stdout",
     "output_type": "stream",
     "text": [
      "\n"
     ]
    },
    {
     "name": "stdout",
     "output_type": "stream",
     "text": [
      "\n",
      "### low_liq ###\n",
      "\n"
     ]
    },
    {
     "name": "stdout",
     "output_type": "stream",
     "text": [
      "full run"
     ]
    },
    {
     "name": "stdout",
     "output_type": "stream",
     "text": [
      " [var_u_G] "
     ]
    },
    {
     "name": "stdout",
     "output_type": "stream",
     "text": [
      "\n",
      "_flex\n"
     ]
    },
    {
     "name": "stdout",
     "output_type": "stream",
     "text": [
      "_RA"
     ]
    },
    {
     "name": "stdout",
     "output_type": "stream",
     "text": [
      " [var_u_G] "
     ]
    },
    {
     "name": "stdout",
     "output_type": "stream",
     "text": [
      "\n",
      "basepol = 'G'"
     ]
    },
    {
     "name": "stdout",
     "output_type": "stream",
     "text": [
      "\n",
      " G_RA"
     ]
    },
    {
     "name": "stdout",
     "output_type": "stream",
     "text": [
      "\n",
      " hh_transfer"
     ]
    },
    {
     "name": "stdout",
     "output_type": "stream",
     "text": [
      "\n"
     ]
    },
    {
     "name": "stdout",
     "output_type": "stream",
     "text": [
      " retention_subsidy"
     ]
    },
    {
     "name": "stdout",
     "output_type": "stream",
     "text": [
      "\n"
     ]
    },
    {
     "name": "stdout",
     "output_type": "stream",
     "text": [
      " retention_subsidy_flex"
     ]
    },
    {
     "name": "stdout",
     "output_type": "stream",
     "text": [
      "\n",
      " retention_subsidy_RA"
     ]
    },
    {
     "name": "stdout",
     "output_type": "stream",
     "text": [
      "\n",
      " hiring_subsidy"
     ]
    },
    {
     "name": "stdout",
     "output_type": "stream",
     "text": [
      "\n",
      " hiring_subsidy_flex"
     ]
    },
    {
     "name": "stdout",
     "output_type": "stream",
     "text": [
      "\n",
      " hiring_subsidy_RA"
     ]
    },
    {
     "name": "stdout",
     "output_type": "stream",
     "text": [
      "\n",
      " phi_obar"
     ]
    },
    {
     "name": "stdout",
     "output_type": "stream",
     "text": [
      "\n",
      " u_bar"
     ]
    },
    {
     "name": "stdout",
     "output_type": "stream",
     "text": [
      "\n"
     ]
    },
    {
     "name": "stdout",
     "output_type": "stream",
     "text": [
      "\n",
      "### high_HtM_share_recalib_beta ###\n",
      "\n"
     ]
    },
    {
     "name": "stdout",
     "output_type": "stream",
     "text": [
      "full run"
     ]
    },
    {
     "name": "stdout",
     "output_type": "stream",
     "text": [
      " [var_u_G] "
     ]
    },
    {
     "name": "stdout",
     "output_type": "stream",
     "text": [
      "\n",
      "_flex\n"
     ]
    },
    {
     "name": "stdout",
     "output_type": "stream",
     "text": [
      "_RA"
     ]
    },
    {
     "name": "stdout",
     "output_type": "stream",
     "text": [
      " [var_u_G] "
     ]
    },
    {
     "name": "stdout",
     "output_type": "stream",
     "text": [
      "\n",
      "basepol = 'G'"
     ]
    },
    {
     "name": "stdout",
     "output_type": "stream",
     "text": [
      "\n",
      " G_RA"
     ]
    },
    {
     "name": "stdout",
     "output_type": "stream",
     "text": [
      "\n",
      " hh_transfer"
     ]
    },
    {
     "name": "stdout",
     "output_type": "stream",
     "text": [
      "\n",
      " retention_subsidy"
     ]
    },
    {
     "name": "stdout",
     "output_type": "stream",
     "text": [
      "\n",
      " retention_subsidy_flex"
     ]
    },
    {
     "name": "stdout",
     "output_type": "stream",
     "text": [
      "\n",
      " retention_subsidy_RA"
     ]
    },
    {
     "name": "stdout",
     "output_type": "stream",
     "text": [
      "\n",
      " hiring_subsidy"
     ]
    },
    {
     "name": "stdout",
     "output_type": "stream",
     "text": [
      "\n",
      " hiring_subsidy_flex"
     ]
    },
    {
     "name": "stdout",
     "output_type": "stream",
     "text": [
      "\n",
      " hiring_subsidy_RA"
     ]
    },
    {
     "name": "stdout",
     "output_type": "stream",
     "text": [
      "\n",
      " phi_obar"
     ]
    },
    {
     "name": "stdout",
     "output_type": "stream",
     "text": [
      "\n",
      " u_bar"
     ]
    },
    {
     "name": "stdout",
     "output_type": "stream",
     "text": [
      "\n"
     ]
    },
    {
     "name": "stdout",
     "output_type": "stream",
     "text": [
      "\n",
      "### low_HtM_share_recalib_beta ###\n",
      "\n"
     ]
    },
    {
     "name": "stdout",
     "output_type": "stream",
     "text": [
      "full run"
     ]
    },
    {
     "name": "stdout",
     "output_type": "stream",
     "text": [
      " [var_u_G] "
     ]
    },
    {
     "name": "stdout",
     "output_type": "stream",
     "text": [
      "\n",
      "_flex\n"
     ]
    },
    {
     "name": "stdout",
     "output_type": "stream",
     "text": [
      "_RA"
     ]
    },
    {
     "name": "stdout",
     "output_type": "stream",
     "text": [
      " [var_u_G] "
     ]
    },
    {
     "name": "stdout",
     "output_type": "stream",
     "text": [
      "\n",
      "basepol = 'G'"
     ]
    },
    {
     "name": "stdout",
     "output_type": "stream",
     "text": [
      "\n",
      " G_RA"
     ]
    },
    {
     "name": "stdout",
     "output_type": "stream",
     "text": [
      "\n",
      " hh_transfer"
     ]
    },
    {
     "name": "stdout",
     "output_type": "stream",
     "text": [
      "\n",
      " retention_subsidy"
     ]
    },
    {
     "name": "stdout",
     "output_type": "stream",
     "text": [
      "\n",
      " retention_subsidy_flex"
     ]
    },
    {
     "name": "stdout",
     "output_type": "stream",
     "text": [
      "\n",
      " retention_subsidy_RA"
     ]
    },
    {
     "name": "stdout",
     "output_type": "stream",
     "text": [
      "\n",
      " hiring_subsidy"
     ]
    },
    {
     "name": "stdout",
     "output_type": "stream",
     "text": [
      "\n",
      " hiring_subsidy_flex"
     ]
    },
    {
     "name": "stdout",
     "output_type": "stream",
     "text": [
      "\n",
      " hiring_subsidy_RA"
     ]
    },
    {
     "name": "stdout",
     "output_type": "stream",
     "text": [
      "\n",
      " phi_obar"
     ]
    },
    {
     "name": "stdout",
     "output_type": "stream",
     "text": [
      "\n"
     ]
    },
    {
     "name": "stdout",
     "output_type": "stream",
     "text": [
      " u_bar"
     ]
    },
    {
     "name": "stdout",
     "output_type": "stream",
     "text": [
      "\n"
     ]
    },
    {
     "name": "stdout",
     "output_type": "stream",
     "text": [
      "\n",
      "### free_entry ###\n",
      "\n"
     ]
    },
    {
     "name": "stdout",
     "output_type": "stream",
     "text": [
      "full run"
     ]
    },
    {
     "name": "stdout",
     "output_type": "stream",
     "text": [
      " [var_u_G] "
     ]
    },
    {
     "name": "stdout",
     "output_type": "stream",
     "text": [
      "\n",
      "_flex\n"
     ]
    },
    {
     "name": "stdout",
     "output_type": "stream",
     "text": [
      "_RA"
     ]
    },
    {
     "name": "stdout",
     "output_type": "stream",
     "text": [
      " [var_u_G] "
     ]
    },
    {
     "name": "stdout",
     "output_type": "stream",
     "text": [
      "\n",
      "basepol = 'G'"
     ]
    },
    {
     "name": "stdout",
     "output_type": "stream",
     "text": [
      "\n",
      " G_RA"
     ]
    },
    {
     "name": "stdout",
     "output_type": "stream",
     "text": [
      "\n",
      " hh_transfer"
     ]
    },
    {
     "name": "stdout",
     "output_type": "stream",
     "text": [
      "\n",
      " retention_subsidy"
     ]
    },
    {
     "name": "stdout",
     "output_type": "stream",
     "text": [
      "\n",
      " retention_subsidy_flex"
     ]
    },
    {
     "name": "stdout",
     "output_type": "stream",
     "text": [
      "\n",
      " retention_subsidy_RA"
     ]
    },
    {
     "name": "stdout",
     "output_type": "stream",
     "text": [
      "\n",
      " hiring_subsidy"
     ]
    },
    {
     "name": "stdout",
     "output_type": "stream",
     "text": [
      "\n",
      " hiring_subsidy_flex"
     ]
    },
    {
     "name": "stdout",
     "output_type": "stream",
     "text": [
      "\n",
      " hiring_subsidy_RA"
     ]
    },
    {
     "name": "stdout",
     "output_type": "stream",
     "text": [
      "\n"
     ]
    },
    {
     "name": "stdout",
     "output_type": "stream",
     "text": [
      " phi_obar"
     ]
    },
    {
     "name": "stdout",
     "output_type": "stream",
     "text": [
      "\n",
      " u_bar"
     ]
    },
    {
     "name": "stdout",
     "output_type": "stream",
     "text": [
      "\n"
     ]
    },
    {
     "name": "stdout",
     "output_type": "stream",
     "text": [
      "\n",
      "### exo_sep ###\n",
      "\n"
     ]
    },
    {
     "name": "stdout",
     "output_type": "stream",
     "text": [
      "full run"
     ]
    },
    {
     "name": "stdout",
     "output_type": "stream",
     "text": [
      " [var_u_G] "
     ]
    },
    {
     "name": "stdout",
     "output_type": "stream",
     "text": [
      "\n",
      "_flex\n"
     ]
    },
    {
     "name": "stdout",
     "output_type": "stream",
     "text": [
      "_RA"
     ]
    },
    {
     "name": "stdout",
     "output_type": "stream",
     "text": [
      " [var_u_G] "
     ]
    },
    {
     "name": "stdout",
     "output_type": "stream",
     "text": [
      "\n",
      "basepol = 'G'"
     ]
    },
    {
     "name": "stdout",
     "output_type": "stream",
     "text": [
      "\n",
      " G_RA"
     ]
    },
    {
     "name": "stdout",
     "output_type": "stream",
     "text": [
      "\n",
      " hh_transfer"
     ]
    },
    {
     "name": "stdout",
     "output_type": "stream",
     "text": [
      "\n",
      " retention_subsidy"
     ]
    },
    {
     "name": "stdout",
     "output_type": "stream",
     "text": [
      "\n",
      " retention_subsidy_flex"
     ]
    },
    {
     "name": "stdout",
     "output_type": "stream",
     "text": [
      "\n",
      " retention_subsidy_RA"
     ]
    },
    {
     "name": "stdout",
     "output_type": "stream",
     "text": [
      "\n",
      " hiring_subsidy"
     ]
    },
    {
     "name": "stdout",
     "output_type": "stream",
     "text": [
      "\n",
      " hiring_subsidy_flex"
     ]
    },
    {
     "name": "stdout",
     "output_type": "stream",
     "text": [
      "\n",
      " hiring_subsidy_RA"
     ]
    },
    {
     "name": "stdout",
     "output_type": "stream",
     "text": [
      "\n",
      " phi_obar"
     ]
    },
    {
     "name": "stdout",
     "output_type": "stream",
     "text": [
      "\n",
      " u_bar"
     ]
    },
    {
     "name": "stdout",
     "output_type": "stream",
     "text": [
      "\n"
     ]
    },
    {
     "name": "stdout",
     "output_type": "stream",
     "text": [
      "\n",
      "### div_HtM ###\n",
      "\n"
     ]
    },
    {
     "name": "stdout",
     "output_type": "stream",
     "text": [
      "full run"
     ]
    },
    {
     "name": "stdout",
     "output_type": "stream",
     "text": [
      " [var_u_G] "
     ]
    },
    {
     "name": "stdout",
     "output_type": "stream",
     "text": [
      "\n",
      "_flex\n"
     ]
    },
    {
     "name": "stdout",
     "output_type": "stream",
     "text": [
      "basepol = 'G'"
     ]
    },
    {
     "name": "stdout",
     "output_type": "stream",
     "text": [
      "\n",
      " hh_transfer"
     ]
    },
    {
     "name": "stdout",
     "output_type": "stream",
     "text": [
      "\n",
      " retention_subsidy"
     ]
    },
    {
     "name": "stdout",
     "output_type": "stream",
     "text": [
      "\n",
      " retention_subsidy_flex"
     ]
    },
    {
     "name": "stdout",
     "output_type": "stream",
     "text": [
      "\n",
      " hiring_subsidy"
     ]
    },
    {
     "name": "stdout",
     "output_type": "stream",
     "text": [
      "\n",
      " hiring_subsidy_flex"
     ]
    },
    {
     "name": "stdout",
     "output_type": "stream",
     "text": [
      "\n",
      " phi_obar"
     ]
    },
    {
     "name": "stdout",
     "output_type": "stream",
     "text": [
      "\n",
      " u_bar"
     ]
    },
    {
     "name": "stdout",
     "output_type": "stream",
     "text": [
      "\n"
     ]
    },
    {
     "name": "stdout",
     "output_type": "stream",
     "text": [
      "\n",
      "### div_PIH ###\n",
      "\n"
     ]
    },
    {
     "name": "stdout",
     "output_type": "stream",
     "text": [
      "full run"
     ]
    },
    {
     "name": "stdout",
     "output_type": "stream",
     "text": [
      " [var_u_G] "
     ]
    },
    {
     "name": "stdout",
     "output_type": "stream",
     "text": [
      "\n",
      "_flex\n"
     ]
    },
    {
     "name": "stdout",
     "output_type": "stream",
     "text": [
      "_RA"
     ]
    },
    {
     "name": "stdout",
     "output_type": "stream",
     "text": [
      " [var_u_G] "
     ]
    },
    {
     "name": "stdout",
     "output_type": "stream",
     "text": [
      "\n",
      "basepol = 'G'"
     ]
    },
    {
     "name": "stdout",
     "output_type": "stream",
     "text": [
      "\n",
      " G_RA"
     ]
    },
    {
     "name": "stdout",
     "output_type": "stream",
     "text": [
      "\n",
      " hh_transfer"
     ]
    },
    {
     "name": "stdout",
     "output_type": "stream",
     "text": [
      "\n"
     ]
    },
    {
     "name": "stdout",
     "output_type": "stream",
     "text": [
      " retention_subsidy"
     ]
    },
    {
     "name": "stdout",
     "output_type": "stream",
     "text": [
      "\n",
      " retention_subsidy_flex"
     ]
    },
    {
     "name": "stdout",
     "output_type": "stream",
     "text": [
      "\n",
      " retention_subsidy_RA"
     ]
    },
    {
     "name": "stdout",
     "output_type": "stream",
     "text": [
      "\n",
      " hiring_subsidy"
     ]
    },
    {
     "name": "stdout",
     "output_type": "stream",
     "text": [
      "\n",
      " hiring_subsidy_flex"
     ]
    },
    {
     "name": "stdout",
     "output_type": "stream",
     "text": [
      "\n",
      " hiring_subsidy_RA"
     ]
    },
    {
     "name": "stdout",
     "output_type": "stream",
     "text": [
      "\n",
      " phi_obar"
     ]
    },
    {
     "name": "stdout",
     "output_type": "stream",
     "text": [
      "\n",
      " u_bar"
     ]
    },
    {
     "name": "stdout",
     "output_type": "stream",
     "text": [
      "\n"
     ]
    },
    {
     "name": "stdout",
     "output_type": "stream",
     "text": [
      "\n",
      "### div_return ###\n",
      "\n"
     ]
    },
    {
     "name": "stdout",
     "output_type": "stream",
     "text": [
      "full run"
     ]
    },
    {
     "name": "stdout",
     "output_type": "stream",
     "text": [
      " [var_u_G] "
     ]
    },
    {
     "name": "stdout",
     "output_type": "stream",
     "text": [
      "\n",
      "_flex\n"
     ]
    },
    {
     "name": "stdout",
     "output_type": "stream",
     "text": [
      "_RA"
     ]
    },
    {
     "name": "stdout",
     "output_type": "stream",
     "text": [
      " [var_u_G] "
     ]
    },
    {
     "name": "stdout",
     "output_type": "stream",
     "text": [
      "\n",
      "basepol = 'G'"
     ]
    },
    {
     "name": "stdout",
     "output_type": "stream",
     "text": [
      "\n",
      " G_RA"
     ]
    },
    {
     "name": "stdout",
     "output_type": "stream",
     "text": [
      "\n",
      " hh_transfer"
     ]
    },
    {
     "name": "stdout",
     "output_type": "stream",
     "text": [
      "\n",
      " retention_subsidy"
     ]
    },
    {
     "name": "stdout",
     "output_type": "stream",
     "text": [
      " failed, GEModelTools: No improvement for 5 iterations\n"
     ]
    },
    {
     "name": "stdout",
     "output_type": "stream",
     "text": [
      " retention_subsidy_flex"
     ]
    },
    {
     "name": "stdout",
     "output_type": "stream",
     "text": [
      "\n",
      " retention_subsidy_RA"
     ]
    },
    {
     "name": "stdout",
     "output_type": "stream",
     "text": [
      "\n",
      " hiring_subsidy"
     ]
    },
    {
     "name": "stdout",
     "output_type": "stream",
     "text": [
      " failed, GEModelTools: No improvement for 5 iterations\n"
     ]
    },
    {
     "name": "stdout",
     "output_type": "stream",
     "text": [
      " hiring_subsidy_flex"
     ]
    },
    {
     "name": "stdout",
     "output_type": "stream",
     "text": [
      "\n",
      " hiring_subsidy_RA"
     ]
    },
    {
     "name": "stdout",
     "output_type": "stream",
     "text": [
      "\n",
      " phi_obar"
     ]
    },
    {
     "name": "stdout",
     "output_type": "stream",
     "text": [
      "\n",
      " u_bar"
     ]
    },
    {
     "name": "stdout",
     "output_type": "stream",
     "text": [
      "\n"
     ]
    },
    {
     "name": "stdout",
     "output_type": "stream",
     "text": [
      "\n",
      "### div_HtM_calibrate_path ###\n",
      "\n"
     ]
    },
    {
     "name": "stdout",
     "output_type": "stream",
     "text": [
      "full run"
     ]
    },
    {
     "name": "stdout",
     "output_type": "stream",
     "text": [
      " [var_u_G] "
     ]
    },
    {
     "name": "stdout",
     "output_type": "stream",
     "text": [
      "\n",
      "_flex\n"
     ]
    },
    {
     "name": "stdout",
     "output_type": "stream",
     "text": [
      "basepol = 'G'"
     ]
    },
    {
     "name": "stdout",
     "output_type": "stream",
     "text": [
      "\n",
      " hh_transfer"
     ]
    },
    {
     "name": "stdout",
     "output_type": "stream",
     "text": [
      "\n",
      " retention_subsidy"
     ]
    },
    {
     "name": "stdout",
     "output_type": "stream",
     "text": [
      "\n",
      " retention_subsidy_flex"
     ]
    },
    {
     "name": "stdout",
     "output_type": "stream",
     "text": [
      "\n",
      " hiring_subsidy"
     ]
    },
    {
     "name": "stdout",
     "output_type": "stream",
     "text": [
      "\n",
      " hiring_subsidy_flex"
     ]
    },
    {
     "name": "stdout",
     "output_type": "stream",
     "text": [
      "\n",
      " phi_obar"
     ]
    },
    {
     "name": "stdout",
     "output_type": "stream",
     "text": [
      "\n",
      " u_bar"
     ]
    },
    {
     "name": "stdout",
     "output_type": "stream",
     "text": [
      "\n"
     ]
    },
    {
     "name": "stdout",
     "output_type": "stream",
     "text": [
      "\n",
      "### div_PIH_calibrate_beta_path_half ###\n",
      "\n"
     ]
    },
    {
     "name": "stdout",
     "output_type": "stream",
     "text": [
      "full run"
     ]
    },
    {
     "name": "stdout",
     "output_type": "stream",
     "text": [
      " [var_u_G] "
     ]
    },
    {
     "name": "stdout",
     "output_type": "stream",
     "text": [
      "\n",
      "_flex\n"
     ]
    },
    {
     "name": "stdout",
     "output_type": "stream",
     "text": [
      "_RA"
     ]
    },
    {
     "name": "stdout",
     "output_type": "stream",
     "text": [
      " [var_u_G] "
     ]
    },
    {
     "name": "stdout",
     "output_type": "stream",
     "text": [
      "\n",
      "basepol = 'G'"
     ]
    },
    {
     "name": "stdout",
     "output_type": "stream",
     "text": [
      "\n",
      " G_RA"
     ]
    },
    {
     "name": "stdout",
     "output_type": "stream",
     "text": [
      "\n",
      " hh_transfer"
     ]
    },
    {
     "name": "stdout",
     "output_type": "stream",
     "text": [
      "\n",
      " retention_subsidy"
     ]
    },
    {
     "name": "stdout",
     "output_type": "stream",
     "text": [
      "\n",
      " retention_subsidy_flex"
     ]
    },
    {
     "name": "stdout",
     "output_type": "stream",
     "text": [
      "\n",
      " retention_subsidy_RA"
     ]
    },
    {
     "name": "stdout",
     "output_type": "stream",
     "text": [
      "\n",
      " hiring_subsidy"
     ]
    },
    {
     "name": "stdout",
     "output_type": "stream",
     "text": [
      "\n",
      " hiring_subsidy_flex"
     ]
    },
    {
     "name": "stdout",
     "output_type": "stream",
     "text": [
      "\n",
      " hiring_subsidy_RA"
     ]
    },
    {
     "name": "stdout",
     "output_type": "stream",
     "text": [
      "\n",
      " phi_obar"
     ]
    },
    {
     "name": "stdout",
     "output_type": "stream",
     "text": [
      "\n",
      " u_bar"
     ]
    },
    {
     "name": "stdout",
     "output_type": "stream",
     "text": [
      "\n"
     ]
    },
    {
     "name": "stdout",
     "output_type": "stream",
     "text": [
      "\n"
     ]
    }
   ],
   "source": [
    "if not LOAD:\n",
    "    policy.run_all(basemodel,model_names,pols,pols_flex=pols_flex,pols_RA=pols_RA)"
   ]
  },
  {
   "cell_type": "code",
   "execution_count": 8,
   "id": "5dcd9874",
   "metadata": {
    "execution": {
     "iopub.execute_input": "2023-05-03T17:39:50.647090Z",
     "iopub.status.busy": "2023-05-03T17:39:50.646090Z",
     "iopub.status.idle": "2023-05-03T17:39:51.019356Z",
     "shell.execute_reply": "2023-05-03T17:39:51.018356Z"
    },
    "papermill": {
     "duration": 0.395326,
     "end_time": "2023-05-03T17:39:51.023359",
     "exception": false,
     "start_time": "2023-05-03T17:39:50.628033",
     "status": "completed"
    },
    "tags": []
   },
   "outputs": [
    {
     "data": {
      "text/html": [
       "<div>\n",
       "<style scoped>\n",
       "    .dataframe tbody tr th:only-of-type {\n",
       "        vertical-align: middle;\n",
       "    }\n",
       "\n",
       "    .dataframe tbody tr th {\n",
       "        vertical-align: top;\n",
       "    }\n",
       "\n",
       "    .dataframe thead th {\n",
       "        text-align: right;\n",
       "    }\n",
       "</style>\n",
       "<table border=\"1\" class=\"dataframe\">\n",
       "  <thead>\n",
       "    <tr style=\"text-align: right;\">\n",
       "      <th></th>\n",
       "      <th></th>\n",
       "      <th>MPC (qtr.)</th>\n",
       "      <th>C. drop in unemployment</th>\n",
       "      <th>Relative C. drop at UI exit</th>\n",
       "      <th>Share of EU</th>\n",
       "      <th>Time-shift</th>\n",
       "      <th>A_hh</th>\n",
       "      <th>TFP</th>\n",
       "    </tr>\n",
       "  </thead>\n",
       "  <tbody>\n",
       "    <tr>\n",
       "      <th>0</th>\n",
       "      <td>baseline</td>\n",
       "      <td>40.65</td>\n",
       "      <td>-19.95</td>\n",
       "      <td>-43.08</td>\n",
       "      <td>45.01</td>\n",
       "      <td>9.00</td>\n",
       "      <td>1.00</td>\n",
       "      <td>0.8718</td>\n",
       "    </tr>\n",
       "    <tr>\n",
       "      <th>1</th>\n",
       "      <td>high_liq</td>\n",
       "      <td>39.34</td>\n",
       "      <td>-17.15</td>\n",
       "      <td>-40.43</td>\n",
       "      <td>44.63</td>\n",
       "      <td>10.00</td>\n",
       "      <td>1.72</td>\n",
       "      <td>0.7922</td>\n",
       "    </tr>\n",
       "    <tr>\n",
       "      <th>2</th>\n",
       "      <td>mid_liq</td>\n",
       "      <td>41.67</td>\n",
       "      <td>-21.87</td>\n",
       "      <td>-44.90</td>\n",
       "      <td>45.11</td>\n",
       "      <td>9.00</td>\n",
       "      <td>0.74</td>\n",
       "      <td>0.9448</td>\n",
       "    </tr>\n",
       "    <tr>\n",
       "      <th>3</th>\n",
       "      <td>low_liq</td>\n",
       "      <td>42.55</td>\n",
       "      <td>-23.37</td>\n",
       "      <td>-46.27</td>\n",
       "      <td>45.18</td>\n",
       "      <td>9.00</td>\n",
       "      <td>0.58</td>\n",
       "      <td>1.0082</td>\n",
       "    </tr>\n",
       "    <tr>\n",
       "      <th>4</th>\n",
       "      <td>high_HtM_share_recalib_beta</td>\n",
       "      <td>44.73</td>\n",
       "      <td>-19.95</td>\n",
       "      <td>-46.33</td>\n",
       "      <td>44.72</td>\n",
       "      <td>10.00</td>\n",
       "      <td>1.20</td>\n",
       "      <td>0.7897</td>\n",
       "    </tr>\n",
       "    <tr>\n",
       "      <th>5</th>\n",
       "      <td>low_HtM_share_recalib_beta</td>\n",
       "      <td>36.71</td>\n",
       "      <td>-20.08</td>\n",
       "      <td>-39.95</td>\n",
       "      <td>45.16</td>\n",
       "      <td>9.00</td>\n",
       "      <td>0.87</td>\n",
       "      <td>0.9652</td>\n",
       "    </tr>\n",
       "    <tr>\n",
       "      <th>6</th>\n",
       "      <td>free_entry</td>\n",
       "      <td>40.65</td>\n",
       "      <td>-19.95</td>\n",
       "      <td>-43.08</td>\n",
       "      <td>67.22</td>\n",
       "      <td>0.00</td>\n",
       "      <td>1.00</td>\n",
       "      <td>0.3164</td>\n",
       "    </tr>\n",
       "    <tr>\n",
       "      <th>7</th>\n",
       "      <td>exo_sep</td>\n",
       "      <td>40.65</td>\n",
       "      <td>-19.95</td>\n",
       "      <td>-43.08</td>\n",
       "      <td>0.00</td>\n",
       "      <td>9.00</td>\n",
       "      <td>1.00</td>\n",
       "      <td>0.0321</td>\n",
       "    </tr>\n",
       "    <tr>\n",
       "      <th>8</th>\n",
       "      <td>div_HtM</td>\n",
       "      <td></td>\n",
       "      <td></td>\n",
       "      <td></td>\n",
       "      <td></td>\n",
       "      <td></td>\n",
       "      <td></td>\n",
       "      <td></td>\n",
       "    </tr>\n",
       "    <tr>\n",
       "      <th>9</th>\n",
       "      <td>div_PIH</td>\n",
       "      <td>40.58</td>\n",
       "      <td>-19.80</td>\n",
       "      <td>-42.94</td>\n",
       "      <td>45.13</td>\n",
       "      <td>10.00</td>\n",
       "      <td>1.03</td>\n",
       "      <td>0.3638</td>\n",
       "    </tr>\n",
       "    <tr>\n",
       "      <th>10</th>\n",
       "      <td>div_return</td>\n",
       "      <td></td>\n",
       "      <td></td>\n",
       "      <td></td>\n",
       "      <td></td>\n",
       "      <td></td>\n",
       "      <td></td>\n",
       "      <td></td>\n",
       "    </tr>\n",
       "    <tr>\n",
       "      <th>11</th>\n",
       "      <td>div_HtM_calibrate_path</td>\n",
       "      <td>40.65</td>\n",
       "      <td>-19.94</td>\n",
       "      <td>-43.08</td>\n",
       "      <td>45.11</td>\n",
       "      <td>9.00</td>\n",
       "      <td>0.85</td>\n",
       "      <td>0.8780</td>\n",
       "    </tr>\n",
       "    <tr>\n",
       "      <th>12</th>\n",
       "      <td>div_PIH_calibrate_beta_path_half</td>\n",
       "      <td>40.65</td>\n",
       "      <td>-20.00</td>\n",
       "      <td>-43.10</td>\n",
       "      <td>45.30</td>\n",
       "      <td>9.00</td>\n",
       "      <td>1.05</td>\n",
       "      <td>0.8781</td>\n",
       "    </tr>\n",
       "    <tr>\n",
       "      <th>13</th>\n",
       "      <td>baseline_flex</td>\n",
       "      <td>40.65</td>\n",
       "      <td>-19.95</td>\n",
       "      <td>-43.08</td>\n",
       "      <td>34.57</td>\n",
       "      <td>20.00</td>\n",
       "      <td>1.00</td>\n",
       "      <td>7.6875</td>\n",
       "    </tr>\n",
       "    <tr>\n",
       "      <th>14</th>\n",
       "      <td>high_liq_flex</td>\n",
       "      <td>39.34</td>\n",
       "      <td>-17.15</td>\n",
       "      <td>-40.43</td>\n",
       "      <td>34.57</td>\n",
       "      <td>20.00</td>\n",
       "      <td>1.72</td>\n",
       "      <td>7.6875</td>\n",
       "    </tr>\n",
       "    <tr>\n",
       "      <th>15</th>\n",
       "      <td>mid_liq_flex</td>\n",
       "      <td>41.67</td>\n",
       "      <td>-21.87</td>\n",
       "      <td>-44.90</td>\n",
       "      <td>34.57</td>\n",
       "      <td>20.00</td>\n",
       "      <td>0.74</td>\n",
       "      <td>7.6875</td>\n",
       "    </tr>\n",
       "    <tr>\n",
       "      <th>16</th>\n",
       "      <td>low_liq_flex</td>\n",
       "      <td>42.55</td>\n",
       "      <td>-23.37</td>\n",
       "      <td>-46.27</td>\n",
       "      <td>34.57</td>\n",
       "      <td>20.00</td>\n",
       "      <td>0.58</td>\n",
       "      <td>7.6875</td>\n",
       "    </tr>\n",
       "    <tr>\n",
       "      <th>17</th>\n",
       "      <td>high_HtM_share_recalib_beta_flex</td>\n",
       "      <td>44.73</td>\n",
       "      <td>-19.95</td>\n",
       "      <td>-46.33</td>\n",
       "      <td>34.57</td>\n",
       "      <td>20.00</td>\n",
       "      <td>1.20</td>\n",
       "      <td>7.6875</td>\n",
       "    </tr>\n",
       "    <tr>\n",
       "      <th>18</th>\n",
       "      <td>low_HtM_share_recalib_beta_flex</td>\n",
       "      <td>36.71</td>\n",
       "      <td>-20.08</td>\n",
       "      <td>-39.95</td>\n",
       "      <td>34.57</td>\n",
       "      <td>20.00</td>\n",
       "      <td>0.87</td>\n",
       "      <td>7.6875</td>\n",
       "    </tr>\n",
       "    <tr>\n",
       "      <th>19</th>\n",
       "      <td>free_entry_flex</td>\n",
       "      <td>40.65</td>\n",
       "      <td>-19.95</td>\n",
       "      <td>-43.08</td>\n",
       "      <td>66.42</td>\n",
       "      <td>0.00</td>\n",
       "      <td>1.00</td>\n",
       "      <td>2.3036</td>\n",
       "    </tr>\n",
       "    <tr>\n",
       "      <th>20</th>\n",
       "      <td>exo_sep_flex</td>\n",
       "      <td>40.65</td>\n",
       "      <td>-19.95</td>\n",
       "      <td>-43.08</td>\n",
       "      <td>0.00</td>\n",
       "      <td>10.00</td>\n",
       "      <td>1.00</td>\n",
       "      <td>0.1662</td>\n",
       "    </tr>\n",
       "    <tr>\n",
       "      <th>21</th>\n",
       "      <td>div_HtM_flex</td>\n",
       "      <td>40.65</td>\n",
       "      <td>-19.95</td>\n",
       "      <td>-43.08</td>\n",
       "      <td>34.57</td>\n",
       "      <td>20.00</td>\n",
       "      <td>1.00</td>\n",
       "      <td>7.6876</td>\n",
       "    </tr>\n",
       "    <tr>\n",
       "      <th>22</th>\n",
       "      <td>div_PIH_flex</td>\n",
       "      <td>40.58</td>\n",
       "      <td>-19.80</td>\n",
       "      <td>-42.94</td>\n",
       "      <td>34.57</td>\n",
       "      <td>20.00</td>\n",
       "      <td>1.03</td>\n",
       "      <td>7.6875</td>\n",
       "    </tr>\n",
       "    <tr>\n",
       "      <th>23</th>\n",
       "      <td>div_return_flex</td>\n",
       "      <td>40.65</td>\n",
       "      <td>-19.95</td>\n",
       "      <td>-43.08</td>\n",
       "      <td>34.57</td>\n",
       "      <td>20.00</td>\n",
       "      <td>1.00</td>\n",
       "      <td>7.6872</td>\n",
       "    </tr>\n",
       "    <tr>\n",
       "      <th>24</th>\n",
       "      <td>div_HtM_calibrate_path_flex</td>\n",
       "      <td>40.65</td>\n",
       "      <td>-19.94</td>\n",
       "      <td>-43.08</td>\n",
       "      <td>43.71</td>\n",
       "      <td>14.00</td>\n",
       "      <td>0.85</td>\n",
       "      <td>0.9025</td>\n",
       "    </tr>\n",
       "    <tr>\n",
       "      <th>25</th>\n",
       "      <td>div_PIH_calibrate_beta_path_half_flex</td>\n",
       "      <td>40.65</td>\n",
       "      <td>-20.00</td>\n",
       "      <td>-43.10</td>\n",
       "      <td>31.08</td>\n",
       "      <td>22.00</td>\n",
       "      <td>1.05</td>\n",
       "      <td>20.7673</td>\n",
       "    </tr>\n",
       "    <tr>\n",
       "      <th>26</th>\n",
       "      <td>baseline_RA</td>\n",
       "      <td>40.65</td>\n",
       "      <td>-19.95</td>\n",
       "      <td>-43.08</td>\n",
       "      <td>46.85</td>\n",
       "      <td>7.00</td>\n",
       "      <td>1.00</td>\n",
       "      <td>0.8606</td>\n",
       "    </tr>\n",
       "    <tr>\n",
       "      <th>27</th>\n",
       "      <td>high_liq_RA</td>\n",
       "      <td>39.34</td>\n",
       "      <td>-17.15</td>\n",
       "      <td>-40.43</td>\n",
       "      <td>46.80</td>\n",
       "      <td>7.00</td>\n",
       "      <td>1.72</td>\n",
       "      <td>0.8741</td>\n",
       "    </tr>\n",
       "    <tr>\n",
       "      <th>28</th>\n",
       "      <td>mid_liq_RA</td>\n",
       "      <td>41.67</td>\n",
       "      <td>-21.87</td>\n",
       "      <td>-44.90</td>\n",
       "      <td>46.88</td>\n",
       "      <td>7.00</td>\n",
       "      <td>0.74</td>\n",
       "      <td>0.8552</td>\n",
       "    </tr>\n",
       "    <tr>\n",
       "      <th>29</th>\n",
       "      <td>low_liq_RA</td>\n",
       "      <td>42.55</td>\n",
       "      <td>-23.37</td>\n",
       "      <td>-46.27</td>\n",
       "      <td>46.89</td>\n",
       "      <td>7.00</td>\n",
       "      <td>0.58</td>\n",
       "      <td>0.8521</td>\n",
       "    </tr>\n",
       "    <tr>\n",
       "      <th>30</th>\n",
       "      <td>high_HtM_share_recalib_beta_RA</td>\n",
       "      <td>44.73</td>\n",
       "      <td>-19.95</td>\n",
       "      <td>-46.33</td>\n",
       "      <td>46.84</td>\n",
       "      <td>7.00</td>\n",
       "      <td>1.20</td>\n",
       "      <td>0.8627</td>\n",
       "    </tr>\n",
       "    <tr>\n",
       "      <th>31</th>\n",
       "      <td>low_HtM_share_recalib_beta_RA</td>\n",
       "      <td>36.71</td>\n",
       "      <td>-20.08</td>\n",
       "      <td>-39.95</td>\n",
       "      <td>46.86</td>\n",
       "      <td>7.00</td>\n",
       "      <td>0.87</td>\n",
       "      <td>0.8591</td>\n",
       "    </tr>\n",
       "    <tr>\n",
       "      <th>32</th>\n",
       "      <td>free_entry_RA</td>\n",
       "      <td>40.65</td>\n",
       "      <td>-19.95</td>\n",
       "      <td>-43.08</td>\n",
       "      <td>67.85</td>\n",
       "      <td>0.00</td>\n",
       "      <td>1.00</td>\n",
       "      <td>0.3131</td>\n",
       "    </tr>\n",
       "    <tr>\n",
       "      <th>33</th>\n",
       "      <td>exo_sep_RA</td>\n",
       "      <td>40.65</td>\n",
       "      <td>-19.95</td>\n",
       "      <td>-43.08</td>\n",
       "      <td>0.00</td>\n",
       "      <td>8.00</td>\n",
       "      <td>1.00</td>\n",
       "      <td>0.0302</td>\n",
       "    </tr>\n",
       "    <tr>\n",
       "      <th>34</th>\n",
       "      <td>div_PIH_RA</td>\n",
       "      <td>40.58</td>\n",
       "      <td>-19.80</td>\n",
       "      <td>-42.94</td>\n",
       "      <td>46.85</td>\n",
       "      <td>7.00</td>\n",
       "      <td>1.03</td>\n",
       "      <td>0.8609</td>\n",
       "    </tr>\n",
       "    <tr>\n",
       "      <th>35</th>\n",
       "      <td>div_return_RA</td>\n",
       "      <td>40.65</td>\n",
       "      <td>-19.95</td>\n",
       "      <td>-43.08</td>\n",
       "      <td>46.85</td>\n",
       "      <td>7.00</td>\n",
       "      <td>1.00</td>\n",
       "      <td>0.8606</td>\n",
       "    </tr>\n",
       "    <tr>\n",
       "      <th>36</th>\n",
       "      <td>div_PIH_calibrate_beta_path_half_RA</td>\n",
       "      <td>40.65</td>\n",
       "      <td>-20.00</td>\n",
       "      <td>-43.10</td>\n",
       "      <td>47.84</td>\n",
       "      <td>7.00</td>\n",
       "      <td>1.05</td>\n",
       "      <td>1.8468</td>\n",
       "    </tr>\n",
       "  </tbody>\n",
       "</table>\n",
       "</div>"
      ],
      "text/plain": [
       "                                          MPC (qtr.) C. drop in unemployment  \\\n",
       "0                                baseline      40.65                  -19.95   \n",
       "1                                high_liq      39.34                  -17.15   \n",
       "2                                 mid_liq      41.67                  -21.87   \n",
       "3                                 low_liq      42.55                  -23.37   \n",
       "4             high_HtM_share_recalib_beta      44.73                  -19.95   \n",
       "5              low_HtM_share_recalib_beta      36.71                  -20.08   \n",
       "6                              free_entry      40.65                  -19.95   \n",
       "7                                 exo_sep      40.65                  -19.95   \n",
       "8                                 div_HtM                                      \n",
       "9                                 div_PIH      40.58                  -19.80   \n",
       "10                             div_return                                      \n",
       "11                 div_HtM_calibrate_path      40.65                  -19.94   \n",
       "12       div_PIH_calibrate_beta_path_half      40.65                  -20.00   \n",
       "13                          baseline_flex      40.65                  -19.95   \n",
       "14                          high_liq_flex      39.34                  -17.15   \n",
       "15                           mid_liq_flex      41.67                  -21.87   \n",
       "16                           low_liq_flex      42.55                  -23.37   \n",
       "17       high_HtM_share_recalib_beta_flex      44.73                  -19.95   \n",
       "18        low_HtM_share_recalib_beta_flex      36.71                  -20.08   \n",
       "19                        free_entry_flex      40.65                  -19.95   \n",
       "20                           exo_sep_flex      40.65                  -19.95   \n",
       "21                           div_HtM_flex      40.65                  -19.95   \n",
       "22                           div_PIH_flex      40.58                  -19.80   \n",
       "23                        div_return_flex      40.65                  -19.95   \n",
       "24            div_HtM_calibrate_path_flex      40.65                  -19.94   \n",
       "25  div_PIH_calibrate_beta_path_half_flex      40.65                  -20.00   \n",
       "26                            baseline_RA      40.65                  -19.95   \n",
       "27                            high_liq_RA      39.34                  -17.15   \n",
       "28                             mid_liq_RA      41.67                  -21.87   \n",
       "29                             low_liq_RA      42.55                  -23.37   \n",
       "30         high_HtM_share_recalib_beta_RA      44.73                  -19.95   \n",
       "31          low_HtM_share_recalib_beta_RA      36.71                  -20.08   \n",
       "32                          free_entry_RA      40.65                  -19.95   \n",
       "33                             exo_sep_RA      40.65                  -19.95   \n",
       "34                             div_PIH_RA      40.58                  -19.80   \n",
       "35                          div_return_RA      40.65                  -19.95   \n",
       "36    div_PIH_calibrate_beta_path_half_RA      40.65                  -20.00   \n",
       "\n",
       "   Relative C. drop at UI exit Share of EU Time-shift  A_hh      TFP  \n",
       "0                       -43.08       45.01       9.00  1.00   0.8718  \n",
       "1                       -40.43       44.63      10.00  1.72   0.7922  \n",
       "2                       -44.90       45.11       9.00  0.74   0.9448  \n",
       "3                       -46.27       45.18       9.00  0.58   1.0082  \n",
       "4                       -46.33       44.72      10.00  1.20   0.7897  \n",
       "5                       -39.95       45.16       9.00  0.87   0.9652  \n",
       "6                       -43.08       67.22       0.00  1.00   0.3164  \n",
       "7                       -43.08        0.00       9.00  1.00   0.0321  \n",
       "8                                                                     \n",
       "9                       -42.94       45.13      10.00  1.03   0.3638  \n",
       "10                                                                    \n",
       "11                      -43.08       45.11       9.00  0.85   0.8780  \n",
       "12                      -43.10       45.30       9.00  1.05   0.8781  \n",
       "13                      -43.08       34.57      20.00  1.00   7.6875  \n",
       "14                      -40.43       34.57      20.00  1.72   7.6875  \n",
       "15                      -44.90       34.57      20.00  0.74   7.6875  \n",
       "16                      -46.27       34.57      20.00  0.58   7.6875  \n",
       "17                      -46.33       34.57      20.00  1.20   7.6875  \n",
       "18                      -39.95       34.57      20.00  0.87   7.6875  \n",
       "19                      -43.08       66.42       0.00  1.00   2.3036  \n",
       "20                      -43.08        0.00      10.00  1.00   0.1662  \n",
       "21                      -43.08       34.57      20.00  1.00   7.6876  \n",
       "22                      -42.94       34.57      20.00  1.03   7.6875  \n",
       "23                      -43.08       34.57      20.00  1.00   7.6872  \n",
       "24                      -43.08       43.71      14.00  0.85   0.9025  \n",
       "25                      -43.10       31.08      22.00  1.05  20.7673  \n",
       "26                      -43.08       46.85       7.00  1.00   0.8606  \n",
       "27                      -40.43       46.80       7.00  1.72   0.8741  \n",
       "28                      -44.90       46.88       7.00  0.74   0.8552  \n",
       "29                      -46.27       46.89       7.00  0.58   0.8521  \n",
       "30                      -46.33       46.84       7.00  1.20   0.8627  \n",
       "31                      -39.95       46.86       7.00  0.87   0.8591  \n",
       "32                      -43.08       67.85       0.00  1.00   0.3131  \n",
       "33                      -43.08        0.00       8.00  1.00   0.0302  \n",
       "34                      -42.94       46.85       7.00  1.03   0.8609  \n",
       "35                      -43.08       46.85       7.00  1.00   0.8606  \n",
       "36                      -43.10       47.84       7.00  1.05   1.8468  "
      ]
     },
     "metadata": {},
     "output_type": "display_data"
    }
   ],
   "source": [
    "models = policy.load_models(model_names,flex=True,RA=True)\n",
    "df = policy.moms(models)"
   ]
  },
  {
   "cell_type": "markdown",
   "id": "3df454c2",
   "metadata": {
    "papermill": {
     "duration": 0.017015,
     "end_time": "2023-05-03T17:39:51.066397",
     "exception": false,
     "start_time": "2023-05-03T17:39:51.049382",
     "status": "completed"
    },
    "tags": []
   },
   "source": [
    "## 3. <a id='toc3_'></a>[IRFs](#toc0_)"
   ]
  },
  {
   "cell_type": "code",
   "execution_count": 9,
   "id": "8eb92ad9",
   "metadata": {
    "execution": {
     "iopub.execute_input": "2023-05-03T17:39:51.100467Z",
     "iopub.status.busy": "2023-05-03T17:39:51.099466Z",
     "iopub.status.idle": "2023-05-03T17:39:52.934936Z",
     "shell.execute_reply": "2023-05-03T17:39:52.933935Z"
    },
    "papermill": {
     "duration": 1.856486,
     "end_time": "2023-05-03T17:39:52.937938",
     "exception": false,
     "start_time": "2023-05-03T17:39:51.081452",
     "status": "completed"
    },
    "tags": []
   },
   "outputs": [
    {
     "data": {
      "image/png": "[encoded data removed]",
      "text/plain": [
       "<Figure size 800x500 with 1 Axes>"
      ]
     },
     "metadata": {},
     "output_type": "display_data"
    },
    {
     "data": {
      "image/png": "[encoded data removed]",
      "text/plain": [
       "<Figure size 800x500 with 1 Axes>"
      ]
     },
     "metadata": {},
     "output_type": "display_data"
    },
    {
     "data": {
      "image/png": "[encoded data removed]",
      "text/plain": [
       "<Figure size 800x500 with 1 Axes>"
      ]
     },
     "metadata": {},
     "output_type": "display_data"
    }
   ],
   "source": [
    "pol_models = policy.load_pol_models(model_names,pols)\n",
    "policy.pol_figures('baseline',pols,['u','tau','G'],pol_models)"
   ]
  },
  {
   "cell_type": "markdown",
   "id": "23723874",
   "metadata": {
    "papermill": {
     "duration": 0.018015,
     "end_time": "2023-05-03T17:39:52.983978",
     "exception": false,
     "start_time": "2023-05-03T17:39:52.965963",
     "status": "completed"
    },
    "tags": []
   },
   "source": [
    "## 4. <a id='toc4_'></a>[Fiscal multipliers](#toc0_)"
   ]
  },
  {
   "cell_type": "code",
   "execution_count": 10,
   "id": "739e55e2",
   "metadata": {
    "execution": {
     "iopub.execute_input": "2023-05-03T17:39:53.022050Z",
     "iopub.status.busy": "2023-05-03T17:39:53.021050Z",
     "iopub.status.idle": "2023-05-03T17:39:53.580471Z",
     "shell.execute_reply": "2023-05-03T17:39:53.579469Z"
    },
    "papermill": {
     "duration": 0.583482,
     "end_time": "2023-05-03T17:39:53.584474",
     "exception": false,
     "start_time": "2023-05-03T17:39:53.000992",
     "status": "completed"
    },
    "tags": []
   },
   "outputs": [
    {
     "data": {
      "text/html": [
       "<div>\n",
       "<style scoped>\n",
       "    .dataframe tbody tr th:only-of-type {\n",
       "        vertical-align: middle;\n",
       "    }\n",
       "\n",
       "    .dataframe tbody tr th {\n",
       "        vertical-align: top;\n",
       "    }\n",
       "\n",
       "    .dataframe thead th {\n",
       "        text-align: right;\n",
       "    }\n",
       "</style>\n",
       "<table border=\"1\" class=\"dataframe\">\n",
       "  <thead>\n",
       "    <tr style=\"text-align: right;\">\n",
       "      <th></th>\n",
       "      <th></th>\n",
       "      <th>G</th>\n",
       "      <th>transfer</th>\n",
       "      <th>retention</th>\n",
       "      <th>hiring</th>\n",
       "      <th>UI level</th>\n",
       "      <th>UI duration</th>\n",
       "    </tr>\n",
       "  </thead>\n",
       "  <tbody>\n",
       "    <tr>\n",
       "      <th>0</th>\n",
       "      <td>baseline</td>\n",
       "      <td>0.60</td>\n",
       "      <td>0.11</td>\n",
       "      <td>1.02</td>\n",
       "      <td>0.70</td>\n",
       "      <td>0.25</td>\n",
       "      <td>0.60</td>\n",
       "    </tr>\n",
       "    <tr>\n",
       "      <th>1</th>\n",
       "      <td>high_liq</td>\n",
       "      <td>0.53</td>\n",
       "      <td>0.05</td>\n",
       "      <td>0.93</td>\n",
       "      <td>0.63</td>\n",
       "      <td>0.12</td>\n",
       "      <td>0.26</td>\n",
       "    </tr>\n",
       "    <tr>\n",
       "      <th>2</th>\n",
       "      <td>mid_liq</td>\n",
       "      <td>0.66</td>\n",
       "      <td>0.18</td>\n",
       "      <td>1.13</td>\n",
       "      <td>0.77</td>\n",
       "      <td>0.38</td>\n",
       "      <td>1.00</td>\n",
       "    </tr>\n",
       "    <tr>\n",
       "      <th>3</th>\n",
       "      <td>low_liq</td>\n",
       "      <td>0.73</td>\n",
       "      <td>0.24</td>\n",
       "      <td>1.24</td>\n",
       "      <td>0.85</td>\n",
       "      <td>0.52</td>\n",
       "      <td>1.51</td>\n",
       "    </tr>\n",
       "    <tr>\n",
       "      <th>4</th>\n",
       "      <td>high_HtM_share_recalib_beta</td>\n",
       "      <td>0.59</td>\n",
       "      <td>0.09</td>\n",
       "      <td>1.00</td>\n",
       "      <td>0.69</td>\n",
       "      <td>0.19</td>\n",
       "      <td>0.42</td>\n",
       "    </tr>\n",
       "    <tr>\n",
       "      <th>5</th>\n",
       "      <td>low_HtM_share_recalib_beta</td>\n",
       "      <td>0.61</td>\n",
       "      <td>0.14</td>\n",
       "      <td>1.06</td>\n",
       "      <td>0.71</td>\n",
       "      <td>0.32</td>\n",
       "      <td>0.84</td>\n",
       "    </tr>\n",
       "    <tr>\n",
       "      <th>6</th>\n",
       "      <td>free_entry</td>\n",
       "      <td>0.37</td>\n",
       "      <td>0.08</td>\n",
       "      <td>0.59</td>\n",
       "      <td>0.67</td>\n",
       "      <td>0.16</td>\n",
       "      <td>0.37</td>\n",
       "    </tr>\n",
       "    <tr>\n",
       "      <th>7</th>\n",
       "      <td>exo_sep</td>\n",
       "      <td>0.13</td>\n",
       "      <td>0.03</td>\n",
       "      <td>0.19</td>\n",
       "      <td>0.54</td>\n",
       "      <td>0.06</td>\n",
       "      <td>0.13</td>\n",
       "    </tr>\n",
       "    <tr>\n",
       "      <th>8</th>\n",
       "      <td>div_HtM</td>\n",
       "      <td>0.69</td>\n",
       "      <td>0.13</td>\n",
       "      <td>2.48</td>\n",
       "      <td>1.75</td>\n",
       "      <td>0.28</td>\n",
       "      <td>0.69</td>\n",
       "    </tr>\n",
       "    <tr>\n",
       "      <th>9</th>\n",
       "      <td>div_PIH</td>\n",
       "      <td>0.56</td>\n",
       "      <td>0.10</td>\n",
       "      <td>0.80</td>\n",
       "      <td>0.49</td>\n",
       "      <td>0.22</td>\n",
       "      <td>0.54</td>\n",
       "    </tr>\n",
       "    <tr>\n",
       "      <th>10</th>\n",
       "      <td>div_return</td>\n",
       "      <td>0.32</td>\n",
       "      <td>0.07</td>\n",
       "      <td></td>\n",
       "      <td></td>\n",
       "      <td>0.14</td>\n",
       "      <td>0.33</td>\n",
       "    </tr>\n",
       "    <tr>\n",
       "      <th>11</th>\n",
       "      <td>div_HtM_calibrate_path</td>\n",
       "      <td>0.33</td>\n",
       "      <td>0.07</td>\n",
       "      <td>0.78</td>\n",
       "      <td>0.78</td>\n",
       "      <td>0.15</td>\n",
       "      <td>0.33</td>\n",
       "    </tr>\n",
       "    <tr>\n",
       "      <th>12</th>\n",
       "      <td>div_PIH_calibrate_beta_path_half</td>\n",
       "      <td>0.75</td>\n",
       "      <td>0.13</td>\n",
       "      <td>1.17</td>\n",
       "      <td>0.57</td>\n",
       "      <td>0.30</td>\n",
       "      <td>0.76</td>\n",
       "    </tr>\n",
       "    <tr>\n",
       "      <th>13</th>\n",
       "      <td>baseline_flex</td>\n",
       "      <td></td>\n",
       "      <td></td>\n",
       "      <td>0.21</td>\n",
       "      <td>0.22</td>\n",
       "      <td></td>\n",
       "      <td></td>\n",
       "    </tr>\n",
       "    <tr>\n",
       "      <th>14</th>\n",
       "      <td>high_liq_flex</td>\n",
       "      <td></td>\n",
       "      <td></td>\n",
       "      <td>0.19</td>\n",
       "      <td>0.21</td>\n",
       "      <td></td>\n",
       "      <td></td>\n",
       "    </tr>\n",
       "    <tr>\n",
       "      <th>15</th>\n",
       "      <td>mid_liq_flex</td>\n",
       "      <td></td>\n",
       "      <td></td>\n",
       "      <td>0.22</td>\n",
       "      <td>0.22</td>\n",
       "      <td></td>\n",
       "      <td></td>\n",
       "    </tr>\n",
       "    <tr>\n",
       "      <th>16</th>\n",
       "      <td>low_liq_flex</td>\n",
       "      <td></td>\n",
       "      <td></td>\n",
       "      <td>0.23</td>\n",
       "      <td>0.22</td>\n",
       "      <td></td>\n",
       "      <td></td>\n",
       "    </tr>\n",
       "    <tr>\n",
       "      <th>17</th>\n",
       "      <td>high_HtM_share_recalib_beta_flex</td>\n",
       "      <td></td>\n",
       "      <td></td>\n",
       "      <td>0.19</td>\n",
       "      <td>0.19</td>\n",
       "      <td></td>\n",
       "      <td></td>\n",
       "    </tr>\n",
       "    <tr>\n",
       "      <th>18</th>\n",
       "      <td>low_HtM_share_recalib_beta_flex</td>\n",
       "      <td></td>\n",
       "      <td></td>\n",
       "      <td>0.23</td>\n",
       "      <td>0.24</td>\n",
       "      <td></td>\n",
       "      <td></td>\n",
       "    </tr>\n",
       "    <tr>\n",
       "      <th>19</th>\n",
       "      <td>free_entry_flex</td>\n",
       "      <td></td>\n",
       "      <td></td>\n",
       "      <td>0.18</td>\n",
       "      <td>0.61</td>\n",
       "      <td></td>\n",
       "      <td></td>\n",
       "    </tr>\n",
       "    <tr>\n",
       "      <th>20</th>\n",
       "      <td>exo_sep_flex</td>\n",
       "      <td></td>\n",
       "      <td></td>\n",
       "      <td>0.06</td>\n",
       "      <td>0.42</td>\n",
       "      <td></td>\n",
       "      <td></td>\n",
       "    </tr>\n",
       "    <tr>\n",
       "      <th>21</th>\n",
       "      <td>div_HtM_flex</td>\n",
       "      <td></td>\n",
       "      <td></td>\n",
       "      <td>0.22</td>\n",
       "      <td>0.22</td>\n",
       "      <td></td>\n",
       "      <td></td>\n",
       "    </tr>\n",
       "    <tr>\n",
       "      <th>22</th>\n",
       "      <td>div_PIH_flex</td>\n",
       "      <td></td>\n",
       "      <td></td>\n",
       "      <td>0.21</td>\n",
       "      <td>0.22</td>\n",
       "      <td></td>\n",
       "      <td></td>\n",
       "    </tr>\n",
       "    <tr>\n",
       "      <th>23</th>\n",
       "      <td>div_return_flex</td>\n",
       "      <td></td>\n",
       "      <td></td>\n",
       "      <td>0.14</td>\n",
       "      <td>0.17</td>\n",
       "      <td></td>\n",
       "      <td></td>\n",
       "    </tr>\n",
       "    <tr>\n",
       "      <th>24</th>\n",
       "      <td>div_HtM_calibrate_path_flex</td>\n",
       "      <td></td>\n",
       "      <td></td>\n",
       "      <td>0.11</td>\n",
       "      <td>0.21</td>\n",
       "      <td></td>\n",
       "      <td></td>\n",
       "    </tr>\n",
       "    <tr>\n",
       "      <th>25</th>\n",
       "      <td>div_PIH_calibrate_beta_path_half_flex</td>\n",
       "      <td></td>\n",
       "      <td></td>\n",
       "      <td>0.30</td>\n",
       "      <td>0.22</td>\n",
       "      <td></td>\n",
       "      <td></td>\n",
       "    </tr>\n",
       "    <tr>\n",
       "      <th>26</th>\n",
       "      <td>baseline_RA</td>\n",
       "      <td>0.51</td>\n",
       "      <td></td>\n",
       "      <td>0.31</td>\n",
       "      <td>0.25</td>\n",
       "      <td></td>\n",
       "      <td></td>\n",
       "    </tr>\n",
       "    <tr>\n",
       "      <th>27</th>\n",
       "      <td>high_liq_RA</td>\n",
       "      <td>0.51</td>\n",
       "      <td></td>\n",
       "      <td>0.29</td>\n",
       "      <td>0.24</td>\n",
       "      <td></td>\n",
       "      <td></td>\n",
       "    </tr>\n",
       "    <tr>\n",
       "      <th>28</th>\n",
       "      <td>mid_liq_RA</td>\n",
       "      <td>0.50</td>\n",
       "      <td></td>\n",
       "      <td>0.34</td>\n",
       "      <td>0.26</td>\n",
       "      <td></td>\n",
       "      <td></td>\n",
       "    </tr>\n",
       "    <tr>\n",
       "      <th>29</th>\n",
       "      <td>low_liq_RA</td>\n",
       "      <td>0.49</td>\n",
       "      <td></td>\n",
       "      <td>0.36</td>\n",
       "      <td>0.27</td>\n",
       "      <td></td>\n",
       "      <td></td>\n",
       "    </tr>\n",
       "    <tr>\n",
       "      <th>30</th>\n",
       "      <td>high_HtM_share_recalib_beta_RA</td>\n",
       "      <td>0.54</td>\n",
       "      <td></td>\n",
       "      <td>0.27</td>\n",
       "      <td>0.23</td>\n",
       "      <td></td>\n",
       "      <td></td>\n",
       "    </tr>\n",
       "    <tr>\n",
       "      <th>31</th>\n",
       "      <td>low_HtM_share_recalib_beta_RA</td>\n",
       "      <td>0.48</td>\n",
       "      <td></td>\n",
       "      <td>0.37</td>\n",
       "      <td>0.28</td>\n",
       "      <td></td>\n",
       "      <td></td>\n",
       "    </tr>\n",
       "    <tr>\n",
       "      <th>32</th>\n",
       "      <td>free_entry_RA</td>\n",
       "      <td>0.33</td>\n",
       "      <td></td>\n",
       "      <td>0.22</td>\n",
       "      <td>0.42</td>\n",
       "      <td></td>\n",
       "      <td></td>\n",
       "    </tr>\n",
       "    <tr>\n",
       "      <th>33</th>\n",
       "      <td>exo_sep_RA</td>\n",
       "      <td>0.12</td>\n",
       "      <td></td>\n",
       "      <td>0.07</td>\n",
       "      <td>0.42</td>\n",
       "      <td></td>\n",
       "      <td></td>\n",
       "    </tr>\n",
       "    <tr>\n",
       "      <th>34</th>\n",
       "      <td>div_PIH_RA</td>\n",
       "      <td>0.55</td>\n",
       "      <td></td>\n",
       "      <td>0.29</td>\n",
       "      <td>0.24</td>\n",
       "      <td></td>\n",
       "      <td></td>\n",
       "    </tr>\n",
       "    <tr>\n",
       "      <th>35</th>\n",
       "      <td>div_return_RA</td>\n",
       "      <td>0.55</td>\n",
       "      <td></td>\n",
       "      <td>0.15</td>\n",
       "      <td>0.16</td>\n",
       "      <td></td>\n",
       "      <td></td>\n",
       "    </tr>\n",
       "    <tr>\n",
       "      <th>36</th>\n",
       "      <td>div_PIH_calibrate_beta_path_half_RA</td>\n",
       "      <td>0.73</td>\n",
       "      <td></td>\n",
       "      <td>0.42</td>\n",
       "      <td>0.26</td>\n",
       "      <td></td>\n",
       "      <td></td>\n",
       "    </tr>\n",
       "  </tbody>\n",
       "</table>\n",
       "</div>"
      ],
      "text/plain": [
       "                                              G transfer retention hiring  \\\n",
       "0                                baseline  0.60     0.11      1.02   0.70   \n",
       "1                                high_liq  0.53     0.05      0.93   0.63   \n",
       "2                                 mid_liq  0.66     0.18      1.13   0.77   \n",
       "3                                 low_liq  0.73     0.24      1.24   0.85   \n",
       "4             high_HtM_share_recalib_beta  0.59     0.09      1.00   0.69   \n",
       "5              low_HtM_share_recalib_beta  0.61     0.14      1.06   0.71   \n",
       "6                              free_entry  0.37     0.08      0.59   0.67   \n",
       "7                                 exo_sep  0.13     0.03      0.19   0.54   \n",
       "8                                 div_HtM  0.69     0.13      2.48   1.75   \n",
       "9                                 div_PIH  0.56     0.10      0.80   0.49   \n",
       "10                             div_return  0.32     0.07                    \n",
       "11                 div_HtM_calibrate_path  0.33     0.07      0.78   0.78   \n",
       "12       div_PIH_calibrate_beta_path_half  0.75     0.13      1.17   0.57   \n",
       "13                          baseline_flex                     0.21   0.22   \n",
       "14                          high_liq_flex                     0.19   0.21   \n",
       "15                           mid_liq_flex                     0.22   0.22   \n",
       "16                           low_liq_flex                     0.23   0.22   \n",
       "17       high_HtM_share_recalib_beta_flex                     0.19   0.19   \n",
       "18        low_HtM_share_recalib_beta_flex                     0.23   0.24   \n",
       "19                        free_entry_flex                     0.18   0.61   \n",
       "20                           exo_sep_flex                     0.06   0.42   \n",
       "21                           div_HtM_flex                     0.22   0.22   \n",
       "22                           div_PIH_flex                     0.21   0.22   \n",
       "23                        div_return_flex                     0.14   0.17   \n",
       "24            div_HtM_calibrate_path_flex                     0.11   0.21   \n",
       "25  div_PIH_calibrate_beta_path_half_flex                     0.30   0.22   \n",
       "26                            baseline_RA  0.51               0.31   0.25   \n",
       "27                            high_liq_RA  0.51               0.29   0.24   \n",
       "28                             mid_liq_RA  0.50               0.34   0.26   \n",
       "29                             low_liq_RA  0.49               0.36   0.27   \n",
       "30         high_HtM_share_recalib_beta_RA  0.54               0.27   0.23   \n",
       "31          low_HtM_share_recalib_beta_RA  0.48               0.37   0.28   \n",
       "32                          free_entry_RA  0.33               0.22   0.42   \n",
       "33                             exo_sep_RA  0.12               0.07   0.42   \n",
       "34                             div_PIH_RA  0.55               0.29   0.24   \n",
       "35                          div_return_RA  0.55               0.15   0.16   \n",
       "36    div_PIH_calibrate_beta_path_half_RA  0.73               0.42   0.26   \n",
       "\n",
       "   UI level UI duration  \n",
       "0      0.25        0.60  \n",
       "1      0.12        0.26  \n",
       "2      0.38        1.00  \n",
       "3      0.52        1.51  \n",
       "4      0.19        0.42  \n",
       "5      0.32        0.84  \n",
       "6      0.16        0.37  \n",
       "7      0.06        0.13  \n",
       "8      0.28        0.69  \n",
       "9      0.22        0.54  \n",
       "10     0.14        0.33  \n",
       "11     0.15        0.33  \n",
       "12     0.30        0.76  \n",
       "13                       \n",
       "14                       \n",
       "15                       \n",
       "16                       \n",
       "17                       \n",
       "18                       \n",
       "19                       \n",
       "20                       \n",
       "21                       \n",
       "22                       \n",
       "23                       \n",
       "24                       \n",
       "25                       \n",
       "26                       \n",
       "27                       \n",
       "28                       \n",
       "29                       \n",
       "30                       \n",
       "31                       \n",
       "32                       \n",
       "33                       \n",
       "34                       \n",
       "35                       \n",
       "36                       "
      ]
     },
     "metadata": {},
     "output_type": "display_data"
    }
   ],
   "source": [
    "pol_models = policy.load_pol_models(model_names,pols,pols_flex=pols_flex,pols_RA=pols_RA)\n",
    "df = policy.fiscal_multipliers(pol_models)"
   ]
  },
  {
   "cell_type": "markdown",
   "id": "15b4fb95",
   "metadata": {
    "papermill": {
     "duration": 0.018015,
     "end_time": "2023-05-03T17:39:53.629512",
     "exception": false,
     "start_time": "2023-05-03T17:39:53.611497",
     "status": "completed"
    },
    "tags": []
   },
   "source": [
    "## 5. <a id='toc5_'></a>[Latex tables](#toc0_)"
   ]
  },
  {
   "cell_type": "code",
   "execution_count": 11,
   "id": "b5e1bdd1",
   "metadata": {
    "execution": {
     "iopub.execute_input": "2023-05-03T17:39:53.668588Z",
     "iopub.status.busy": "2023-05-03T17:39:53.667586Z",
     "iopub.status.idle": "2023-05-03T17:39:53.806657Z",
     "shell.execute_reply": "2023-05-03T17:39:53.805657Z"
    },
    "papermill": {
     "duration": 0.162177,
     "end_time": "2023-05-03T17:39:53.809703",
     "exception": false,
     "start_time": "2023-05-03T17:39:53.647526",
     "status": "completed"
    },
    "tags": []
   },
   "outputs": [],
   "source": [
    "model_labels = {}\n",
    "for name in model_names:\n",
    "\n",
    "    if name == 'baseline':\n",
    "        model_labels[name] = 'baseline'\n",
    "    elif name == 'high_liq':\n",
    "        model_labels[name] = f'$A/Y = {models[name].moms[\"A_hh\"]/models[name].ss.Y_hh:.3f}$'\n",
    "    elif name == 'mid_liq':\n",
    "        model_labels[name] = f'$A/Y = {models[name].moms[\"A_hh\"]/models[name].ss.Y_hh:.3f}$'\n",
    "    elif name == 'low_liq':\n",
    "        model_labels[name] = f'$A/Y = {models[name].moms[\"A_hh\"]/models[name].ss.Y_hh:.3f}$'\n",
    "    elif name == 'very_low_liq':\n",
    "        model_labels[name] = f'$A/Y = {models[name].moms[\"A_hh\"]/models[name].ss.Y_hh:.3f}$'\n",
    "    elif name == 'high_HtM_share_recalib_beta':\n",
    "        model_labels[name] = 'more HtM'\n",
    "    elif name == 'low_HtM_share_recalib_beta':\n",
    "        model_labels[name] = 'fewer HtM'        \n",
    "    elif name == 'free_entry':\n",
    "        model_labels[name] = 'free entry'\n",
    "    elif name == 'exo_sep':\n",
    "        model_labels[name] = 'exo. sep.'\n",
    "    elif name == 'div_HtM':\n",
    "        model_labels[name] = 'all div. to HtM'\n",
    "    elif name == 'div_PIH':\n",
    "        model_labels[name] = 'half div. to PIH'            \n",
    "    elif name == 'div_HtM_calibrate_path':\n",
    "        model_labels[name] = 'all div. to HtM $\\\\dagger$'\n",
    "    elif name == 'div_PIH_calibrate_beta_path_half':\n",
    "        model_labels[name] = 'half div. to PIH $\\\\dagger$'        \n",
    "    else:\n",
    "        model_labels[name] = name\n",
    "\n",
    "    model_labels[name + '_flex'] = 'flexible prices'\n",
    "    model_labels[name + '_RA'] = 'full insurance'"
   ]
  },
  {
   "cell_type": "code",
   "execution_count": 12,
   "id": "ed2c33cc",
   "metadata": {
    "execution": {
     "iopub.execute_input": "2023-05-03T17:39:53.859743Z",
     "iopub.status.busy": "2023-05-03T17:39:53.858701Z",
     "iopub.status.idle": "2023-05-03T17:39:54.131970Z",
     "shell.execute_reply": "2023-05-03T17:39:54.130926Z"
    },
    "papermill": {
     "duration": 0.297289,
     "end_time": "2023-05-03T17:39:54.135974",
     "exception": false,
     "start_time": "2023-05-03T17:39:53.838685",
     "status": "completed"
    },
    "tags": []
   },
   "outputs": [],
   "source": [
    "models_ = policy.load_models(model_names)\n",
    "models = policy.load_models(model_names,flex=True,RA=True)\n",
    "models_main = {**models_,\n",
    "               **{'baseline_flex':models['baseline_flex']},\n",
    "               **{'baseline_RA':models['baseline_RA']}\n",
    "            }\n",
    "\n",
    "pol_models_ = policy.load_pol_models(model_names,pols)\n",
    "pol_models = policy.load_pol_models(model_names,pols,pols_flex=pols_flex,pols_RA=pols_RA)\n",
    "pol_models_main = {**pol_models_,\n",
    "                  **{('baseline_flex',pol):pol_models[('baseline_flex',pol)] \n",
    "                  for pol in pols_flex if pol in pols},\n",
    "                  **{('baseline_RA',pol):pol_models[('baseline_RA',pol)] \n",
    "                  for pol in pols_RA if pol in pols}\n",
    "                    }"
   ]
  },
  {
   "cell_type": "code",
   "execution_count": 13,
   "id": "c255f74d",
   "metadata": {
    "execution": {
     "iopub.execute_input": "2023-05-03T17:39:54.186972Z",
     "iopub.status.busy": "2023-05-03T17:39:54.185972Z",
     "iopub.status.idle": "2023-05-03T17:39:54.324129Z",
     "shell.execute_reply": "2023-05-03T17:39:54.323129Z"
    },
    "papermill": {
     "duration": 0.162177,
     "end_time": "2023-05-03T17:39:54.328133",
     "exception": false,
     "start_time": "2023-05-03T17:39:54.165956",
     "status": "completed"
    },
    "tags": []
   },
   "outputs": [
    {
     "data": {
      "text/html": [
       "<div>\n",
       "<style scoped>\n",
       "    .dataframe tbody tr th:only-of-type {\n",
       "        vertical-align: middle;\n",
       "    }\n",
       "\n",
       "    .dataframe tbody tr th {\n",
       "        vertical-align: top;\n",
       "    }\n",
       "\n",
       "    .dataframe thead th {\n",
       "        text-align: right;\n",
       "    }\n",
       "</style>\n",
       "<table border=\"1\" class=\"dataframe\">\n",
       "  <thead>\n",
       "    <tr style=\"text-align: right;\">\n",
       "      <th></th>\n",
       "      <th></th>\n",
       "      <th>TFP</th>\n",
       "      <th>G</th>\n",
       "    </tr>\n",
       "  </thead>\n",
       "  <tbody>\n",
       "    <tr>\n",
       "      <th>0</th>\n",
       "      <td>baseline</td>\n",
       "      <td>0.8718</td>\n",
       "      <td>0.0421</td>\n",
       "    </tr>\n",
       "    <tr>\n",
       "      <th>1</th>\n",
       "      <td>$A/Y = 3.623$</td>\n",
       "      <td>0.7922</td>\n",
       "      <td>0.0378</td>\n",
       "    </tr>\n",
       "    <tr>\n",
       "      <th>2</th>\n",
       "      <td>$A/Y = 1.553$</td>\n",
       "      <td>0.9448</td>\n",
       "      <td>0.0466</td>\n",
       "    </tr>\n",
       "    <tr>\n",
       "      <th>3</th>\n",
       "      <td>$A/Y = 1.228$</td>\n",
       "      <td>1.0082</td>\n",
       "      <td>0.0515</td>\n",
       "    </tr>\n",
       "    <tr>\n",
       "      <th>4</th>\n",
       "      <td>more HtM</td>\n",
       "      <td>0.7897</td>\n",
       "      <td>0.0449</td>\n",
       "    </tr>\n",
       "    <tr>\n",
       "      <th>5</th>\n",
       "      <td>fewer HtM</td>\n",
       "      <td>0.9652</td>\n",
       "      <td>0.0402</td>\n",
       "    </tr>\n",
       "    <tr>\n",
       "      <th>6</th>\n",
       "      <td>free entry</td>\n",
       "      <td>0.3164</td>\n",
       "      <td>0.0221</td>\n",
       "    </tr>\n",
       "    <tr>\n",
       "      <th>7</th>\n",
       "      <td>exo. sep.</td>\n",
       "      <td>0.0321</td>\n",
       "      <td>0.0028</td>\n",
       "    </tr>\n",
       "    <tr>\n",
       "      <th>8</th>\n",
       "      <td>all div. to HtM</td>\n",
       "      <td></td>\n",
       "      <td>0.0520</td>\n",
       "    </tr>\n",
       "    <tr>\n",
       "      <th>9</th>\n",
       "      <td>half div. to PIH</td>\n",
       "      <td>0.3638</td>\n",
       "      <td>0.0392</td>\n",
       "    </tr>\n",
       "    <tr>\n",
       "      <th>10</th>\n",
       "      <td>div_return</td>\n",
       "      <td></td>\n",
       "      <td>0.0169</td>\n",
       "    </tr>\n",
       "    <tr>\n",
       "      <th>11</th>\n",
       "      <td>all div. to HtM $\\dagger$</td>\n",
       "      <td>0.8780</td>\n",
       "      <td>0.0178</td>\n",
       "    </tr>\n",
       "    <tr>\n",
       "      <th>12</th>\n",
       "      <td>half div. to PIH $\\dagger$</td>\n",
       "      <td>0.8781</td>\n",
       "      <td>0.0581</td>\n",
       "    </tr>\n",
       "    <tr>\n",
       "      <th>13</th>\n",
       "      <td>flexible prices</td>\n",
       "      <td>7.6875</td>\n",
       "      <td>0.0421</td>\n",
       "    </tr>\n",
       "    <tr>\n",
       "      <th>14</th>\n",
       "      <td>full insurance</td>\n",
       "      <td>0.8606</td>\n",
       "      <td>0.0159</td>\n",
       "    </tr>\n",
       "  </tbody>\n",
       "</table>\n",
       "</div>"
      ],
      "text/plain": [
       "                                   TFP       G\n",
       "0                     baseline  0.8718  0.0421\n",
       "1                $A/Y = 3.623$  0.7922  0.0378\n",
       "2                $A/Y = 1.553$  0.9448  0.0466\n",
       "3                $A/Y = 1.228$  1.0082  0.0515\n",
       "4                     more HtM  0.7897  0.0449\n",
       "5                    fewer HtM  0.9652  0.0402\n",
       "6                   free entry  0.3164  0.0221\n",
       "7                    exo. sep.  0.0321  0.0028\n",
       "8              all div. to HtM          0.0520\n",
       "9             half div. to PIH  0.3638  0.0392\n",
       "10                  div_return          0.0169\n",
       "11   all div. to HtM $\\dagger$  0.8780  0.0178\n",
       "12  half div. to PIH $\\dagger$  0.8781  0.0581\n",
       "13             flexible prices  7.6875  0.0421\n",
       "14              full insurance  0.8606  0.0159"
      ]
     },
     "metadata": {},
     "output_type": "display_data"
    }
   ],
   "source": [
    "df = policy.moms(models_main,momnames=['var_u','var_u_G'],model_labels=model_labels)"
   ]
  },
  {
   "cell_type": "code",
   "execution_count": 14,
   "id": "46e2e837",
   "metadata": {
    "execution": {
     "iopub.execute_input": "2023-05-03T17:39:54.387138Z",
     "iopub.status.busy": "2023-05-03T17:39:54.387138Z",
     "iopub.status.idle": "2023-05-03T17:39:54.538264Z",
     "shell.execute_reply": "2023-05-03T17:39:54.537263Z"
    },
    "papermill": {
     "duration": 0.185152,
     "end_time": "2023-05-03T17:39:54.542267",
     "exception": false,
     "start_time": "2023-05-03T17:39:54.357115",
     "status": "completed"
    },
    "tags": []
   },
   "outputs": [
    {
     "data": {
      "text/html": [
       "<div>\n",
       "<style scoped>\n",
       "    .dataframe tbody tr th:only-of-type {\n",
       "        vertical-align: middle;\n",
       "    }\n",
       "\n",
       "    .dataframe tbody tr th {\n",
       "        vertical-align: top;\n",
       "    }\n",
       "\n",
       "    .dataframe thead th {\n",
       "        text-align: right;\n",
       "    }\n",
       "</style>\n",
       "<table border=\"1\" class=\"dataframe\">\n",
       "  <thead>\n",
       "    <tr style=\"text-align: right;\">\n",
       "      <th></th>\n",
       "      <th></th>\n",
       "      <th>G</th>\n",
       "      <th>transfer</th>\n",
       "      <th>retention</th>\n",
       "      <th>hiring</th>\n",
       "      <th>UI level</th>\n",
       "      <th>UI duration</th>\n",
       "    </tr>\n",
       "  </thead>\n",
       "  <tbody>\n",
       "    <tr>\n",
       "      <th>0</th>\n",
       "      <td>baseline</td>\n",
       "      <td>0.60</td>\n",
       "      <td>0.11</td>\n",
       "      <td>1.02</td>\n",
       "      <td>0.70</td>\n",
       "      <td>0.25</td>\n",
       "      <td>0.60</td>\n",
       "    </tr>\n",
       "    <tr>\n",
       "      <th>1</th>\n",
       "      <td>$A/Y = 3.623$</td>\n",
       "      <td>0.53</td>\n",
       "      <td>0.05</td>\n",
       "      <td>0.93</td>\n",
       "      <td>0.63</td>\n",
       "      <td>0.12</td>\n",
       "      <td>0.26</td>\n",
       "    </tr>\n",
       "    <tr>\n",
       "      <th>2</th>\n",
       "      <td>$A/Y = 1.553$</td>\n",
       "      <td>0.66</td>\n",
       "      <td>0.18</td>\n",
       "      <td>1.13</td>\n",
       "      <td>0.77</td>\n",
       "      <td>0.38</td>\n",
       "      <td>1.00</td>\n",
       "    </tr>\n",
       "    <tr>\n",
       "      <th>3</th>\n",
       "      <td>$A/Y = 1.228$</td>\n",
       "      <td>0.73</td>\n",
       "      <td>0.24</td>\n",
       "      <td>1.24</td>\n",
       "      <td>0.85</td>\n",
       "      <td>0.52</td>\n",
       "      <td>1.51</td>\n",
       "    </tr>\n",
       "    <tr>\n",
       "      <th>4</th>\n",
       "      <td>more HtM</td>\n",
       "      <td>0.59</td>\n",
       "      <td>0.09</td>\n",
       "      <td>1.00</td>\n",
       "      <td>0.69</td>\n",
       "      <td>0.19</td>\n",
       "      <td>0.42</td>\n",
       "    </tr>\n",
       "    <tr>\n",
       "      <th>5</th>\n",
       "      <td>fewer HtM</td>\n",
       "      <td>0.61</td>\n",
       "      <td>0.14</td>\n",
       "      <td>1.06</td>\n",
       "      <td>0.71</td>\n",
       "      <td>0.32</td>\n",
       "      <td>0.84</td>\n",
       "    </tr>\n",
       "    <tr>\n",
       "      <th>6</th>\n",
       "      <td>free entry</td>\n",
       "      <td>0.37</td>\n",
       "      <td>0.08</td>\n",
       "      <td>0.59</td>\n",
       "      <td>0.67</td>\n",
       "      <td>0.16</td>\n",
       "      <td>0.37</td>\n",
       "    </tr>\n",
       "    <tr>\n",
       "      <th>7</th>\n",
       "      <td>exo. sep.</td>\n",
       "      <td>0.13</td>\n",
       "      <td>0.03</td>\n",
       "      <td>0.19</td>\n",
       "      <td>0.54</td>\n",
       "      <td>0.06</td>\n",
       "      <td>0.13</td>\n",
       "    </tr>\n",
       "    <tr>\n",
       "      <th>8</th>\n",
       "      <td>all div. to HtM</td>\n",
       "      <td>0.69</td>\n",
       "      <td>0.13</td>\n",
       "      <td>2.48</td>\n",
       "      <td>1.75</td>\n",
       "      <td>0.28</td>\n",
       "      <td>0.69</td>\n",
       "    </tr>\n",
       "    <tr>\n",
       "      <th>9</th>\n",
       "      <td>half div. to PIH</td>\n",
       "      <td>0.56</td>\n",
       "      <td>0.10</td>\n",
       "      <td>0.80</td>\n",
       "      <td>0.49</td>\n",
       "      <td>0.22</td>\n",
       "      <td>0.54</td>\n",
       "    </tr>\n",
       "    <tr>\n",
       "      <th>10</th>\n",
       "      <td>div_return</td>\n",
       "      <td>0.32</td>\n",
       "      <td>0.07</td>\n",
       "      <td></td>\n",
       "      <td></td>\n",
       "      <td>0.14</td>\n",
       "      <td>0.33</td>\n",
       "    </tr>\n",
       "    <tr>\n",
       "      <th>11</th>\n",
       "      <td>all div. to HtM $\\dagger$</td>\n",
       "      <td>0.33</td>\n",
       "      <td>0.07</td>\n",
       "      <td>0.78</td>\n",
       "      <td>0.78</td>\n",
       "      <td>0.15</td>\n",
       "      <td>0.33</td>\n",
       "    </tr>\n",
       "    <tr>\n",
       "      <th>12</th>\n",
       "      <td>half div. to PIH $\\dagger$</td>\n",
       "      <td>0.75</td>\n",
       "      <td>0.13</td>\n",
       "      <td>1.17</td>\n",
       "      <td>0.57</td>\n",
       "      <td>0.30</td>\n",
       "      <td>0.76</td>\n",
       "    </tr>\n",
       "    <tr>\n",
       "      <th>13</th>\n",
       "      <td>flexible prices</td>\n",
       "      <td></td>\n",
       "      <td></td>\n",
       "      <td>0.21</td>\n",
       "      <td>0.22</td>\n",
       "      <td></td>\n",
       "      <td></td>\n",
       "    </tr>\n",
       "    <tr>\n",
       "      <th>14</th>\n",
       "      <td>full insurance</td>\n",
       "      <td>0.51</td>\n",
       "      <td></td>\n",
       "      <td>0.31</td>\n",
       "      <td>0.25</td>\n",
       "      <td></td>\n",
       "      <td></td>\n",
       "    </tr>\n",
       "  </tbody>\n",
       "</table>\n",
       "</div>"
      ],
      "text/plain": [
       "                                   G transfer retention hiring UI level  \\\n",
       "0                     baseline  0.60     0.11      1.02   0.70     0.25   \n",
       "1                $A/Y = 3.623$  0.53     0.05      0.93   0.63     0.12   \n",
       "2                $A/Y = 1.553$  0.66     0.18      1.13   0.77     0.38   \n",
       "3                $A/Y = 1.228$  0.73     0.24      1.24   0.85     0.52   \n",
       "4                     more HtM  0.59     0.09      1.00   0.69     0.19   \n",
       "5                    fewer HtM  0.61     0.14      1.06   0.71     0.32   \n",
       "6                   free entry  0.37     0.08      0.59   0.67     0.16   \n",
       "7                    exo. sep.  0.13     0.03      0.19   0.54     0.06   \n",
       "8              all div. to HtM  0.69     0.13      2.48   1.75     0.28   \n",
       "9             half div. to PIH  0.56     0.10      0.80   0.49     0.22   \n",
       "10                  div_return  0.32     0.07                      0.14   \n",
       "11   all div. to HtM $\\dagger$  0.33     0.07      0.78   0.78     0.15   \n",
       "12  half div. to PIH $\\dagger$  0.75     0.13      1.17   0.57     0.30   \n",
       "13             flexible prices                     0.21   0.22            \n",
       "14              full insurance  0.51               0.31   0.25            \n",
       "\n",
       "   UI duration  \n",
       "0         0.60  \n",
       "1         0.26  \n",
       "2         1.00  \n",
       "3         1.51  \n",
       "4         0.42  \n",
       "5         0.84  \n",
       "6         0.37  \n",
       "7         0.13  \n",
       "8         0.69  \n",
       "9         0.54  \n",
       "10        0.33  \n",
       "11        0.33  \n",
       "12        0.76  \n",
       "13              \n",
       "14              "
      ]
     },
     "metadata": {},
     "output_type": "display_data"
    }
   ],
   "source": [
    "df = policy.fiscal_multipliers(pol_models_main,model_labels=model_labels)"
   ]
  },
  {
   "cell_type": "markdown",
   "id": "7c40fb2b",
   "metadata": {
    "papermill": {
     "duration": 0.018013,
     "end_time": "2023-05-03T17:39:54.589305",
     "exception": false,
     "start_time": "2023-05-03T17:39:54.571292",
     "status": "completed"
    },
    "tags": []
   },
   "source": [
    "## 6. <a id='toc6_'></a>[Slides](#toc0_)"
   ]
  },
  {
   "cell_type": "code",
   "execution_count": 15,
   "id": "59effdd8",
   "metadata": {
    "execution": {
     "iopub.execute_input": "2023-05-03T17:39:54.627335Z",
     "iopub.status.busy": "2023-05-03T17:39:54.627335Z",
     "iopub.status.idle": "2023-05-03T17:39:54.837511Z",
     "shell.execute_reply": "2023-05-03T17:39:54.836510Z"
    },
    "papermill": {
     "duration": 0.234239,
     "end_time": "2023-05-03T17:39:54.841559",
     "exception": false,
     "start_time": "2023-05-03T17:39:54.607320",
     "status": "completed"
    },
    "tags": []
   },
   "outputs": [
    {
     "data": {
      "text/html": [
       "<div>\n",
       "<style scoped>\n",
       "    .dataframe tbody tr th:only-of-type {\n",
       "        vertical-align: middle;\n",
       "    }\n",
       "\n",
       "    .dataframe tbody tr th {\n",
       "        vertical-align: top;\n",
       "    }\n",
       "\n",
       "    .dataframe thead th {\n",
       "        text-align: right;\n",
       "    }\n",
       "</style>\n",
       "<table border=\"1\" class=\"dataframe\">\n",
       "  <thead>\n",
       "    <tr style=\"text-align: right;\">\n",
       "      <th></th>\n",
       "      <th></th>\n",
       "      <th>G</th>\n",
       "      <th>transfer</th>\n",
       "      <th>retention</th>\n",
       "      <th>hiring</th>\n",
       "      <th>UI level</th>\n",
       "      <th>UI duration</th>\n",
       "    </tr>\n",
       "  </thead>\n",
       "  <tbody>\n",
       "    <tr>\n",
       "      <th>0</th>\n",
       "      <td>baseline</td>\n",
       "      <td>0.60</td>\n",
       "      <td>0.11</td>\n",
       "      <td>1.02</td>\n",
       "      <td>0.70</td>\n",
       "      <td>0.25</td>\n",
       "      <td>0.60</td>\n",
       "    </tr>\n",
       "  </tbody>\n",
       "</table>\n",
       "</div>"
      ],
      "text/plain": [
       "                G transfer retention hiring UI level UI duration\n",
       "0  baseline  0.60     0.11      1.02   0.70     0.25        0.60"
      ]
     },
     "metadata": {},
     "output_type": "display_data"
    }
   ],
   "source": [
    "policy.fiscal_multipliers(pol_models,['baseline'],tex='baseline',model_labels=model_labels)"
   ]
  },
  {
   "cell_type": "code",
   "execution_count": 16,
   "id": "0178abd8",
   "metadata": {
    "execution": {
     "iopub.execute_input": "2023-05-03T17:39:54.891556Z",
     "iopub.status.busy": "2023-05-03T17:39:54.890555Z",
     "iopub.status.idle": "2023-05-03T17:39:55.045684Z",
     "shell.execute_reply": "2023-05-03T17:39:55.044683Z"
    },
    "papermill": {
     "duration": 0.180147,
     "end_time": "2023-05-03T17:39:55.049687",
     "exception": false,
     "start_time": "2023-05-03T17:39:54.869540",
     "status": "completed"
    },
    "tags": []
   },
   "outputs": [
    {
     "data": {
      "text/html": [
       "<div>\n",
       "<style scoped>\n",
       "    .dataframe tbody tr th:only-of-type {\n",
       "        vertical-align: middle;\n",
       "    }\n",
       "\n",
       "    .dataframe tbody tr th {\n",
       "        vertical-align: top;\n",
       "    }\n",
       "\n",
       "    .dataframe thead th {\n",
       "        text-align: right;\n",
       "    }\n",
       "</style>\n",
       "<table border=\"1\" class=\"dataframe\">\n",
       "  <thead>\n",
       "    <tr style=\"text-align: right;\">\n",
       "      <th></th>\n",
       "      <th></th>\n",
       "      <th>G</th>\n",
       "      <th>transfer</th>\n",
       "      <th>retention</th>\n",
       "      <th>hiring</th>\n",
       "      <th>UI level</th>\n",
       "      <th>UI duration</th>\n",
       "    </tr>\n",
       "  </thead>\n",
       "  <tbody>\n",
       "    <tr>\n",
       "      <th>0</th>\n",
       "      <td>baseline</td>\n",
       "      <td>0.60</td>\n",
       "      <td>0.11</td>\n",
       "      <td>1.02</td>\n",
       "      <td>0.70</td>\n",
       "      <td>0.25</td>\n",
       "      <td>0.60</td>\n",
       "    </tr>\n",
       "    <tr>\n",
       "      <th>1</th>\n",
       "      <td>flexible prices</td>\n",
       "      <td>0.00</td>\n",
       "      <td>0.00</td>\n",
       "      <td>0.21</td>\n",
       "      <td>0.22</td>\n",
       "      <td>0.00</td>\n",
       "      <td>0.00</td>\n",
       "    </tr>\n",
       "    <tr>\n",
       "      <th>2</th>\n",
       "      <td>full insurance</td>\n",
       "      <td>0.51</td>\n",
       "      <td>0.00</td>\n",
       "      <td>0.31</td>\n",
       "      <td>0.25</td>\n",
       "      <td>0.00</td>\n",
       "      <td>0.00</td>\n",
       "    </tr>\n",
       "  </tbody>\n",
       "</table>\n",
       "</div>"
      ],
      "text/plain": [
       "                       G transfer retention hiring UI level UI duration\n",
       "0         baseline  0.60     0.11      1.02   0.70     0.25        0.60\n",
       "1  flexible prices  0.00     0.00      0.21   0.22     0.00        0.00\n",
       "2   full insurance  0.51     0.00      0.31   0.25     0.00        0.00"
      ]
     },
     "metadata": {},
     "output_type": "display_data"
    }
   ],
   "source": [
    "policy.fiscal_multipliers(pol_models,['baseline','baseline_RA','baseline_flex'],tex='flex_RA',model_labels=model_labels,nan_value='0.00')"
   ]
  },
  {
   "cell_type": "code",
   "execution_count": 17,
   "id": "42b42422",
   "metadata": {
    "execution": {
     "iopub.execute_input": "2023-05-03T17:39:55.117743Z",
     "iopub.status.busy": "2023-05-03T17:39:55.117743Z",
     "iopub.status.idle": "2023-05-03T17:39:55.258860Z",
     "shell.execute_reply": "2023-05-03T17:39:55.257859Z"
    },
    "papermill": {
     "duration": 0.172144,
     "end_time": "2023-05-03T17:39:55.262867",
     "exception": false,
     "start_time": "2023-05-03T17:39:55.090723",
     "status": "completed"
    },
    "tags": []
   },
   "outputs": [
    {
     "data": {
      "text/html": [
       "<div>\n",
       "<style scoped>\n",
       "    .dataframe tbody tr th:only-of-type {\n",
       "        vertical-align: middle;\n",
       "    }\n",
       "\n",
       "    .dataframe tbody tr th {\n",
       "        vertical-align: top;\n",
       "    }\n",
       "\n",
       "    .dataframe thead th {\n",
       "        text-align: right;\n",
       "    }\n",
       "</style>\n",
       "<table border=\"1\" class=\"dataframe\">\n",
       "  <thead>\n",
       "    <tr style=\"text-align: right;\">\n",
       "      <th></th>\n",
       "      <th></th>\n",
       "      <th>G</th>\n",
       "      <th>transfer</th>\n",
       "      <th>retention</th>\n",
       "      <th>hiring</th>\n",
       "      <th>UI level</th>\n",
       "      <th>UI duration</th>\n",
       "    </tr>\n",
       "  </thead>\n",
       "  <tbody>\n",
       "    <tr>\n",
       "      <th>0</th>\n",
       "      <td>baseline</td>\n",
       "      <td>1.0 [0.60]</td>\n",
       "      <td>0.19</td>\n",
       "      <td>1.72</td>\n",
       "      <td>1.17</td>\n",
       "      <td>0.41</td>\n",
       "      <td>1.00</td>\n",
       "    </tr>\n",
       "    <tr>\n",
       "      <th>1</th>\n",
       "      <td>free entry</td>\n",
       "      <td>1.0 [0.37]</td>\n",
       "      <td>0.21</td>\n",
       "      <td>1.62</td>\n",
       "      <td>1.84</td>\n",
       "      <td>0.43</td>\n",
       "      <td>1.00</td>\n",
       "    </tr>\n",
       "    <tr>\n",
       "      <th>2</th>\n",
       "      <td>exo. sep.</td>\n",
       "      <td>1.0 [0.13]</td>\n",
       "      <td>0.22</td>\n",
       "      <td>1.52</td>\n",
       "      <td>4.26</td>\n",
       "      <td>0.46</td>\n",
       "      <td>1.00</td>\n",
       "    </tr>\n",
       "  </tbody>\n",
       "</table>\n",
       "</div>"
      ],
      "text/plain": [
       "                        G transfer retention hiring UI level UI duration\n",
       "0    baseline  1.0 [0.60]     0.19      1.72   1.17     0.41        1.00\n",
       "1  free entry  1.0 [0.37]     0.21      1.62   1.84     0.43        1.00\n",
       "2   exo. sep.  1.0 [0.13]     0.22      1.52   4.26     0.46        1.00"
      ]
     },
     "metadata": {},
     "output_type": "display_data"
    }
   ],
   "source": [
    "policy.fiscal_multipliers(pol_models,['baseline','free_entry','exo_sep'],tex='labor_market',do_rel=True,not_G_rel=True,model_labels=model_labels)"
   ]
  },
  {
   "cell_type": "code",
   "execution_count": 18,
   "id": "581221bd",
   "metadata": {
    "execution": {
     "iopub.execute_input": "2023-05-03T17:39:55.312905Z",
     "iopub.status.busy": "2023-05-03T17:39:55.311904Z",
     "iopub.status.idle": "2023-05-03T17:39:55.454022Z",
     "shell.execute_reply": "2023-05-03T17:39:55.453021Z"
    },
    "papermill": {
     "duration": 0.167136,
     "end_time": "2023-05-03T17:39:55.458025",
     "exception": false,
     "start_time": "2023-05-03T17:39:55.290889",
     "status": "completed"
    },
    "tags": []
   },
   "outputs": [
    {
     "data": {
      "text/html": [
       "<div>\n",
       "<style scoped>\n",
       "    .dataframe tbody tr th:only-of-type {\n",
       "        vertical-align: middle;\n",
       "    }\n",
       "\n",
       "    .dataframe tbody tr th {\n",
       "        vertical-align: top;\n",
       "    }\n",
       "\n",
       "    .dataframe thead th {\n",
       "        text-align: right;\n",
       "    }\n",
       "</style>\n",
       "<table border=\"1\" class=\"dataframe\">\n",
       "  <thead>\n",
       "    <tr style=\"text-align: right;\">\n",
       "      <th></th>\n",
       "      <th></th>\n",
       "      <th>G</th>\n",
       "      <th>transfer</th>\n",
       "      <th>retention</th>\n",
       "      <th>hiring</th>\n",
       "      <th>UI level</th>\n",
       "      <th>UI duration</th>\n",
       "    </tr>\n",
       "  </thead>\n",
       "  <tbody>\n",
       "    <tr>\n",
       "      <th>0</th>\n",
       "      <td>baseline</td>\n",
       "      <td>1.0 [0.60]</td>\n",
       "      <td>0.19</td>\n",
       "      <td>1.72</td>\n",
       "      <td>1.17</td>\n",
       "      <td>0.41</td>\n",
       "      <td>1.00</td>\n",
       "    </tr>\n",
       "    <tr>\n",
       "      <th>1</th>\n",
       "      <td>$A/Y = 3.623$</td>\n",
       "      <td>1.0 [0.53]</td>\n",
       "      <td>0.10</td>\n",
       "      <td>1.77</td>\n",
       "      <td>1.20</td>\n",
       "      <td>0.23</td>\n",
       "      <td>0.49</td>\n",
       "    </tr>\n",
       "    <tr>\n",
       "      <th>2</th>\n",
       "      <td>$A/Y = 1.553$</td>\n",
       "      <td>1.0 [0.66]</td>\n",
       "      <td>0.27</td>\n",
       "      <td>1.70</td>\n",
       "      <td>1.17</td>\n",
       "      <td>0.57</td>\n",
       "      <td>1.51</td>\n",
       "    </tr>\n",
       "    <tr>\n",
       "      <th>3</th>\n",
       "      <td>$A/Y = 1.228$</td>\n",
       "      <td>1.0 [0.73]</td>\n",
       "      <td>0.33</td>\n",
       "      <td>1.70</td>\n",
       "      <td>1.16</td>\n",
       "      <td>0.71</td>\n",
       "      <td>2.06</td>\n",
       "    </tr>\n",
       "  </tbody>\n",
       "</table>\n",
       "</div>"
      ],
      "text/plain": [
       "                           G transfer retention hiring UI level UI duration\n",
       "0       baseline  1.0 [0.60]     0.19      1.72   1.17     0.41        1.00\n",
       "1  $A/Y = 3.623$  1.0 [0.53]     0.10      1.77   1.20     0.23        0.49\n",
       "2  $A/Y = 1.553$  1.0 [0.66]     0.27      1.70   1.17     0.57        1.51\n",
       "3  $A/Y = 1.228$  1.0 [0.73]     0.33      1.70   1.16     0.71        2.06"
      ]
     },
     "metadata": {},
     "output_type": "display_data"
    }
   ],
   "source": [
    "policy.fiscal_multipliers(pol_models,['baseline','very_low_liq','low_liq','mid_liq','high_liq'],tex='liquidity',do_rel=True,not_G_rel=True,model_labels=model_labels)"
   ]
  },
  {
   "cell_type": "code",
   "execution_count": 19,
   "id": "97ad2b78",
   "metadata": {
    "execution": {
     "iopub.execute_input": "2023-05-03T17:39:55.516073Z",
     "iopub.status.busy": "2023-05-03T17:39:55.515072Z",
     "iopub.status.idle": "2023-05-03T17:39:55.662236Z",
     "shell.execute_reply": "2023-05-03T17:39:55.662236Z"
    },
    "papermill": {
     "duration": 0.180191,
     "end_time": "2023-05-03T17:39:55.666240",
     "exception": false,
     "start_time": "2023-05-03T17:39:55.486049",
     "status": "completed"
    },
    "tags": []
   },
   "outputs": [
    {
     "data": {
      "text/html": [
       "<div>\n",
       "<style scoped>\n",
       "    .dataframe tbody tr th:only-of-type {\n",
       "        vertical-align: middle;\n",
       "    }\n",
       "\n",
       "    .dataframe tbody tr th {\n",
       "        vertical-align: top;\n",
       "    }\n",
       "\n",
       "    .dataframe thead th {\n",
       "        text-align: right;\n",
       "    }\n",
       "</style>\n",
       "<table border=\"1\" class=\"dataframe\">\n",
       "  <thead>\n",
       "    <tr style=\"text-align: right;\">\n",
       "      <th></th>\n",
       "      <th></th>\n",
       "      <th>G</th>\n",
       "      <th>transfer</th>\n",
       "      <th>retention</th>\n",
       "      <th>hiring</th>\n",
       "      <th>UI level</th>\n",
       "      <th>UI duration</th>\n",
       "    </tr>\n",
       "  </thead>\n",
       "  <tbody>\n",
       "    <tr>\n",
       "      <th>0</th>\n",
       "      <td>baseline</td>\n",
       "      <td>1.0 [0.60]</td>\n",
       "      <td>0.19</td>\n",
       "      <td>1.72</td>\n",
       "      <td>1.17</td>\n",
       "      <td>0.41</td>\n",
       "      <td>1.00</td>\n",
       "    </tr>\n",
       "    <tr>\n",
       "      <th>1</th>\n",
       "      <td>more HtM</td>\n",
       "      <td>1.0 [0.59]</td>\n",
       "      <td>0.15</td>\n",
       "      <td>1.70</td>\n",
       "      <td>1.18</td>\n",
       "      <td>0.32</td>\n",
       "      <td>0.71</td>\n",
       "    </tr>\n",
       "    <tr>\n",
       "      <th>2</th>\n",
       "      <td>fewer HtM</td>\n",
       "      <td>1.0 [0.61]</td>\n",
       "      <td>0.23</td>\n",
       "      <td>1.75</td>\n",
       "      <td>1.17</td>\n",
       "      <td>0.52</td>\n",
       "      <td>1.38</td>\n",
       "    </tr>\n",
       "  </tbody>\n",
       "</table>\n",
       "</div>"
      ],
      "text/plain": [
       "                       G transfer retention hiring UI level UI duration\n",
       "0   baseline  1.0 [0.60]     0.19      1.72   1.17     0.41        1.00\n",
       "1   more HtM  1.0 [0.59]     0.15      1.70   1.18     0.32        0.71\n",
       "2  fewer HtM  1.0 [0.61]     0.23      1.75   1.17     0.52        1.38"
      ]
     },
     "metadata": {},
     "output_type": "display_data"
    }
   ],
   "source": [
    "policy.fiscal_multipliers(pol_models,['baseline','high_HtM_share_recalib_beta','low_HtM_share_recalib_beta'],\n",
    "                          tex='HtM_share',do_rel=True,not_G_rel=True,model_labels=model_labels)"
   ]
  },
  {
   "cell_type": "code",
   "execution_count": 20,
   "id": "3bc5d906",
   "metadata": {
    "execution": {
     "iopub.execute_input": "2023-05-03T17:39:55.718282Z",
     "iopub.status.busy": "2023-05-03T17:39:55.716282Z",
     "iopub.status.idle": "2023-05-03T17:39:55.867364Z",
     "shell.execute_reply": "2023-05-03T17:39:55.866364Z"
    },
    "papermill": {
     "duration": 0.175143,
     "end_time": "2023-05-03T17:39:55.870366",
     "exception": false,
     "start_time": "2023-05-03T17:39:55.695223",
     "status": "completed"
    },
    "tags": []
   },
   "outputs": [
    {
     "data": {
      "text/html": [
       "<div>\n",
       "<style scoped>\n",
       "    .dataframe tbody tr th:only-of-type {\n",
       "        vertical-align: middle;\n",
       "    }\n",
       "\n",
       "    .dataframe tbody tr th {\n",
       "        vertical-align: top;\n",
       "    }\n",
       "\n",
       "    .dataframe thead th {\n",
       "        text-align: right;\n",
       "    }\n",
       "</style>\n",
       "<table border=\"1\" class=\"dataframe\">\n",
       "  <thead>\n",
       "    <tr style=\"text-align: right;\">\n",
       "      <th></th>\n",
       "      <th></th>\n",
       "      <th>G</th>\n",
       "      <th>transfer</th>\n",
       "      <th>retention</th>\n",
       "      <th>hiring</th>\n",
       "      <th>UI level</th>\n",
       "      <th>UI duration</th>\n",
       "    </tr>\n",
       "  </thead>\n",
       "  <tbody>\n",
       "    <tr>\n",
       "      <th>0</th>\n",
       "      <td>baseline</td>\n",
       "      <td>1.0 [0.60]</td>\n",
       "      <td>0.19</td>\n",
       "      <td>1.72</td>\n",
       "      <td>1.17</td>\n",
       "      <td>0.41</td>\n",
       "      <td>1.00</td>\n",
       "    </tr>\n",
       "    <tr>\n",
       "      <th>1</th>\n",
       "      <td>all div. to HtM</td>\n",
       "      <td>1.0 [0.69]</td>\n",
       "      <td>0.19</td>\n",
       "      <td>3.57</td>\n",
       "      <td>2.52</td>\n",
       "      <td>0.41</td>\n",
       "      <td>1.00</td>\n",
       "    </tr>\n",
       "    <tr>\n",
       "      <th>2</th>\n",
       "      <td>half div. to PIH</td>\n",
       "      <td>1.0 [0.56]</td>\n",
       "      <td>0.18</td>\n",
       "      <td>1.43</td>\n",
       "      <td>0.87</td>\n",
       "      <td>0.40</td>\n",
       "      <td>0.96</td>\n",
       "    </tr>\n",
       "    <tr>\n",
       "      <th>3</th>\n",
       "      <td>all div. to HtM $\\dagger$</td>\n",
       "      <td>1.0 [0.33]</td>\n",
       "      <td>0.21</td>\n",
       "      <td>2.36</td>\n",
       "      <td>2.37</td>\n",
       "      <td>0.44</td>\n",
       "      <td>1.00</td>\n",
       "    </tr>\n",
       "    <tr>\n",
       "      <th>4</th>\n",
       "      <td>half div. to PIH $\\dagger$</td>\n",
       "      <td>1.0 [0.75]</td>\n",
       "      <td>0.18</td>\n",
       "      <td>1.56</td>\n",
       "      <td>0.76</td>\n",
       "      <td>0.39</td>\n",
       "      <td>1.00</td>\n",
       "    </tr>\n",
       "  </tbody>\n",
       "</table>\n",
       "</div>"
      ],
      "text/plain": [
       "                                        G transfer retention hiring UI level  \\\n",
       "0                    baseline  1.0 [0.60]     0.19      1.72   1.17     0.41   \n",
       "1             all div. to HtM  1.0 [0.69]     0.19      3.57   2.52     0.41   \n",
       "2            half div. to PIH  1.0 [0.56]     0.18      1.43   0.87     0.40   \n",
       "3   all div. to HtM $\\dagger$  1.0 [0.33]     0.21      2.36   2.37     0.44   \n",
       "4  half div. to PIH $\\dagger$  1.0 [0.75]     0.18      1.56   0.76     0.39   \n",
       "\n",
       "  UI duration  \n",
       "0        1.00  \n",
       "1        1.00  \n",
       "2        0.96  \n",
       "3        1.00  \n",
       "4        1.00  "
      ]
     },
     "metadata": {},
     "output_type": "display_data"
    }
   ],
   "source": [
    "policy.fiscal_multipliers(pol_models,['baseline','div_HtM','div_PIH','div_HtM_calibrate_path','div_PIH_calibrate_beta_path_half'],\n",
    "                          tex='div',do_rel=True,not_G_rel=True,model_labels=model_labels)"
   ]
  },
  {
   "cell_type": "code",
   "execution_count": 21,
   "id": "2729cde0",
   "metadata": {
    "execution": {
     "iopub.execute_input": "2023-05-03T17:39:55.921452Z",
     "iopub.status.busy": "2023-05-03T17:39:55.921452Z",
     "iopub.status.idle": "2023-05-03T17:39:56.063527Z",
     "shell.execute_reply": "2023-05-03T17:39:56.062526Z"
    },
    "papermill": {
     "duration": 0.167138,
     "end_time": "2023-05-03T17:39:56.066529",
     "exception": false,
     "start_time": "2023-05-03T17:39:55.899391",
     "status": "completed"
    },
    "tags": []
   },
   "outputs": [
    {
     "data": {
      "text/html": [
       "<div>\n",
       "<style scoped>\n",
       "    .dataframe tbody tr th:only-of-type {\n",
       "        vertical-align: middle;\n",
       "    }\n",
       "\n",
       "    .dataframe tbody tr th {\n",
       "        vertical-align: top;\n",
       "    }\n",
       "\n",
       "    .dataframe thead th {\n",
       "        text-align: right;\n",
       "    }\n",
       "</style>\n",
       "<table border=\"1\" class=\"dataframe\">\n",
       "  <thead>\n",
       "    <tr style=\"text-align: right;\">\n",
       "      <th></th>\n",
       "      <th></th>\n",
       "      <th>TFP</th>\n",
       "      <th>G</th>\n",
       "    </tr>\n",
       "  </thead>\n",
       "  <tbody>\n",
       "    <tr>\n",
       "      <th>0</th>\n",
       "      <td>baseline</td>\n",
       "      <td>0.8718</td>\n",
       "      <td>0.0421</td>\n",
       "    </tr>\n",
       "    <tr>\n",
       "      <th>1</th>\n",
       "      <td>$A/Y = 3.623$</td>\n",
       "      <td>0.7922</td>\n",
       "      <td>0.0378</td>\n",
       "    </tr>\n",
       "    <tr>\n",
       "      <th>2</th>\n",
       "      <td>$A/Y = 1.553$</td>\n",
       "      <td>0.9448</td>\n",
       "      <td>0.0466</td>\n",
       "    </tr>\n",
       "    <tr>\n",
       "      <th>3</th>\n",
       "      <td>$A/Y = 1.228$</td>\n",
       "      <td>1.0082</td>\n",
       "      <td>0.0515</td>\n",
       "    </tr>\n",
       "    <tr>\n",
       "      <th>4</th>\n",
       "      <td>more HtM</td>\n",
       "      <td>0.7897</td>\n",
       "      <td>0.0449</td>\n",
       "    </tr>\n",
       "    <tr>\n",
       "      <th>5</th>\n",
       "      <td>fewer HtM</td>\n",
       "      <td>0.9652</td>\n",
       "      <td>0.0402</td>\n",
       "    </tr>\n",
       "    <tr>\n",
       "      <th>6</th>\n",
       "      <td>free entry</td>\n",
       "      <td>0.3164</td>\n",
       "      <td>0.0221</td>\n",
       "    </tr>\n",
       "    <tr>\n",
       "      <th>7</th>\n",
       "      <td>exo. sep.</td>\n",
       "      <td>0.0321</td>\n",
       "      <td>0.0028</td>\n",
       "    </tr>\n",
       "    <tr>\n",
       "      <th>8</th>\n",
       "      <td>all div. to HtM</td>\n",
       "      <td></td>\n",
       "      <td>0.0520</td>\n",
       "    </tr>\n",
       "    <tr>\n",
       "      <th>9</th>\n",
       "      <td>half div. to PIH</td>\n",
       "      <td>0.3638</td>\n",
       "      <td>0.0392</td>\n",
       "    </tr>\n",
       "    <tr>\n",
       "      <th>10</th>\n",
       "      <td>all div. to HtM $\\dagger$</td>\n",
       "      <td>0.8780</td>\n",
       "      <td>0.0178</td>\n",
       "    </tr>\n",
       "    <tr>\n",
       "      <th>11</th>\n",
       "      <td>half div. to PIH $\\dagger$</td>\n",
       "      <td>0.8781</td>\n",
       "      <td>0.0581</td>\n",
       "    </tr>\n",
       "    <tr>\n",
       "      <th>12</th>\n",
       "      <td>flexible prices</td>\n",
       "      <td>7.6875</td>\n",
       "      <td>0.0000</td>\n",
       "    </tr>\n",
       "    <tr>\n",
       "      <th>13</th>\n",
       "      <td>full insurance</td>\n",
       "      <td>0.8606</td>\n",
       "      <td>0.0159</td>\n",
       "    </tr>\n",
       "  </tbody>\n",
       "</table>\n",
       "</div>"
      ],
      "text/plain": [
       "                                   TFP       G\n",
       "0                     baseline  0.8718  0.0421\n",
       "1                $A/Y = 3.623$  0.7922  0.0378\n",
       "2                $A/Y = 1.553$  0.9448  0.0466\n",
       "3                $A/Y = 1.228$  1.0082  0.0515\n",
       "4                     more HtM  0.7897  0.0449\n",
       "5                    fewer HtM  0.9652  0.0402\n",
       "6                   free entry  0.3164  0.0221\n",
       "7                    exo. sep.  0.0321  0.0028\n",
       "8              all div. to HtM          0.0520\n",
       "9             half div. to PIH  0.3638  0.0392\n",
       "10   all div. to HtM $\\dagger$  0.8780  0.0178\n",
       "11  half div. to PIH $\\dagger$  0.8781  0.0581\n",
       "12             flexible prices  7.6875  0.0000\n",
       "13              full insurance  0.8606  0.0159"
      ]
     },
     "metadata": {},
     "output_type": "display_data"
    }
   ],
   "source": [
    "del models_main['div_return']\n",
    "models_main['baseline_flex'].moms['var_u_G'] = 0.0\n",
    "df = policy.moms(models_main,momnames=['var_u','var_u_G'],tex='amplification',model_labels=model_labels)"
   ]
  }
 ],
 "metadata": {
  "kernelspec": {
   "display_name": "Python 3",
   "language": "python",
   "name": "python3"
  },
  "language_info": {
   "codemirror_mode": {
    "name": "ipython",
    "version": 3
   },
   "file_extension": ".py",
   "mimetype": "text/x-python",
   "name": "python",
   "nbconvert_exporter": "python",
   "pygments_lexer": "ipython3",
   "version": "3.9.16"
  },
  "papermill": {
   "default_parameters": {},
   "duration": 8055.95118,
   "end_time": "2023-05-03T17:40:00.375882",
   "environment_variables": {},
   "exception": null,
   "input_path": "03b. Policies.ipynb",
   "output_path": "temp_notebooks/03b. Policies.ipynb",
   "parameters": {},
   "start_time": "2023-05-03T15:25:44.424702",
   "version": "2.4.0"
  },
  "vscode": {
   "interpreter": {
    "hash": "47ef90cdf3004d3f859f1fb202523c65c07ba7c22eefd261b181f4744e2d0403"
   }
  }
 },
 "nbformat": 4,
 "nbformat_minor": 5
}