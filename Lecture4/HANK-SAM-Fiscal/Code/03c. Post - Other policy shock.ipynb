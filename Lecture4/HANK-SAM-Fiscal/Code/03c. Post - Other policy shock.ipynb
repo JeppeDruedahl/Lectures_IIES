{
 "cells": [
  {
   "cell_type": "markdown",
   "id": "1500b474",
   "metadata": {
    "papermill": {
     "duration": 0.012052,
     "end_time": "2023-05-03T17:49:42.076723",
     "exception": false,
     "start_time": "2023-05-03T17:49:42.064671",
     "status": "completed"
    },
    "tags": []
   },
   "source": [
    "# Shock size and persistence"
   ]
  },
  {
   "cell_type": "markdown",
   "id": "7b961421",
   "metadata": {
    "papermill": {
     "duration": 0.005025,
     "end_time": "2023-05-03T17:49:42.087733",
     "exception": false,
     "start_time": "2023-05-03T17:49:42.082708",
     "status": "completed"
    },
    "tags": []
   },
   "source": [
    "**Table of contents**<a id='toc0_'></a>    \n",
    "- 1. [Settings](#toc1_)    \n",
    "- 2. [Jumps](#toc2_)    \n",
    "- 3. [Persistence](#toc3_)    \n",
    "\n",
    "<!-- vscode-jupyter-toc-config\n",
    "\tnumbering=true\n",
    "\tanchor=true\n",
    "\tflat=false\n",
    "\tminLevel=2\n",
    "\tmaxLevel=6\n",
    "\t/vscode-jupyter-toc-config -->\n",
    "<!-- THIS CELL WILL BE REPLACED ON TOC UPDATE. DO NOT WRITE YOUR TEXT IN THIS CELL -->"
   ]
  },
  {
   "cell_type": "code",
   "execution_count": 1,
   "id": "49260493-959d-465a-a07b-2e6da852777b",
   "metadata": {
    "execution": {
     "iopub.execute_input": "2023-05-03T17:49:42.098743Z",
     "iopub.status.busy": "2023-05-03T17:49:42.097740Z",
     "iopub.status.idle": "2023-05-03T17:49:50.077133Z",
     "shell.execute_reply": "2023-05-03T17:49:50.076142Z"
    },
    "papermill": {
     "duration": 7.988407,
     "end_time": "2023-05-03T17:49:50.080142",
     "exception": false,
     "start_time": "2023-05-03T17:49:42.091735",
     "status": "completed"
    },
    "tags": []
   },
   "outputs": [],
   "source": [
    "%load_ext autoreload\n",
    "%autoreload 2\n",
    "\n",
    "import numpy as np\n",
    "import matplotlib.pyplot as plt\n",
    "\n",
    "from FullHANKSAMModel import FullHANKSAMModelClass\n",
    "from figures import create_fig, save_fig\n",
    "import policy"
   ]
  },
  {
   "cell_type": "markdown",
   "id": "b3554ad4",
   "metadata": {
    "papermill": {
     "duration": 0.007038,
     "end_time": "2023-05-03T17:49:50.099183",
     "exception": false,
     "start_time": "2023-05-03T17:49:50.092145",
     "status": "completed"
    },
    "tags": []
   },
   "source": [
    "## 1. <a id='toc1_'></a>[Settings](#toc0_)"
   ]
  },
  {
   "cell_type": "code",
   "execution_count": 2,
   "id": "8b008e5a",
   "metadata": {
    "execution": {
     "iopub.execute_input": "2023-05-03T17:49:50.109115Z",
     "iopub.status.busy": "2023-05-03T17:49:50.109115Z",
     "iopub.status.idle": "2023-05-03T17:49:50.220206Z",
     "shell.execute_reply": "2023-05-03T17:49:50.219206Z"
    },
    "papermill": {
     "duration": 0.120054,
     "end_time": "2023-05-03T17:49:50.223209",
     "exception": false,
     "start_time": "2023-05-03T17:49:50.103155",
     "status": "completed"
    },
    "tags": []
   },
   "outputs": [],
   "source": [
    "LOAD = False"
   ]
  },
  {
   "cell_type": "code",
   "execution_count": 3,
   "id": "0e49b88b",
   "metadata": {
    "execution": {
     "iopub.execute_input": "2023-05-03T17:49:50.245226Z",
     "iopub.status.busy": "2023-05-03T17:49:50.245226Z",
     "iopub.status.idle": "2023-05-03T17:49:50.367378Z",
     "shell.execute_reply": "2023-05-03T17:49:50.366328Z"
    },
    "papermill": {
     "duration": 0.134162,
     "end_time": "2023-05-03T17:49:50.370381",
     "exception": false,
     "start_time": "2023-05-03T17:49:50.236219",
     "status": "completed"
    },
    "tags": []
   },
   "outputs": [],
   "source": [
    "model_names = ['baseline']"
   ]
  },
  {
   "cell_type": "code",
   "execution_count": 4,
   "id": "8ad4ac3c",
   "metadata": {
    "execution": {
     "iopub.execute_input": "2023-05-03T17:49:50.389350Z",
     "iopub.status.busy": "2023-05-03T17:49:50.389350Z",
     "iopub.status.idle": "2023-05-03T17:49:50.497485Z",
     "shell.execute_reply": "2023-05-03T17:49:50.496490Z"
    },
    "papermill": {
     "duration": 0.118106,
     "end_time": "2023-05-03T17:49:50.500490",
     "exception": false,
     "start_time": "2023-05-03T17:49:50.382384",
     "status": "completed"
    },
    "tags": []
   },
   "outputs": [],
   "source": [
    "pols = ['G','hh_transfer','retention_subsidy','hiring_subsidy','phi_obar','u_bar']"
   ]
  },
  {
   "cell_type": "code",
   "execution_count": 5,
   "id": "a646370e",
   "metadata": {
    "execution": {
     "iopub.execute_input": "2023-05-03T17:49:50.520456Z",
     "iopub.status.busy": "2023-05-03T17:49:50.519457Z",
     "iopub.status.idle": "2023-05-03T17:52:48.569679Z",
     "shell.execute_reply": "2023-05-03T17:52:48.568678Z"
    },
    "papermill": {
     "duration": 178.060232,
     "end_time": "2023-05-03T17:52:48.573682",
     "exception": false,
     "start_time": "2023-05-03T17:49:50.513450",
     "status": "completed"
    },
    "tags": []
   },
   "outputs": [],
   "source": [
    "model = FullHANKSAMModelClass(name='baseline')\n",
    "model.load()\n",
    "model.full_run()"
   ]
  },
  {
   "cell_type": "markdown",
   "id": "bb224b22",
   "metadata": {
    "papermill": {
     "duration": 0.006003,
     "end_time": "2023-05-03T17:52:48.591741",
     "exception": false,
     "start_time": "2023-05-03T17:52:48.585738",
     "status": "completed"
    },
    "tags": []
   },
   "source": [
    "## 2. <a id='toc2_'></a>[Jumps](#toc0_)"
   ]
  },
  {
   "cell_type": "code",
   "execution_count": 6,
   "id": "9e0de96c",
   "metadata": {
    "execution": {
     "iopub.execute_input": "2023-05-03T17:52:48.603707Z",
     "iopub.status.busy": "2023-05-03T17:52:48.603707Z",
     "iopub.status.idle": "2023-05-03T17:52:48.736817Z",
     "shell.execute_reply": "2023-05-03T17:52:48.735816Z"
    },
    "papermill": {
     "duration": 0.14312,
     "end_time": "2023-05-03T17:52:48.739863",
     "exception": false,
     "start_time": "2023-05-03T17:52:48.596743",
     "status": "completed"
    },
    "tags": []
   },
   "outputs": [],
   "source": [
    "jumps = [0.0010,0.00250,0.0050,0.0100]"
   ]
  },
  {
   "cell_type": "code",
   "execution_count": 7,
   "id": "36c9857d",
   "metadata": {
    "execution": {
     "iopub.execute_input": "2023-05-03T17:52:48.761882Z",
     "iopub.status.busy": "2023-05-03T17:52:48.760837Z",
     "iopub.status.idle": "2023-05-03T18:06:18.505142Z",
     "shell.execute_reply": "2023-05-03T18:06:18.504141Z"
    },
    "papermill": {
     "duration": 809.768322,
     "end_time": "2023-05-03T18:06:18.520154",
     "exception": false,
     "start_time": "2023-05-03T17:52:48.751832",
     "status": "completed"
    },
    "tags": []
   },
   "outputs": [
    {
     "name": "stdout",
     "output_type": "stream",
     "text": [
      "basepol_value_rel_ss = 0.001\n",
      "### baseline_jump_0 ###\n",
      "basepol = 'G'"
     ]
    },
    {
     "name": "stdout",
     "output_type": "stream",
     "text": [
      "\n",
      " hh_transfer"
     ]
    },
    {
     "name": "stdout",
     "output_type": "stream",
     "text": [
      "\n",
      " retention_subsidy"
     ]
    },
    {
     "name": "stdout",
     "output_type": "stream",
     "text": [
      "\n",
      " hiring_subsidy"
     ]
    },
    {
     "name": "stdout",
     "output_type": "stream",
     "text": [
      "\n",
      " phi_obar"
     ]
    },
    {
     "name": "stdout",
     "output_type": "stream",
     "text": [
      "\n",
      " u_bar"
     ]
    },
    {
     "name": "stdout",
     "output_type": "stream",
     "text": [
      "\n"
     ]
    },
    {
     "name": "stdout",
     "output_type": "stream",
     "text": [
      "\n",
      "basepol_value_rel_ss = 0.003\n",
      "### baseline_jump_1 ###\n",
      "basepol = 'G'"
     ]
    },
    {
     "name": "stdout",
     "output_type": "stream",
     "text": [
      "\n",
      " hh_transfer"
     ]
    },
    {
     "name": "stdout",
     "output_type": "stream",
     "text": [
      "\n",
      " retention_subsidy"
     ]
    },
    {
     "name": "stdout",
     "output_type": "stream",
     "text": [
      "\n",
      " hiring_subsidy"
     ]
    },
    {
     "name": "stdout",
     "output_type": "stream",
     "text": [
      "\n",
      " phi_obar"
     ]
    },
    {
     "name": "stdout",
     "output_type": "stream",
     "text": [
      "\n",
      " u_bar"
     ]
    },
    {
     "name": "stdout",
     "output_type": "stream",
     "text": [
      "\n"
     ]
    },
    {
     "name": "stdout",
     "output_type": "stream",
     "text": [
      "\n",
      "basepol_value_rel_ss = 0.005\n",
      "### baseline_jump_2 ###\n",
      "basepol = 'G'"
     ]
    },
    {
     "name": "stdout",
     "output_type": "stream",
     "text": [
      "\n",
      " hh_transfer"
     ]
    },
    {
     "name": "stdout",
     "output_type": "stream",
     "text": [
      "\n",
      " retention_subsidy"
     ]
    },
    {
     "name": "stdout",
     "output_type": "stream",
     "text": [
      "\n"
     ]
    },
    {
     "name": "stdout",
     "output_type": "stream",
     "text": [
      " hiring_subsidy"
     ]
    },
    {
     "name": "stdout",
     "output_type": "stream",
     "text": [
      "\n",
      " phi_obar"
     ]
    },
    {
     "name": "stdout",
     "output_type": "stream",
     "text": [
      "\n",
      " u_bar"
     ]
    },
    {
     "name": "stdout",
     "output_type": "stream",
     "text": [
      " failed, GEModelTools: No improvement for 5 iterations\n"
     ]
    },
    {
     "name": "stdout",
     "output_type": "stream",
     "text": [
      "\n",
      "basepol_value_rel_ss = 0.010\n",
      "### baseline_jump_3 ###\n",
      "basepol = 'G'"
     ]
    },
    {
     "name": "stdout",
     "output_type": "stream",
     "text": [
      "\n",
      " hh_transfer"
     ]
    },
    {
     "name": "stdout",
     "output_type": "stream",
     "text": [
      "\n",
      " retention_subsidy"
     ]
    },
    {
     "name": "stdout",
     "output_type": "stream",
     "text": [
      "\n",
      " hiring_subsidy"
     ]
    },
    {
     "name": "stdout",
     "output_type": "stream",
     "text": [
      "\n",
      " phi_obar"
     ]
    },
    {
     "name": "stdout",
     "output_type": "stream",
     "text": [
      "\n",
      " u_bar"
     ]
    },
    {
     "name": "stdout",
     "output_type": "stream",
     "text": [
      " failed, GEModelTools: No improvement for 5 iterations\n"
     ]
    },
    {
     "name": "stdout",
     "output_type": "stream",
     "text": [
      "\n"
     ]
    }
   ],
   "source": [
    "if not LOAD:\n",
    "\n",
    "    for i,basepol_value_rel_ss in enumerate(jumps):\n",
    "\n",
    "        print(f'{basepol_value_rel_ss = :.3f}')\n",
    "\n",
    "        try:\n",
    "            \n",
    "            model.name = f'baseline_jump_{i}'\n",
    "            print(f'### {model.name} ###')\n",
    "            pol_models = policy.policies(model,pols,basepol_value_rel_ss=basepol_value_rel_ss,do_print=True)        \n",
    "\n",
    "        except Exception as e:\n",
    "\n",
    "            print(e)\n",
    "            break\n",
    "\n",
    "        print('')"
   ]
  },
  {
   "cell_type": "code",
   "execution_count": 8,
   "id": "764abebc",
   "metadata": {
    "execution": {
     "iopub.execute_input": "2023-05-03T18:06:18.545217Z",
     "iopub.status.busy": "2023-05-03T18:06:18.544174Z",
     "iopub.status.idle": "2023-05-03T18:06:18.782372Z",
     "shell.execute_reply": "2023-05-03T18:06:18.781371Z"
    },
    "papermill": {
     "duration": 0.250249,
     "end_time": "2023-05-03T18:06:18.785418",
     "exception": false,
     "start_time": "2023-05-03T18:06:18.535169",
     "status": "completed"
    },
    "tags": []
   },
   "outputs": [
    {
     "data": {
      "text/html": [
       "<div>\n",
       "<style scoped>\n",
       "    .dataframe tbody tr th:only-of-type {\n",
       "        vertical-align: middle;\n",
       "    }\n",
       "\n",
       "    .dataframe tbody tr th {\n",
       "        vertical-align: top;\n",
       "    }\n",
       "\n",
       "    .dataframe thead th {\n",
       "        text-align: right;\n",
       "    }\n",
       "</style>\n",
       "<table border=\"1\" class=\"dataframe\">\n",
       "  <thead>\n",
       "    <tr style=\"text-align: right;\">\n",
       "      <th></th>\n",
       "      <th></th>\n",
       "      <th>G</th>\n",
       "      <th>transfer</th>\n",
       "      <th>retention</th>\n",
       "      <th>hiring</th>\n",
       "      <th>UI level</th>\n",
       "      <th>UI duration</th>\n",
       "    </tr>\n",
       "  </thead>\n",
       "  <tbody>\n",
       "    <tr>\n",
       "      <th>0</th>\n",
       "      <td>$\\sigma_G = 0.001 \\cdot G_{ss}$</td>\n",
       "      <td>0.60</td>\n",
       "      <td>0.11</td>\n",
       "      <td>1.02</td>\n",
       "      <td>0.70</td>\n",
       "      <td>0.25</td>\n",
       "      <td>0.60</td>\n",
       "    </tr>\n",
       "    <tr>\n",
       "      <th>1</th>\n",
       "      <td>$\\sigma_G = 0.0025 \\cdot G_{ss}$</td>\n",
       "      <td>0.59</td>\n",
       "      <td>0.11</td>\n",
       "      <td>1.01</td>\n",
       "      <td>0.70</td>\n",
       "      <td>0.24</td>\n",
       "      <td>0.60</td>\n",
       "    </tr>\n",
       "    <tr>\n",
       "      <th>2</th>\n",
       "      <td>$\\sigma_G = 0.005 \\cdot G_{ss}$</td>\n",
       "      <td>0.58</td>\n",
       "      <td>0.11</td>\n",
       "      <td>1.00</td>\n",
       "      <td>0.69</td>\n",
       "      <td>0.23</td>\n",
       "      <td></td>\n",
       "    </tr>\n",
       "    <tr>\n",
       "      <th>3</th>\n",
       "      <td>$\\sigma_G = 0.01 \\cdot G_{ss}$</td>\n",
       "      <td>0.57</td>\n",
       "      <td>0.11</td>\n",
       "      <td>0.98</td>\n",
       "      <td>0.69</td>\n",
       "      <td>0.21</td>\n",
       "      <td></td>\n",
       "    </tr>\n",
       "  </tbody>\n",
       "</table>\n",
       "</div>"
      ],
      "text/plain": [
       "                                        G transfer retention hiring UI level  \\\n",
       "0   $\\sigma_G = 0.001 \\cdot G_{ss}$  0.60     0.11      1.02   0.70     0.25   \n",
       "1  $\\sigma_G = 0.0025 \\cdot G_{ss}$  0.59     0.11      1.01   0.70     0.24   \n",
       "2   $\\sigma_G = 0.005 \\cdot G_{ss}$  0.58     0.11      1.00   0.69     0.23   \n",
       "3    $\\sigma_G = 0.01 \\cdot G_{ss}$  0.57     0.11      0.98   0.69     0.21   \n",
       "\n",
       "  UI duration  \n",
       "0        0.60  \n",
       "1        0.60  \n",
       "2              \n",
       "3              "
      ]
     },
     "metadata": {},
     "output_type": "display_data"
    }
   ],
   "source": [
    "model_names_jumps = [f'baseline_jump_{i}' for i in range(len(jumps))]\n",
    "pol_models_jumps = policy.load_pol_models(model_names_jumps,pols)\n",
    "model_labels = {f'baseline_jump_{i}':f'$\\\\sigma_G = {jump} \\\\cdot G_{{ss}}$' for i,jump in enumerate(jumps)}\n",
    "df = policy.fiscal_multipliers(pol_models_jumps,tex='jumps',model_labels=model_labels)"
   ]
  },
  {
   "cell_type": "code",
   "execution_count": 9,
   "id": "1c6ff856",
   "metadata": {
    "execution": {
     "iopub.execute_input": "2023-05-03T18:06:18.811441Z",
     "iopub.status.busy": "2023-05-03T18:06:18.810395Z",
     "iopub.status.idle": "2023-05-03T18:06:18.942504Z",
     "shell.execute_reply": "2023-05-03T18:06:18.941504Z"
    },
    "papermill": {
     "duration": 0.144058,
     "end_time": "2023-05-03T18:06:18.945507",
     "exception": false,
     "start_time": "2023-05-03T18:06:18.801449",
     "status": "completed"
    },
    "tags": []
   },
   "outputs": [
    {
     "name": "stdout",
     "output_type": "stream",
     "text": [
      "jump = 0.0010: var_u = 0.0013\n",
      "jump = 0.0025: var_u = 0.0083\n",
      "jump = 0.0050: var_u = 0.0326\n",
      "jump = 0.0100: var_u = 0.1248\n"
     ]
    }
   ],
   "source": [
    "G_models_jumps = {k:v for k,v in pol_models_jumps.items() if k[1]=='G'}\n",
    "for jump,(k,v) in zip(jumps,G_models_jumps.items()):\n",
    "    var_u = v.moms['var_u']\n",
    "    print(f'{jump = :.4f}: {var_u = :.4f}')"
   ]
  },
  {
   "attachments": {},
   "cell_type": "markdown",
   "id": "f00d690d",
   "metadata": {
    "papermill": {
     "duration": 0.00705,
     "end_time": "2023-05-03T18:06:18.969573",
     "exception": false,
     "start_time": "2023-05-03T18:06:18.962523",
     "status": "completed"
    },
    "tags": []
   },
   "source": [
    "**Scaling problem:**"
   ]
  },
  {
   "cell_type": "code",
   "execution_count": 10,
   "id": "e2367824",
   "metadata": {
    "execution": {
     "iopub.execute_input": "2023-05-03T18:06:18.984540Z",
     "iopub.status.busy": "2023-05-03T18:06:18.983538Z",
     "iopub.status.idle": "2023-05-03T18:06:19.108642Z",
     "shell.execute_reply": "2023-05-03T18:06:19.108642Z"
    },
    "papermill": {
     "duration": 0.137069,
     "end_time": "2023-05-03T18:06:19.112645",
     "exception": false,
     "start_time": "2023-05-03T18:06:18.975576",
     "status": "completed"
    },
    "tags": []
   },
   "outputs": [
    {
     "name": "stdout",
     "output_type": "stream",
     "text": [
      "shock = baseline_jump_0 -> path.u_bar[0,0]-ss.u_bar = 1.6\n",
      "shock = baseline_jump_1 -> path.u_bar[0,0]-ss.u_bar = 5.7\n"
     ]
    }
   ],
   "source": [
    "for k,v in pol_models_jumps.items():\n",
    "    if k[1] == 'u_bar':\n",
    "        path = v.path\n",
    "        ss = v.ss\n",
    "        print(f'shock = {k[0]} -> {path.u_bar[0,0]-ss.u_bar = :.1f}')"
   ]
  },
  {
   "cell_type": "markdown",
   "id": "1c0af00d",
   "metadata": {
    "papermill": {
     "duration": 0.007005,
     "end_time": "2023-05-03T18:06:19.129659",
     "exception": false,
     "start_time": "2023-05-03T18:06:19.122654",
     "status": "completed"
    },
    "tags": []
   },
   "source": [
    "## 3. <a id='toc3_'></a>[Persistence](#toc0_)"
   ]
  },
  {
   "cell_type": "code",
   "execution_count": 11,
   "id": "3f39afd9",
   "metadata": {
    "execution": {
     "iopub.execute_input": "2023-05-03T18:06:19.154679Z",
     "iopub.status.busy": "2023-05-03T18:06:19.153681Z",
     "iopub.status.idle": "2023-05-03T18:06:19.281785Z",
     "shell.execute_reply": "2023-05-03T18:06:19.280784Z"
    },
    "papermill": {
     "duration": 0.140115,
     "end_time": "2023-05-03T18:06:19.284787",
     "exception": false,
     "start_time": "2023-05-03T18:06:19.144672",
     "status": "completed"
    },
    "tags": []
   },
   "outputs": [],
   "source": [
    "rhos = [0.01,0.025,0.5,0.75,0.9,0.95,0.97,0.98,0.99]"
   ]
  },
  {
   "cell_type": "code",
   "execution_count": 12,
   "id": "845a1fee",
   "metadata": {
    "execution": {
     "iopub.execute_input": "2023-05-03T18:06:19.310869Z",
     "iopub.status.busy": "2023-05-03T18:06:19.309809Z",
     "iopub.status.idle": "2023-05-03T18:33:17.811307Z",
     "shell.execute_reply": "2023-05-03T18:33:17.810264Z"
    },
    "papermill": {
     "duration": 1618.528436,
     "end_time": "2023-05-03T18:33:17.828279",
     "exception": false,
     "start_time": "2023-05-03T18:06:19.299843",
     "status": "completed"
    },
    "tags": []
   },
   "outputs": [
    {
     "name": "stdout",
     "output_type": "stream",
     "text": [
      "basepol_rho = 0.010\n",
      "### baseline_rho_0 ###\n",
      "basepol = 'G'"
     ]
    },
    {
     "name": "stdout",
     "output_type": "stream",
     "text": [
      "\n",
      " hh_transfer"
     ]
    },
    {
     "name": "stdout",
     "output_type": "stream",
     "text": [
      "\n",
      " retention_subsidy"
     ]
    },
    {
     "name": "stdout",
     "output_type": "stream",
     "text": [
      "\n",
      " hiring_subsidy"
     ]
    },
    {
     "name": "stdout",
     "output_type": "stream",
     "text": [
      "\n",
      " phi_obar"
     ]
    },
    {
     "name": "stdout",
     "output_type": "stream",
     "text": [
      "\n",
      " u_bar"
     ]
    },
    {
     "name": "stdout",
     "output_type": "stream",
     "text": [
      "\n",
      "\n",
      "basepol_rho = 0.025\n",
      "### baseline_rho_1 ###\n",
      "basepol = 'G'"
     ]
    },
    {
     "name": "stdout",
     "output_type": "stream",
     "text": [
      "\n",
      " hh_transfer"
     ]
    },
    {
     "name": "stdout",
     "output_type": "stream",
     "text": [
      "\n",
      " retention_subsidy"
     ]
    },
    {
     "name": "stdout",
     "output_type": "stream",
     "text": [
      "\n",
      " hiring_subsidy"
     ]
    },
    {
     "name": "stdout",
     "output_type": "stream",
     "text": [
      "\n",
      " phi_obar"
     ]
    },
    {
     "name": "stdout",
     "output_type": "stream",
     "text": [
      "\n"
     ]
    },
    {
     "name": "stdout",
     "output_type": "stream",
     "text": [
      " u_bar"
     ]
    },
    {
     "name": "stdout",
     "output_type": "stream",
     "text": [
      "\n"
     ]
    },
    {
     "name": "stdout",
     "output_type": "stream",
     "text": [
      "\n",
      "basepol_rho = 0.500\n",
      "### baseline_rho_2 ###\n",
      "basepol = 'G'"
     ]
    },
    {
     "name": "stdout",
     "output_type": "stream",
     "text": [
      "\n",
      " hh_transfer"
     ]
    },
    {
     "name": "stdout",
     "output_type": "stream",
     "text": [
      "\n",
      " retention_subsidy"
     ]
    },
    {
     "name": "stdout",
     "output_type": "stream",
     "text": [
      "\n",
      " hiring_subsidy"
     ]
    },
    {
     "name": "stdout",
     "output_type": "stream",
     "text": [
      "\n",
      " phi_obar"
     ]
    },
    {
     "name": "stdout",
     "output_type": "stream",
     "text": [
      "\n",
      " u_bar"
     ]
    },
    {
     "name": "stdout",
     "output_type": "stream",
     "text": [
      "\n",
      "\n",
      "basepol_rho = 0.750\n",
      "### baseline_rho_3 ###\n",
      "basepol = 'G'"
     ]
    },
    {
     "name": "stdout",
     "output_type": "stream",
     "text": [
      "\n",
      " hh_transfer"
     ]
    },
    {
     "name": "stdout",
     "output_type": "stream",
     "text": [
      "\n",
      " retention_subsidy"
     ]
    },
    {
     "name": "stdout",
     "output_type": "stream",
     "text": [
      "\n",
      " hiring_subsidy"
     ]
    },
    {
     "name": "stdout",
     "output_type": "stream",
     "text": [
      "\n",
      " phi_obar"
     ]
    },
    {
     "name": "stdout",
     "output_type": "stream",
     "text": [
      "\n",
      " u_bar"
     ]
    },
    {
     "name": "stdout",
     "output_type": "stream",
     "text": [
      "\n"
     ]
    },
    {
     "name": "stdout",
     "output_type": "stream",
     "text": [
      "\n",
      "basepol_rho = 0.900\n",
      "### baseline_rho_4 ###\n",
      "basepol = 'G'"
     ]
    },
    {
     "name": "stdout",
     "output_type": "stream",
     "text": [
      "\n",
      " hh_transfer"
     ]
    },
    {
     "name": "stdout",
     "output_type": "stream",
     "text": [
      "\n",
      " retention_subsidy"
     ]
    },
    {
     "name": "stdout",
     "output_type": "stream",
     "text": [
      "\n",
      " hiring_subsidy"
     ]
    },
    {
     "name": "stdout",
     "output_type": "stream",
     "text": [
      "\n",
      " phi_obar"
     ]
    },
    {
     "name": "stdout",
     "output_type": "stream",
     "text": [
      "\n",
      " u_bar"
     ]
    },
    {
     "name": "stdout",
     "output_type": "stream",
     "text": [
      "\n"
     ]
    },
    {
     "name": "stdout",
     "output_type": "stream",
     "text": [
      "\n",
      "basepol_rho = 0.950\n",
      "### baseline_rho_5 ###\n",
      "basepol = 'G'"
     ]
    },
    {
     "name": "stdout",
     "output_type": "stream",
     "text": [
      "\n",
      " hh_transfer"
     ]
    },
    {
     "name": "stdout",
     "output_type": "stream",
     "text": [
      "\n",
      " retention_subsidy"
     ]
    },
    {
     "name": "stdout",
     "output_type": "stream",
     "text": [
      "\n",
      " hiring_subsidy"
     ]
    },
    {
     "name": "stdout",
     "output_type": "stream",
     "text": [
      "\n",
      " phi_obar"
     ]
    },
    {
     "name": "stdout",
     "output_type": "stream",
     "text": [
      "\n",
      " u_bar"
     ]
    },
    {
     "name": "stdout",
     "output_type": "stream",
     "text": [
      "\n"
     ]
    },
    {
     "name": "stdout",
     "output_type": "stream",
     "text": [
      "\n",
      "basepol_rho = 0.970\n",
      "### baseline_rho_6 ###\n",
      "basepol = 'G'"
     ]
    },
    {
     "name": "stdout",
     "output_type": "stream",
     "text": [
      "\n",
      " hh_transfer"
     ]
    },
    {
     "name": "stdout",
     "output_type": "stream",
     "text": [
      "\n",
      " retention_subsidy"
     ]
    },
    {
     "name": "stdout",
     "output_type": "stream",
     "text": [
      "\n",
      " hiring_subsidy"
     ]
    },
    {
     "name": "stdout",
     "output_type": "stream",
     "text": [
      "\n",
      " phi_obar"
     ]
    },
    {
     "name": "stdout",
     "output_type": "stream",
     "text": [
      "\n",
      " u_bar"
     ]
    },
    {
     "name": "stdout",
     "output_type": "stream",
     "text": [
      "\n",
      "\n",
      "basepol_rho = 0.980\n",
      "### baseline_rho_7 ###\n",
      "basepol = 'G'"
     ]
    },
    {
     "name": "stdout",
     "output_type": "stream",
     "text": [
      "\n",
      " hh_transfer"
     ]
    },
    {
     "name": "stdout",
     "output_type": "stream",
     "text": [
      "\n",
      " retention_subsidy"
     ]
    },
    {
     "name": "stdout",
     "output_type": "stream",
     "text": [
      "\n",
      " hiring_subsidy"
     ]
    },
    {
     "name": "stdout",
     "output_type": "stream",
     "text": [
      "\n",
      " phi_obar"
     ]
    },
    {
     "name": "stdout",
     "output_type": "stream",
     "text": [
      "\n",
      " u_bar"
     ]
    },
    {
     "name": "stdout",
     "output_type": "stream",
     "text": [
      "\n"
     ]
    },
    {
     "name": "stdout",
     "output_type": "stream",
     "text": [
      "\n",
      "basepol_rho = 0.990\n",
      "### baseline_rho_8 ###\n",
      "basepol = 'G'"
     ]
    },
    {
     "name": "stdout",
     "output_type": "stream",
     "text": [
      "\n",
      " hh_transfer"
     ]
    },
    {
     "name": "stdout",
     "output_type": "stream",
     "text": [
      "\n",
      " retention_subsidy"
     ]
    },
    {
     "name": "stdout",
     "output_type": "stream",
     "text": [
      "\n",
      " hiring_subsidy"
     ]
    },
    {
     "name": "stdout",
     "output_type": "stream",
     "text": [
      "\n",
      " phi_obar"
     ]
    },
    {
     "name": "stdout",
     "output_type": "stream",
     "text": [
      "\n",
      " u_bar"
     ]
    },
    {
     "name": "stdout",
     "output_type": "stream",
     "text": [
      "\n"
     ]
    },
    {
     "name": "stdout",
     "output_type": "stream",
     "text": [
      "\n"
     ]
    }
   ],
   "source": [
    "if not LOAD:\n",
    "    for i,basepol_rho in enumerate(rhos):\n",
    "\n",
    "        print(f'{basepol_rho = :.3f}')\n",
    "\n",
    "        try:\n",
    "            \n",
    "            model.name = f'baseline_rho_{i}'\n",
    "            print(f'### {model.name} ###')\n",
    "            pol_models = policy.policies(model,pols,basepol_rho=basepol_rho,do_print=True)        \n",
    "\n",
    "        except Exception as e:\n",
    "\n",
    "            print(e)\n",
    "            break\n",
    "\n",
    "        print('')"
   ]
  },
  {
   "cell_type": "code",
   "execution_count": 13,
   "id": "6f7e429a",
   "metadata": {
    "execution": {
     "iopub.execute_input": "2023-05-03T18:33:17.858347Z",
     "iopub.status.busy": "2023-05-03T18:33:17.857303Z",
     "iopub.status.idle": "2023-05-03T18:33:18.223607Z",
     "shell.execute_reply": "2023-05-03T18:33:18.223607Z"
    },
    "papermill": {
     "duration": 0.38126,
     "end_time": "2023-05-03T18:33:18.227610",
     "exception": false,
     "start_time": "2023-05-03T18:33:17.846350",
     "status": "completed"
    },
    "tags": []
   },
   "outputs": [
    {
     "data": {
      "text/html": [
       "<div>\n",
       "<style scoped>\n",
       "    .dataframe tbody tr th:only-of-type {\n",
       "        vertical-align: middle;\n",
       "    }\n",
       "\n",
       "    .dataframe tbody tr th {\n",
       "        vertical-align: top;\n",
       "    }\n",
       "\n",
       "    .dataframe thead th {\n",
       "        text-align: right;\n",
       "    }\n",
       "</style>\n",
       "<table border=\"1\" class=\"dataframe\">\n",
       "  <thead>\n",
       "    <tr style=\"text-align: right;\">\n",
       "      <th></th>\n",
       "      <th></th>\n",
       "      <th>G</th>\n",
       "      <th>transfer</th>\n",
       "      <th>retention</th>\n",
       "      <th>hiring</th>\n",
       "      <th>UI level</th>\n",
       "      <th>UI duration</th>\n",
       "    </tr>\n",
       "  </thead>\n",
       "  <tbody>\n",
       "    <tr>\n",
       "      <th>0</th>\n",
       "      <td>$\\rho_G = 0.01$</td>\n",
       "      <td>3.05</td>\n",
       "      <td>0.20</td>\n",
       "      <td>0.44</td>\n",
       "      <td>0.47</td>\n",
       "      <td>0.31</td>\n",
       "      <td>0.60</td>\n",
       "    </tr>\n",
       "    <tr>\n",
       "      <th>1</th>\n",
       "      <td>$\\rho_G = 0.025$</td>\n",
       "      <td>3.05</td>\n",
       "      <td>0.20</td>\n",
       "      <td>0.44</td>\n",
       "      <td>0.47</td>\n",
       "      <td>0.31</td>\n",
       "      <td>0.60</td>\n",
       "    </tr>\n",
       "    <tr>\n",
       "      <th>2</th>\n",
       "      <td>$\\rho_G = 0.5$</td>\n",
       "      <td>2.84</td>\n",
       "      <td>0.20</td>\n",
       "      <td>0.45</td>\n",
       "      <td>0.51</td>\n",
       "      <td>0.31</td>\n",
       "      <td>0.55</td>\n",
       "    </tr>\n",
       "    <tr>\n",
       "      <th>3</th>\n",
       "      <td>$\\rho_G = 0.75$</td>\n",
       "      <td>2.35</td>\n",
       "      <td>0.19</td>\n",
       "      <td>0.49</td>\n",
       "      <td>0.56</td>\n",
       "      <td>0.31</td>\n",
       "      <td>0.56</td>\n",
       "    </tr>\n",
       "    <tr>\n",
       "      <th>4</th>\n",
       "      <td>$\\rho_G = 0.9$</td>\n",
       "      <td>1.46</td>\n",
       "      <td>0.16</td>\n",
       "      <td>0.61</td>\n",
       "      <td>0.63</td>\n",
       "      <td>0.30</td>\n",
       "      <td>0.62</td>\n",
       "    </tr>\n",
       "    <tr>\n",
       "      <th>5</th>\n",
       "      <td>$\\rho_G = 0.95$</td>\n",
       "      <td>0.83</td>\n",
       "      <td>0.13</td>\n",
       "      <td>0.84</td>\n",
       "      <td>0.69</td>\n",
       "      <td>0.27</td>\n",
       "      <td>0.63</td>\n",
       "    </tr>\n",
       "    <tr>\n",
       "      <th>6</th>\n",
       "      <td>$\\rho_G = 0.97$</td>\n",
       "      <td>0.51</td>\n",
       "      <td>0.11</td>\n",
       "      <td>1.11</td>\n",
       "      <td>0.70</td>\n",
       "      <td>0.23</td>\n",
       "      <td>0.58</td>\n",
       "    </tr>\n",
       "    <tr>\n",
       "      <th>7</th>\n",
       "      <td>$\\rho_G = 0.98$</td>\n",
       "      <td>0.35</td>\n",
       "      <td>0.09</td>\n",
       "      <td>1.33</td>\n",
       "      <td>0.69</td>\n",
       "      <td>0.20</td>\n",
       "      <td>0.51</td>\n",
       "    </tr>\n",
       "    <tr>\n",
       "      <th>8</th>\n",
       "      <td>$\\rho_G = 0.99$</td>\n",
       "      <td>0.21</td>\n",
       "      <td>0.06</td>\n",
       "      <td>1.63</td>\n",
       "      <td>0.66</td>\n",
       "      <td>0.15</td>\n",
       "      <td>0.40</td>\n",
       "    </tr>\n",
       "  </tbody>\n",
       "</table>\n",
       "</div>"
      ],
      "text/plain": [
       "                        G transfer retention hiring UI level UI duration\n",
       "0   $\\rho_G = 0.01$  3.05     0.20      0.44   0.47     0.31        0.60\n",
       "1  $\\rho_G = 0.025$  3.05     0.20      0.44   0.47     0.31        0.60\n",
       "2    $\\rho_G = 0.5$  2.84     0.20      0.45   0.51     0.31        0.55\n",
       "3   $\\rho_G = 0.75$  2.35     0.19      0.49   0.56     0.31        0.56\n",
       "4    $\\rho_G = 0.9$  1.46     0.16      0.61   0.63     0.30        0.62\n",
       "5   $\\rho_G = 0.95$  0.83     0.13      0.84   0.69     0.27        0.63\n",
       "6   $\\rho_G = 0.97$  0.51     0.11      1.11   0.70     0.23        0.58\n",
       "7   $\\rho_G = 0.98$  0.35     0.09      1.33   0.69     0.20        0.51\n",
       "8   $\\rho_G = 0.99$  0.21     0.06      1.63   0.66     0.15        0.40"
      ]
     },
     "metadata": {},
     "output_type": "display_data"
    }
   ],
   "source": [
    "model_names_rhos = [f'baseline_rho_{i}' for i in range(len(rhos))]\n",
    "pol_models_rhos = policy.load_pol_models(model_names_rhos,pols)\n",
    "model_labels = {f'baseline_rho_{i}':f'$\\\\rho_G = {rho}$' for i,rho in enumerate(rhos)}\n",
    "df = policy.fiscal_multipliers(pol_models_rhos,tex='rhos',model_labels=model_labels)"
   ]
  },
  {
   "cell_type": "code",
   "execution_count": 14,
   "id": "b1cce7b5",
   "metadata": {
    "execution": {
     "iopub.execute_input": "2023-05-03T18:33:18.258678Z",
     "iopub.status.busy": "2023-05-03T18:33:18.257634Z",
     "iopub.status.idle": "2023-05-03T18:33:18.391746Z",
     "shell.execute_reply": "2023-05-03T18:33:18.390745Z"
    },
    "papermill": {
     "duration": 0.148059,
     "end_time": "2023-05-03T18:33:18.394748",
     "exception": false,
     "start_time": "2023-05-03T18:33:18.246689",
     "status": "completed"
    },
    "tags": []
   },
   "outputs": [
    {
     "name": "stdout",
     "output_type": "stream",
     "text": [
      "rho = 0.0100: var_u = 0.0002\n",
      "rho = 0.0250: var_u = 0.0002\n",
      "rho = 0.5000: var_u = 0.0004\n",
      "rho = 0.7500: var_u = 0.0008\n",
      "rho = 0.9000: var_u = 0.0014\n",
      "rho = 0.9500: var_u = 0.0015\n",
      "rho = 0.9700: var_u = 0.0013\n",
      "rho = 0.9800: var_u = 0.0010\n",
      "rho = 0.9900: var_u = 0.0009\n"
     ]
    }
   ],
   "source": [
    "G_models_rhos = {k:v for k,v in pol_models_rhos.items() if k[1]=='G'}\n",
    "for rho,(k,v) in zip(rhos,G_models_rhos.items()):\n",
    "    var_u = v.moms['var_u']\n",
    "    print(f'{rho = :.4f}: {var_u = :.4f}')"
   ]
  }
 ],
 "metadata": {
  "kernelspec": {
   "display_name": "Python 3",
   "language": "python",
   "name": "python3"
  },
  "language_info": {
   "codemirror_mode": {
    "name": "ipython",
    "version": 3
   },
   "file_extension": ".py",
   "mimetype": "text/x-python",
   "name": "python",
   "nbconvert_exporter": "python",
   "pygments_lexer": "ipython3",
   "version": "3.9.16"
  },
  "papermill": {
   "default_parameters": {},
   "duration": 2622.392125,
   "end_time": "2023-05-03T18:33:21.838983",
   "environment_variables": {},
   "exception": null,
   "input_path": "03c. Post - Other policy shock.ipynb",
   "output_path": "temp_notebooks/03c. Post - Other policy shock.ipynb",
   "parameters": {},
   "start_time": "2023-05-03T17:49:39.446858",
   "version": "2.4.0"
  },
  "vscode": {
   "interpreter": {
    "hash": "47ef90cdf3004d3f859f1fb202523c65c07ba7c22eefd261b181f4744e2d0403"
   }
  }
 },
 "nbformat": 4,
 "nbformat_minor": 5
}