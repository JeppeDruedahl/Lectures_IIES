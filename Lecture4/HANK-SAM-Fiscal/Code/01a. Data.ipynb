{
 "cells": [
  {
   "cell_type": "markdown",
   "id": "1f7b29c7",
   "metadata": {
    "papermill": {
     "duration": 0.030026,
     "end_time": "2023-05-03T13:50:22.721938",
     "exception": false,
     "start_time": "2023-05-03T13:50:22.691912",
     "status": "completed"
    },
    "tags": []
   },
   "source": [
    "# Produce data"
   ]
  },
  {
   "cell_type": "markdown",
   "id": "482ccb86",
   "metadata": {
    "papermill": {
     "duration": 0.014012,
     "end_time": "2023-05-03T13:50:22.761970",
     "exception": false,
     "start_time": "2023-05-03T13:50:22.747958",
     "status": "completed"
    },
    "tags": []
   },
   "source": [
    "**Table of contents**<a id='toc0_'></a>    \n",
    "- 1. [Imports](#toc1_)    \n",
    "- 2. [Auxiliary functions](#toc2_)    \n",
    "- 3. [Create data](#toc3_)    \n",
    "  - 3.1. [FRED](#toc3_1_)    \n",
    "  - 3.2. [Labor market flows data](#toc3_2_)    \n",
    "  - 3.3. [Data from Coibion](#toc3_3_)    \n",
    "  - 3.4. [Data from Miranda-Agrippino (Romer and Romer)](#toc3_4_)    \n",
    "  - 3.5. [Data from Regis Barnichon](#toc3_5_)    \n",
    "  - 3.6. [Tightness](#toc3_6_)    \n",
    "  - 3.7. [Data from Ramey and Fernald (qtr.)](#toc3_7_)    \n",
    "    - 3.7.1. [Ramey](#toc3_7_1_)    \n",
    "    - 3.7.2. [Fernald](#toc3_7_2_)    \n",
    "  - 3.8. [Data from Haltiwanger (qtr.)](#toc3_8_)    \n",
    "  - 3.9. [Add monthly data to quarterly data](#toc3_9_)    \n",
    "- 4. [Dump](#toc4_)    \n",
    "\n",
    "<!-- vscode-jupyter-toc-config\n",
    "\tnumbering=true\n",
    "\tanchor=true\n",
    "\tflat=false\n",
    "\tminLevel=2\n",
    "\tmaxLevel=6\n",
    "\t/vscode-jupyter-toc-config -->\n",
    "<!-- THIS CELL WILL BE REPLACED ON TOC UPDATE. DO NOT WRITE YOUR TEXT IN THIS CELL -->"
   ]
  },
  {
   "cell_type": "markdown",
   "id": "f4253e67",
   "metadata": {
    "papermill": {
     "duration": 0.013011,
     "end_time": "2023-05-03T13:50:22.787991",
     "exception": false,
     "start_time": "2023-05-03T13:50:22.774980",
     "status": "completed"
    },
    "tags": []
   },
   "source": [
    "## 1. <a id='toc1_'></a>[Imports](#toc0_)"
   ]
  },
  {
   "cell_type": "code",
   "execution_count": 1,
   "id": "0876b6bd",
   "metadata": {
    "execution": {
     "iopub.execute_input": "2023-05-03T13:50:22.820073Z",
     "iopub.status.busy": "2023-05-03T13:50:22.818066Z",
     "iopub.status.idle": "2023-05-03T13:50:23.661715Z",
     "shell.execute_reply": "2023-05-03T13:50:23.661715Z"
    },
    "papermill": {
     "duration": 0.862667,
     "end_time": "2023-05-03T13:50:23.663717",
     "exception": false,
     "start_time": "2023-05-03T13:50:22.801050",
     "status": "completed"
    },
    "tags": []
   },
   "outputs": [],
   "source": [
    "%load_ext autoreload\n",
    "%autoreload 2\n",
    "\n",
    "import os\n",
    "import pickle\n",
    "import zipfile\n",
    "import urllib.request\n",
    "from datetime import datetime\n",
    "import pandas as pd\n",
    "import numpy as np\n",
    "\n",
    "from fredapi import Fred"
   ]
  },
  {
   "cell_type": "markdown",
   "id": "1f70bd98",
   "metadata": {
    "papermill": {
     "duration": 0.01101,
     "end_time": "2023-05-03T13:50:23.692741",
     "exception": false,
     "start_time": "2023-05-03T13:50:23.681731",
     "status": "completed"
    },
    "tags": []
   },
   "source": [
    "**Global settings:**"
   ]
  },
  {
   "cell_type": "code",
   "execution_count": 2,
   "id": "5bed70f2",
   "metadata": {
    "execution": {
     "iopub.execute_input": "2023-05-03T13:50:23.716760Z",
     "iopub.status.busy": "2023-05-03T13:50:23.715759Z",
     "iopub.status.idle": "2023-05-03T13:50:23.791867Z",
     "shell.execute_reply": "2023-05-03T13:50:23.791867Z"
    },
    "papermill": {
     "duration": 0.092076,
     "end_time": "2023-05-03T13:50:23.795826",
     "exception": false,
     "start_time": "2023-05-03T13:50:23.703750",
     "status": "completed"
    },
    "tags": []
   },
   "outputs": [],
   "source": [
    "DOWNLOAD_FRED = False # to re-download FRED data"
   ]
  },
  {
   "cell_type": "markdown",
   "id": "d5f76505",
   "metadata": {
    "papermill": {
     "duration": 0.011009,
     "end_time": "2023-05-03T13:50:23.826852",
     "exception": false,
     "start_time": "2023-05-03T13:50:23.815843",
     "status": "completed"
    },
    "tags": []
   },
   "source": [
    "## 2. <a id='toc2_'></a>[Auxiliary functions](#toc0_)"
   ]
  },
  {
   "cell_type": "markdown",
   "id": "7ecad398",
   "metadata": {
    "papermill": {
     "duration": 0.011011,
     "end_time": "2023-05-03T13:50:23.847913",
     "exception": false,
     "start_time": "2023-05-03T13:50:23.836902",
     "status": "completed"
    },
    "tags": []
   },
   "source": [
    "**Functions:**"
   ]
  },
  {
   "cell_type": "code",
   "execution_count": 3,
   "id": "1420c868",
   "metadata": {
    "execution": {
     "iopub.execute_input": "2023-05-03T13:50:23.870888Z",
     "iopub.status.busy": "2023-05-03T13:50:23.869887Z",
     "iopub.status.idle": "2023-05-03T13:50:23.937986Z",
     "shell.execute_reply": "2023-05-03T13:50:23.937986Z"
    },
    "papermill": {
     "duration": 0.08407,
     "end_time": "2023-05-03T13:50:23.941990",
     "exception": false,
     "start_time": "2023-05-03T13:50:23.857920",
     "status": "completed"
    },
    "tags": []
   },
   "outputs": [],
   "source": [
    "def download_and_unzip(url,name):\n",
    "    \n",
    "    zipfilename = f'{os.getcwd()}/data/{name}.zip'\n",
    "    folder = f'{os.getcwd()}/data/{name}/'\n",
    "    \n",
    "    if os.path.isdir(folder): \n",
    "        print(f'data already downloaded and extracted to data/{name}/')\n",
    "        return\n",
    "    \n",
    "    # b. download\n",
    "    urllib.request.urlretrieve(url,zipfilename)\n",
    "    \n",
    "    # c. unzip\n",
    "    with zipfile.ZipFile(zipfilename) as file:\n",
    "        file.extractall(folder)\n",
    "        \n",
    "    print(f'downloaded and extracted to data/{name}/')\n",
    "        "
   ]
  },
  {
   "cell_type": "code",
   "execution_count": 4,
   "id": "7a8c3123",
   "metadata": {
    "execution": {
     "iopub.execute_input": "2023-05-03T13:50:23.974974Z",
     "iopub.status.busy": "2023-05-03T13:50:23.973973Z",
     "iopub.status.idle": "2023-05-03T13:50:24.041079Z",
     "shell.execute_reply": "2023-05-03T13:50:24.041079Z"
    },
    "papermill": {
     "duration": 0.083077,
     "end_time": "2023-05-03T13:50:24.045083",
     "exception": false,
     "start_time": "2023-05-03T13:50:23.962006",
     "status": "completed"
    },
    "tags": []
   },
   "outputs": [],
   "source": [
    "def resample_to_M(varQ):\n",
    "    \"\"\" resample from quarterly to monthly series \"\"\"\n",
    "    \n",
    "    global varname\n",
    "    \n",
    "    # a. resample\n",
    "    varM = varQ[~varQ.isnull()].resample('M',label='left').first()\n",
    "    varM.index += pd.tseries.frequencies.to_offset('1D')\n",
    "    varM = varM.interpolate()\n",
    "    \n",
    "    # b. print\n",
    "    Q_index = varQ.index\n",
    "    M_index = varM.index\n",
    "    \n",
    "    print(f'{varname}: [{str(Q_index[0])[:-12]}:{str(Q_index[-1])[:-12]}] -> [{str(M_index[0])[:-12]}:{str(M_index[-1])[:-12]}]')   \n",
    "    \n",
    "    return varM\n"
   ]
  },
  {
   "cell_type": "code",
   "execution_count": 5,
   "id": "aea5ba5a",
   "metadata": {
    "execution": {
     "iopub.execute_input": "2023-05-03T13:50:24.077122Z",
     "iopub.status.busy": "2023-05-03T13:50:24.076100Z",
     "iopub.status.idle": "2023-05-03T13:50:24.144162Z",
     "shell.execute_reply": "2023-05-03T13:50:24.144162Z"
    },
    "papermill": {
     "duration": 0.084077,
     "end_time": "2023-05-03T13:50:24.148168",
     "exception": false,
     "start_time": "2023-05-03T13:50:24.064091",
     "status": "completed"
    },
    "tags": []
   },
   "outputs": [],
   "source": [
    "def print_range(varname):\n",
    "    \n",
    "    global data\n",
    "    \n",
    "    I = ~np.isnan(data[varname].values)\n",
    "    index = data.index[I]\n",
    "        \n",
    "    print(f'{varname}: {str(index[0])[:-12]}:{str(index[-1])[:-12]}')\n",
    "        "
   ]
  },
  {
   "cell_type": "markdown",
   "id": "c7180778",
   "metadata": {
    "papermill": {
     "duration": 0.010968,
     "end_time": "2023-05-03T13:50:24.179144",
     "exception": false,
     "start_time": "2023-05-03T13:50:24.168176",
     "status": "completed"
    },
    "tags": []
   },
   "source": [
    "## 3. <a id='toc3_'></a>[Create data](#toc0_)"
   ]
  },
  {
   "cell_type": "code",
   "execution_count": 6,
   "id": "a127f106",
   "metadata": {
    "execution": {
     "iopub.execute_input": "2023-05-03T13:50:24.205165Z",
     "iopub.status.busy": "2023-05-03T13:50:24.204164Z",
     "iopub.status.idle": "2023-05-03T13:50:24.279227Z",
     "shell.execute_reply": "2023-05-03T13:50:24.279227Z"
    },
    "papermill": {
     "duration": 0.091073,
     "end_time": "2023-05-03T13:50:24.283230",
     "exception": false,
     "start_time": "2023-05-03T13:50:24.192157",
     "status": "completed"
    },
    "tags": []
   },
   "outputs": [],
   "source": [
    "first = np.datetime64('1948-01')\n",
    "last = np.datetime64(datetime.today().strftime(\"%Y-%m\"))\n",
    "data = pd.DataFrame(index=np.arange(first,last+1))"
   ]
  },
  {
   "cell_type": "markdown",
   "id": "5f7903dd",
   "metadata": {
    "papermill": {
     "duration": 0.022018,
     "end_time": "2023-05-03T13:50:24.326265",
     "exception": false,
     "start_time": "2023-05-03T13:50:24.304247",
     "status": "completed"
    },
    "tags": []
   },
   "source": [
    "### 3.1. <a id='toc3_1_'></a>[FRED](#toc0_)"
   ]
  },
  {
   "cell_type": "code",
   "execution_count": 7,
   "id": "4a40e4d0",
   "metadata": {
    "execution": {
     "iopub.execute_input": "2023-05-03T13:50:24.351340Z",
     "iopub.status.busy": "2023-05-03T13:50:24.350328Z",
     "iopub.status.idle": "2023-05-03T13:50:24.420386Z",
     "shell.execute_reply": "2023-05-03T13:50:24.420386Z"
    },
    "papermill": {
     "duration": 0.08703,
     "end_time": "2023-05-03T13:50:24.424346",
     "exception": false,
     "start_time": "2023-05-03T13:50:24.337316",
     "status": "completed"
    },
    "tags": []
   },
   "outputs": [],
   "source": [
    "fredvars = [    \n",
    "    ('PCEPI',), # personal consumption deflator        \n",
    "    ('UNRATE','u'), # unemployment rate\n",
    "    ('FEDFUNDS','R'), # federal funds rate\n",
    "    ('INDPRO',), # industrial production\n",
    "    ('USREC',), # recession indicators\n",
    "]"
   ]
  },
  {
   "cell_type": "code",
   "execution_count": 8,
   "id": "d5024359",
   "metadata": {
    "execution": {
     "iopub.execute_input": "2023-05-03T13:50:24.458374Z",
     "iopub.status.busy": "2023-05-03T13:50:24.457373Z",
     "iopub.status.idle": "2023-05-03T13:50:24.554497Z",
     "shell.execute_reply": "2023-05-03T13:50:24.553497Z"
    },
    "papermill": {
     "duration": 0.114143,
     "end_time": "2023-05-03T13:50:24.558506",
     "exception": false,
     "start_time": "2023-05-03T13:50:24.444363",
     "status": "completed"
    },
    "tags": []
   },
   "outputs": [],
   "source": [
    "if DOWNLOAD_FRED:\n",
    "    \n",
    "    # a. setup API\n",
    "    fred = Fred(api_key='d72233f789a0e13feb3dcb06d86647ea')\n",
    "    \n",
    "    # b. setup data dict\n",
    "    data_fred = {}\n",
    "    data_fred['M'] = {}\n",
    "    data_fred['Q'] = {}\n",
    "    data_fred['A'] = {}\n",
    "    \n",
    "    # c. load each variable\n",
    "    for fredvar in fredvars:\n",
    "\n",
    "        # i. unpack\n",
    "        assert type(fredvar) is tuple\n",
    "        fredname = fredvar[0]\n",
    "        varname = fredname if len(fredvar) == 1 else fredvar[1]\n",
    "\n",
    "        # ii. print info\n",
    "        info = fred.get_series_info(fredname)\n",
    "\n",
    "        title = info['title']\n",
    "        freq = info['frequency_short']\n",
    "        start = info['observation_start']\n",
    "        end = info['observation_end']\n",
    "\n",
    "        print(f'{fredname:15s} {varname:25s} {title:90s} {start[:-3]} : {end[:-3]} [{freq}]')\n",
    "        \n",
    "        # iii. load data\n",
    "        data_fred[freq][varname] = fred.get_series(fredname).rename(varname)\n",
    "        \n",
    "    # d. save to disc\n",
    "    with open('data/data_fred.p','wb') as handle:\n",
    "        pickle.dump(data_fred,handle)\n",
    "        \n",
    "else:\n",
    "    \n",
    "    with open('data/data_fred.p','rb') as handle:\n",
    "        data_fred = pickle.load(handle)\n",
    "        "
   ]
  },
  {
   "cell_type": "markdown",
   "id": "77e29603",
   "metadata": {
    "papermill": {
     "duration": 0.010008,
     "end_time": "2023-05-03T13:50:24.588526",
     "exception": false,
     "start_time": "2023-05-03T13:50:24.578518",
     "status": "completed"
    },
    "tags": []
   },
   "source": [
    "**Add FRED data:**"
   ]
  },
  {
   "cell_type": "code",
   "execution_count": 9,
   "id": "f86c46d7",
   "metadata": {
    "execution": {
     "iopub.execute_input": "2023-05-03T13:50:24.612547Z",
     "iopub.status.busy": "2023-05-03T13:50:24.611547Z",
     "iopub.status.idle": "2023-05-03T13:50:24.683561Z",
     "shell.execute_reply": "2023-05-03T13:50:24.683561Z"
    },
    "papermill": {
     "duration": 0.088062,
     "end_time": "2023-05-03T13:50:24.687608",
     "exception": false,
     "start_time": "2023-05-03T13:50:24.599546",
     "status": "completed"
    },
    "tags": []
   },
   "outputs": [],
   "source": [
    "for i,(k,v) in enumerate(data_fred['M'].items()): data = data.join(v)"
   ]
  },
  {
   "cell_type": "markdown",
   "id": "a2e0f206",
   "metadata": {
    "papermill": {
     "duration": 0.009997,
     "end_time": "2023-05-03T13:50:24.716630",
     "exception": false,
     "start_time": "2023-05-03T13:50:24.706633",
     "status": "completed"
    },
    "tags": []
   },
   "source": [
    "**Ex post real interest rate:**"
   ]
  },
  {
   "cell_type": "code",
   "execution_count": 10,
   "id": "8217442a",
   "metadata": {
    "execution": {
     "iopub.execute_input": "2023-05-03T13:50:24.740651Z",
     "iopub.status.busy": "2023-05-03T13:50:24.739649Z",
     "iopub.status.idle": "2023-05-03T13:50:24.819717Z",
     "shell.execute_reply": "2023-05-03T13:50:24.818723Z"
    },
    "papermill": {
     "duration": 0.095084,
     "end_time": "2023-05-03T13:50:24.822724",
     "exception": false,
     "start_time": "2023-05-03T13:50:24.727640",
     "status": "completed"
    },
    "tags": []
   },
   "outputs": [],
   "source": [
    "data['Pi'] = ((data['PCEPI']/data['PCEPI'].shift(1))**12-1)*100\n",
    "data['RealR'] = data['R']-data['Pi'].shift(-1)"
   ]
  },
  {
   "cell_type": "markdown",
   "id": "073f0b7f",
   "metadata": {
    "papermill": {
     "duration": 0.01201,
     "end_time": "2023-05-03T13:50:24.861752",
     "exception": false,
     "start_time": "2023-05-03T13:50:24.849742",
     "status": "completed"
    },
    "tags": []
   },
   "source": [
    "**Logarithms:**"
   ]
  },
  {
   "cell_type": "code",
   "execution_count": 11,
   "id": "4969dadf",
   "metadata": {
    "execution": {
     "iopub.execute_input": "2023-05-03T13:50:24.892777Z",
     "iopub.status.busy": "2023-05-03T13:50:24.892777Z",
     "iopub.status.idle": "2023-05-03T13:50:24.963837Z",
     "shell.execute_reply": "2023-05-03T13:50:24.962837Z"
    },
    "papermill": {
     "duration": 0.08708,
     "end_time": "2023-05-03T13:50:24.966845",
     "exception": false,
     "start_time": "2023-05-03T13:50:24.879765",
     "status": "completed"
    },
    "tags": []
   },
   "outputs": [],
   "source": [
    "for varname in ['INDPRO','PCEPI']:\n",
    "    data[f'log_{varname}'] = 100*np.log(data[varname])"
   ]
  },
  {
   "cell_type": "markdown",
   "id": "19ce8a32",
   "metadata": {
    "papermill": {
     "duration": 0.011001,
     "end_time": "2023-05-03T13:50:24.996863",
     "exception": false,
     "start_time": "2023-05-03T13:50:24.985862",
     "status": "completed"
    },
    "tags": []
   },
   "source": [
    "### 3.2. <a id='toc3_2_'></a>[Labor market flows data](#toc0_)"
   ]
  },
  {
   "cell_type": "markdown",
   "id": "fbd0996e",
   "metadata": {
    "papermill": {
     "duration": 0.010006,
     "end_time": "2023-05-03T13:50:25.017881",
     "exception": false,
     "start_time": "2023-05-03T13:50:25.007875",
     "status": "completed"
    },
    "tags": []
   },
   "source": [
    "The data construction is documented in the repository [CPS-labor-market-flows](https://github.com/JeppeDruedahl/CPS-labor-market-flows)."
   ]
  },
  {
   "cell_type": "markdown",
   "id": "8c0f0ea8",
   "metadata": {
    "papermill": {
     "duration": 0.01001,
     "end_time": "2023-05-03T13:50:25.037899",
     "exception": false,
     "start_time": "2023-05-03T13:50:25.027889",
     "status": "completed"
    },
    "tags": []
   },
   "source": [
    "**Download:**"
   ]
  },
  {
   "cell_type": "code",
   "execution_count": 12,
   "id": "89e3db59",
   "metadata": {
    "execution": {
     "iopub.execute_input": "2023-05-03T13:50:25.059914Z",
     "iopub.status.busy": "2023-05-03T13:50:25.059914Z",
     "iopub.status.idle": "2023-05-03T13:50:25.747742Z",
     "shell.execute_reply": "2023-05-03T13:50:25.746741Z"
    },
    "papermill": {
     "duration": 0.703838,
     "end_time": "2023-05-03T13:50:25.751745",
     "exception": false,
     "start_time": "2023-05-03T13:50:25.047907",
     "status": "completed"
    },
    "tags": []
   },
   "outputs": [
    {
     "name": "stdout",
     "output_type": "stream",
     "text": [
      "data/Q.p has been download\n"
     ]
    }
   ],
   "source": [
    "# a. download\n",
    "filename = 'data/Q.p'\n",
    "if not os.path.isdir(filename):\n",
    "    url = 'https://github.com/JeppeDruedahl/CPS-labor-market-flows/raw/main/Q.p'\n",
    "    urllib.request.urlretrieve(url,filename)\n",
    "    print(f'data/Q.p has been download')\n",
    "else:\n",
    "    print(f'data/Q.p has already been downloaded')\n",
    "    \n",
    "# b. open\n",
    "with open('data/Q.p', 'rb') as f:\n",
    "    Q = pickle.load(f)"
   ]
  },
  {
   "cell_type": "markdown",
   "id": "a9f8810e",
   "metadata": {
    "papermill": {
     "duration": 0.011009,
     "end_time": "2023-05-03T13:50:25.783772",
     "exception": false,
     "start_time": "2023-05-03T13:50:25.772763",
     "status": "completed"
    },
    "tags": []
   },
   "source": [
    "**Transfer to data:**"
   ]
  },
  {
   "cell_type": "code",
   "execution_count": 13,
   "id": "79872939",
   "metadata": {
    "execution": {
     "iopub.execute_input": "2023-05-03T13:50:25.818857Z",
     "iopub.status.busy": "2023-05-03T13:50:25.817844Z",
     "iopub.status.idle": "2023-05-03T13:50:25.903917Z",
     "shell.execute_reply": "2023-05-03T13:50:25.903917Z"
    },
    "papermill": {
     "duration": 0.103089,
     "end_time": "2023-05-03T13:50:25.907921",
     "exception": false,
     "start_time": "2023-05-03T13:50:25.804832",
     "status": "completed"
    },
    "tags": []
   },
   "outputs": [
    {
     "name": "stdout",
     "output_type": "stream",
     "text": [
      "EE: 1967-06:2019-12\n",
      "EU: 1967-06:2019-12\n",
      "EI: 1967-06:2019-12\n",
      "UE: 1967-06:2019-12\n",
      "UU: 1967-06:2019-12\n",
      "UI: 1967-06:2019-12\n",
      "IE: 1967-06:2019-12\n",
      "IU: 1967-06:2019-12\n",
      "II: 1967-06:2019-12\n"
     ]
    }
   ],
   "source": [
    "for k,v in Q.items():\n",
    "    \n",
    "    # a. transfer\n",
    "    data[f'l_{k}'] = v\n",
    "    \n",
    "    # b. calculate monthly transition event probability \n",
    "    data[k] = 100*(1.0-np.exp(-v))\n",
    "    \n",
    "    print_range(k)"
   ]
  },
  {
   "cell_type": "markdown",
   "id": "e8d135ee",
   "metadata": {
    "papermill": {
     "duration": 0.042021,
     "end_time": "2023-05-03T13:50:25.968970",
     "exception": false,
     "start_time": "2023-05-03T13:50:25.926949",
     "status": "completed"
    },
    "tags": []
   },
   "source": [
    "**Implied durations:**"
   ]
  },
  {
   "cell_type": "code",
   "execution_count": 14,
   "id": "2336f94e",
   "metadata": {
    "execution": {
     "iopub.execute_input": "2023-05-03T13:50:25.991988Z",
     "iopub.status.busy": "2023-05-03T13:50:25.990987Z",
     "iopub.status.idle": "2023-05-03T13:50:26.068059Z",
     "shell.execute_reply": "2023-05-03T13:50:26.067053Z"
    },
    "papermill": {
     "duration": 0.09208,
     "end_time": "2023-05-03T13:50:26.071060",
     "exception": false,
     "start_time": "2023-05-03T13:50:25.978980",
     "status": "completed"
    },
    "tags": []
   },
   "outputs": [],
   "source": [
    "data['dur_u'] = 1/data['l_UE']\n",
    "data['dur_e'] = 1/data['l_EU']"
   ]
  },
  {
   "cell_type": "markdown",
   "id": "aa4405ac",
   "metadata": {
    "papermill": {
     "duration": 0.021021,
     "end_time": "2023-05-03T13:50:26.115094",
     "exception": false,
     "start_time": "2023-05-03T13:50:26.094073",
     "status": "completed"
    },
    "tags": []
   },
   "source": [
    "### 3.3. <a id='toc3_3_'></a>[Data from Coibion](#toc0_)"
   ]
  },
  {
   "cell_type": "markdown",
   "id": "a043b5e5",
   "metadata": {
    "papermill": {
     "duration": 0.010008,
     "end_time": "2023-05-03T13:50:26.136063",
     "exception": false,
     "start_time": "2023-05-03T13:50:26.126055",
     "status": "completed"
    },
    "tags": []
   },
   "source": [
    "**Note:** Original file downloaded from [http://doi.org/10.3886/E114243V1](http://doi.org/10.3886/E114243V1)."
   ]
  },
  {
   "cell_type": "code",
   "execution_count": 15,
   "id": "ff31c8bb",
   "metadata": {
    "execution": {
     "iopub.execute_input": "2023-05-03T13:50:26.159083Z",
     "iopub.status.busy": "2023-05-03T13:50:26.158084Z",
     "iopub.status.idle": "2023-05-03T13:50:26.784422Z",
     "shell.execute_reply": "2023-05-03T13:50:26.784422Z"
    },
    "papermill": {
     "duration": 0.642306,
     "end_time": "2023-05-03T13:50:26.788422",
     "exception": false,
     "start_time": "2023-05-03T13:50:26.146116",
     "status": "completed"
    },
    "tags": []
   },
   "outputs": [
    {
     "name": "stdout",
     "output_type": "stream",
     "text": [
      "CRBCPI: 1960-01:2008-08\n"
     ]
    }
   ],
   "source": [
    "# a. load from excel\n",
    "index = np.arange(np.datetime64('1960-01'),np.datetime64('2008-08')+1)\n",
    "\n",
    "CRBCPI = pd.read_excel(\n",
    "    'data/114243-V1/AEJ_2010_0129_Data/Data_AEJ.xlsx',\n",
    "    sheet_name='MonthlyData',names=['CRBCPI'],\n",
    "    usecols='H',skiprows=6,nrows=index.size).squeeze(\"columns\")\n",
    "\n",
    "CRBCPI.index = index\n",
    "\n",
    "# b. add to data\n",
    "data['CRBCPI'] = CRBCPI\n",
    "print_range('CRBCPI')"
   ]
  },
  {
   "cell_type": "markdown",
   "id": "d50d9be8",
   "metadata": {
    "papermill": {
     "duration": 0.01101,
     "end_time": "2023-05-03T13:50:26.819405",
     "exception": false,
     "start_time": "2023-05-03T13:50:26.808395",
     "status": "completed"
    },
    "tags": []
   },
   "source": [
    "**Logarithm:**"
   ]
  },
  {
   "cell_type": "code",
   "execution_count": 16,
   "id": "07631ba4",
   "metadata": {
    "execution": {
     "iopub.execute_input": "2023-05-03T13:50:26.842465Z",
     "iopub.status.busy": "2023-05-03T13:50:26.841423Z",
     "iopub.status.idle": "2023-05-03T13:50:26.925542Z",
     "shell.execute_reply": "2023-05-03T13:50:26.924493Z"
    },
    "papermill": {
     "duration": 0.09813,
     "end_time": "2023-05-03T13:50:26.928544",
     "exception": false,
     "start_time": "2023-05-03T13:50:26.830414",
     "status": "completed"
    },
    "tags": []
   },
   "outputs": [],
   "source": [
    "data['log_CRBCPI'] = 100*np.log(data['CRBCPI'])"
   ]
  },
  {
   "cell_type": "markdown",
   "id": "237bdd59",
   "metadata": {
    "papermill": {
     "duration": 0.01101,
     "end_time": "2023-05-03T13:50:26.959522",
     "exception": false,
     "start_time": "2023-05-03T13:50:26.948512",
     "status": "completed"
    },
    "tags": []
   },
   "source": [
    "### 3.4. <a id='toc3_4_'></a>[Data from Miranda-Agrippino (Romer and Romer)](#toc0_)"
   ]
  },
  {
   "cell_type": "markdown",
   "id": "0f19f4e3",
   "metadata": {
    "papermill": {
     "duration": 0.015012,
     "end_time": "2023-05-03T13:50:26.993549",
     "exception": false,
     "start_time": "2023-05-03T13:50:26.978537",
     "status": "completed"
    },
    "tags": []
   },
   "source": [
    "**Download:**"
   ]
  },
  {
   "cell_type": "code",
   "execution_count": 17,
   "id": "ae67adab",
   "metadata": {
    "execution": {
     "iopub.execute_input": "2023-05-03T13:50:27.021613Z",
     "iopub.status.busy": "2023-05-03T13:50:27.021613Z",
     "iopub.status.idle": "2023-05-03T13:50:27.113647Z",
     "shell.execute_reply": "2023-05-03T13:50:27.112645Z"
    },
    "papermill": {
     "duration": 0.108086,
     "end_time": "2023-05-03T13:50:27.116649",
     "exception": false,
     "start_time": "2023-05-03T13:50:27.008563",
     "status": "completed"
    },
    "tags": []
   },
   "outputs": [
    {
     "name": "stdout",
     "output_type": "stream",
     "text": [
      "data already downloaded and extracted to data/RomerRomer/\n"
     ]
    }
   ],
   "source": [
    "url = 'http://silviamirandaagrippino.com/s/Narrative-MP.zip'\n",
    "download_and_unzip(url,'RomerRomer')"
   ]
  },
  {
   "cell_type": "markdown",
   "id": "ec431fcc",
   "metadata": {
    "papermill": {
     "duration": 0.012011,
     "end_time": "2023-05-03T13:50:27.149678",
     "exception": false,
     "start_time": "2023-05-03T13:50:27.137667",
     "status": "completed"
    },
    "tags": []
   },
   "source": [
    "**Process and transfer to data:**"
   ]
  },
  {
   "cell_type": "code",
   "execution_count": 18,
   "id": "b891aa49",
   "metadata": {
    "execution": {
     "iopub.execute_input": "2023-05-03T13:50:27.171695Z",
     "iopub.status.busy": "2023-05-03T13:50:27.171695Z",
     "iopub.status.idle": "2023-05-03T13:50:27.295795Z",
     "shell.execute_reply": "2023-05-03T13:50:27.295795Z"
    },
    "papermill": {
     "duration": 0.140112,
     "end_time": "2023-05-03T13:50:27.299798",
     "exception": false,
     "start_time": "2023-05-03T13:50:27.159686",
     "status": "completed"
    },
    "tags": []
   },
   "outputs": [
    {
     "name": "stdout",
     "output_type": "stream",
     "text": [
      "shock_RR: 1969-01:1996-12\n",
      "shock_MA: 1969-01:2007-12\n"
     ]
    }
   ],
   "source": [
    "# a. load\n",
    "data_RR_df = pd.read_excel(f'{os.getcwd()}/data/RomerRomer/Narrative MP/NarrativeRomerRomerShock.xlsx',skiprows=[0])\n",
    "data_RR_df.date = pd.to_datetime(data_RR_df.date,format='%YM%m')\n",
    "\n",
    "# b. update data\n",
    "data['shock_RR'] = pd.Series(data=data_RR_df['Romer & Romer (2004)'].values,index=data_RR_df.date)\n",
    "data['shock_MA'] = pd.Series(data=data_RR_df['Miranda-Agrippino (2014)'].values,index=data_RR_df.date)\n",
    "\n",
    "print_range('shock_RR')\n",
    "print_range('shock_MA')"
   ]
  },
  {
   "cell_type": "markdown",
   "id": "1ea1f37b",
   "metadata": {
    "papermill": {
     "duration": 0.011008,
     "end_time": "2023-05-03T13:50:27.331825",
     "exception": false,
     "start_time": "2023-05-03T13:50:27.320817",
     "status": "completed"
    },
    "tags": []
   },
   "source": [
    "### 3.5. <a id='toc3_5_'></a>[Data from Regis Barnichon](#toc0_)"
   ]
  },
  {
   "cell_type": "markdown",
   "id": "477d02d9",
   "metadata": {
    "papermill": {
     "duration": 0.01001,
     "end_time": "2023-05-03T13:50:27.352844",
     "exception": false,
     "start_time": "2023-05-03T13:50:27.342834",
     "status": "completed"
    },
    "tags": []
   },
   "source": [
    "**Download:**"
   ]
  },
  {
   "cell_type": "code",
   "execution_count": 19,
   "id": "3fc3c1bd",
   "metadata": {
    "execution": {
     "iopub.execute_input": "2023-05-03T13:50:27.375931Z",
     "iopub.status.busy": "2023-05-03T13:50:27.374863Z",
     "iopub.status.idle": "2023-05-03T13:50:27.470984Z",
     "shell.execute_reply": "2023-05-03T13:50:27.469983Z"
    },
    "papermill": {
     "duration": 0.112139,
     "end_time": "2023-05-03T13:50:27.474994",
     "exception": false,
     "start_time": "2023-05-03T13:50:27.362855",
     "status": "completed"
    },
    "tags": []
   },
   "outputs": [
    {
     "name": "stdout",
     "output_type": "stream",
     "text": [
      "data loaded from data/data_RB.p\n"
     ]
    }
   ],
   "source": [
    "filepath = 'data/data_RB.p'\n",
    "if not os.path.isfile(filepath):\n",
    "    \n",
    "    # i. download\n",
    "    #data_RB_df = pd.read_csv('https://drive.google.com/file/d/1s9yGoAt6wfpKaBGkP7xV7Hvs7RVV9deS/view?usp=sharing',header=None,skiprows=7,delimiter='\\t')\n",
    "    data_RB_df = pd.read_csv('data/HWI_index.txt',header=None,skiprows=7,delimiter='\\t')\n",
    "    \n",
    "    # ii. structure\n",
    "    data_RB_df.columns = ['date','v']\n",
    "    data_RB_df.date = pd.to_datetime(data_RB_df.date,format='%YM%m')\n",
    "    \n",
    "    data_RB = {}\n",
    "    data_RB['v'] = pd.Series(data=data_RB_df.v.values,index=data_RB_df.date)\n",
    "    \n",
    "    # iii. save\n",
    "    with open(filepath,'wb') as handle:\n",
    "        pickle.dump(data_RB,handle)    \n",
    "    \n",
    "    del data_RB_df\n",
    "    \n",
    "    print(f'data downloaded and saved to {filepath}')\n",
    "    \n",
    "else:\n",
    "    \n",
    "    with open('data/data_RB.p', 'rb') as f:\n",
    "        data_RB = pickle.load(f)\n",
    "        \n",
    "    print(f'data loaded from {filepath}')"
   ]
  },
  {
   "cell_type": "markdown",
   "id": "10189806",
   "metadata": {
    "papermill": {
     "duration": 0.011007,
     "end_time": "2023-05-03T13:50:27.505971",
     "exception": false,
     "start_time": "2023-05-03T13:50:27.494964",
     "status": "completed"
    },
    "tags": []
   },
   "source": [
    "**Transfer to data:**"
   ]
  },
  {
   "cell_type": "code",
   "execution_count": 20,
   "id": "34e912a4",
   "metadata": {
    "execution": {
     "iopub.execute_input": "2023-05-03T13:50:27.528989Z",
     "iopub.status.busy": "2023-05-03T13:50:27.527989Z",
     "iopub.status.idle": "2023-05-03T13:50:27.614109Z",
     "shell.execute_reply": "2023-05-03T13:50:27.613109Z"
    },
    "papermill": {
     "duration": 0.101085,
     "end_time": "2023-05-03T13:50:27.617110",
     "exception": false,
     "start_time": "2023-05-03T13:50:27.516025",
     "status": "completed"
    },
    "tags": []
   },
   "outputs": [],
   "source": [
    "data['v'] = data_RB['v']"
   ]
  },
  {
   "cell_type": "markdown",
   "id": "81b68eb4",
   "metadata": {
    "papermill": {
     "duration": 0.01201,
     "end_time": "2023-05-03T13:50:27.650089",
     "exception": false,
     "start_time": "2023-05-03T13:50:27.638079",
     "status": "completed"
    },
    "tags": []
   },
   "source": [
    "**Logarithm:**"
   ]
  },
  {
   "cell_type": "code",
   "execution_count": 21,
   "id": "eb4e4da4",
   "metadata": {
    "execution": {
     "iopub.execute_input": "2023-05-03T13:50:27.673152Z",
     "iopub.status.busy": "2023-05-03T13:50:27.672106Z",
     "iopub.status.idle": "2023-05-03T13:50:27.761223Z",
     "shell.execute_reply": "2023-05-03T13:50:27.761223Z"
    },
    "papermill": {
     "duration": 0.105126,
     "end_time": "2023-05-03T13:50:27.765225",
     "exception": false,
     "start_time": "2023-05-03T13:50:27.660099",
     "status": "completed"
    },
    "tags": []
   },
   "outputs": [],
   "source": [
    "data['log_v'] = 100*np.log(data['v'])"
   ]
  },
  {
   "cell_type": "markdown",
   "id": "4a2d9821",
   "metadata": {
    "papermill": {
     "duration": 0.01201,
     "end_time": "2023-05-03T13:50:27.797210",
     "exception": false,
     "start_time": "2023-05-03T13:50:27.785200",
     "status": "completed"
    },
    "tags": []
   },
   "source": [
    "### 3.6. <a id='toc3_6_'></a>[Tightness](#toc0_)"
   ]
  },
  {
   "cell_type": "code",
   "execution_count": 22,
   "id": "bc011523",
   "metadata": {
    "execution": {
     "iopub.execute_input": "2023-05-03T13:50:27.829235Z",
     "iopub.status.busy": "2023-05-03T13:50:27.828235Z",
     "iopub.status.idle": "2023-05-03T13:50:27.902339Z",
     "shell.execute_reply": "2023-05-03T13:50:27.902339Z"
    },
    "papermill": {
     "duration": 0.099126,
     "end_time": "2023-05-03T13:50:27.906345",
     "exception": false,
     "start_time": "2023-05-03T13:50:27.807219",
     "status": "completed"
    },
    "tags": []
   },
   "outputs": [],
   "source": [
    "data['theta'] = data['v']/data['u']\n",
    "data['log_theta'] = 100*np.log(data['theta'])"
   ]
  },
  {
   "cell_type": "markdown",
   "id": "da6193c3",
   "metadata": {
    "papermill": {
     "duration": 0.012011,
     "end_time": "2023-05-03T13:50:27.938326",
     "exception": false,
     "start_time": "2023-05-03T13:50:27.926315",
     "status": "completed"
    },
    "tags": []
   },
   "source": [
    "### 3.7. <a id='toc3_7_'></a>[Data from Ramey and Fernald (qtr.)](#toc0_)"
   ]
  },
  {
   "cell_type": "markdown",
   "id": "d5fb14a3",
   "metadata": {
    "papermill": {
     "duration": 0.010009,
     "end_time": "2023-05-03T13:50:27.958344",
     "exception": false,
     "start_time": "2023-05-03T13:50:27.948335",
     "status": "completed"
    },
    "tags": []
   },
   "source": [
    "#### 3.7.1. <a id='toc3_7_1_'></a>[Ramey](#toc0_)"
   ]
  },
  {
   "cell_type": "code",
   "execution_count": 23,
   "id": "5f0fe3e3",
   "metadata": {
    "execution": {
     "iopub.execute_input": "2023-05-03T13:50:27.981360Z",
     "iopub.status.busy": "2023-05-03T13:50:27.981360Z",
     "iopub.status.idle": "2023-05-03T13:50:28.075436Z",
     "shell.execute_reply": "2023-05-03T13:50:28.075436Z"
    },
    "papermill": {
     "duration": 0.10909,
     "end_time": "2023-05-03T13:50:28.078440",
     "exception": false,
     "start_time": "2023-05-03T13:50:27.969350",
     "status": "completed"
    },
    "tags": []
   },
   "outputs": [
    {
     "name": "stdout",
     "output_type": "stream",
     "text": [
      "data already downloaded and extracted to data/Ramey_HOM_technology/\n"
     ]
    }
   ],
   "source": [
    "url = 'https://econweb.ucsd.edu/~vramey/research/Ramey_HOM_technology.zip'\n",
    "download_and_unzip(url,'Ramey_HOM_technology')"
   ]
  },
  {
   "cell_type": "code",
   "execution_count": 24,
   "id": "2e679bbd",
   "metadata": {
    "execution": {
     "iopub.execute_input": "2023-05-03T13:50:28.112512Z",
     "iopub.status.busy": "2023-05-03T13:50:28.111510Z",
     "iopub.status.idle": "2023-05-03T13:50:28.326696Z",
     "shell.execute_reply": "2023-05-03T13:50:28.325691Z"
    },
    "papermill": {
     "duration": 0.231236,
     "end_time": "2023-05-03T13:50:28.329696",
     "exception": false,
     "start_time": "2023-05-03T13:50:28.098460",
     "status": "completed"
    },
    "tags": []
   },
   "outputs": [],
   "source": [
    "data_Q = pd.read_excel('data/Ramey_HOM_technology/Technology_data.xlsx',sheet_name='techdat')"
   ]
  },
  {
   "cell_type": "code",
   "execution_count": 25,
   "id": "8b0ad7c2",
   "metadata": {
    "execution": {
     "iopub.execute_input": "2023-05-03T13:50:28.362677Z",
     "iopub.status.busy": "2023-05-03T13:50:28.361676Z",
     "iopub.status.idle": "2023-05-03T13:50:28.437782Z",
     "shell.execute_reply": "2023-05-03T13:50:28.436781Z"
    },
    "papermill": {
     "duration": 0.091109,
     "end_time": "2023-05-03T13:50:28.440790",
     "exception": false,
     "start_time": "2023-05-03T13:50:28.349681",
     "status": "completed"
    },
    "tags": []
   },
   "outputs": [],
   "source": [
    "year = np.floor(data_Q.quarter).astype('int').astype('str')\n",
    "quarter = (1+(data_Q.quarter-np.floor(data_Q.quarter))*4).astype('int').astype('str')\n",
    "data_Q['date'] = pd.to_datetime(year + '-Q' + quarter)\n",
    "data_Q = data_Q.set_index('date')"
   ]
  },
  {
   "cell_type": "markdown",
   "id": "f553d89e",
   "metadata": {
    "papermill": {
     "duration": 0.012011,
     "end_time": "2023-05-03T13:50:28.473769",
     "exception": false,
     "start_time": "2023-05-03T13:50:28.461758",
     "status": "completed"
    },
    "tags": []
   },
   "source": [
    "Change bad naming:"
   ]
  },
  {
   "cell_type": "code",
   "execution_count": 26,
   "id": "cd102132",
   "metadata": {
    "execution": {
     "iopub.execute_input": "2023-05-03T13:50:28.496831Z",
     "iopub.status.busy": "2023-05-03T13:50:28.495786Z",
     "iopub.status.idle": "2023-05-03T13:50:28.573850Z",
     "shell.execute_reply": "2023-05-03T13:50:28.573850Z"
    },
    "papermill": {
     "duration": 0.094074,
     "end_time": "2023-05-03T13:50:28.577853",
     "exception": false,
     "start_time": "2023-05-03T13:50:28.483779",
     "status": "completed"
    },
    "tags": []
   },
   "outputs": [],
   "source": [
    "data_Q['poplev'] = data_Q['pop']\n",
    "del data_Q['pop']"
   ]
  },
  {
   "cell_type": "markdown",
   "id": "21a127e1",
   "metadata": {
    "papermill": {
     "duration": 0.011009,
     "end_time": "2023-05-03T13:50:28.609882",
     "exception": false,
     "start_time": "2023-05-03T13:50:28.598873",
     "status": "completed"
    },
    "tags": []
   },
   "source": [
    "#### 3.7.2. <a id='toc3_7_2_'></a>[Fernald](#toc0_)"
   ]
  },
  {
   "cell_type": "code",
   "execution_count": 27,
   "id": "e5ac33a7",
   "metadata": {
    "execution": {
     "iopub.execute_input": "2023-05-03T13:50:28.632899Z",
     "iopub.status.busy": "2023-05-03T13:50:28.631899Z",
     "iopub.status.idle": "2023-05-03T13:50:28.718012Z",
     "shell.execute_reply": "2023-05-03T13:50:28.718012Z"
    },
    "papermill": {
     "duration": 0.101086,
     "end_time": "2023-05-03T13:50:28.720975",
     "exception": false,
     "start_time": "2023-05-03T13:50:28.619889",
     "status": "completed"
    },
    "tags": []
   },
   "outputs": [],
   "source": [
    "url = 'https://drive.google.com/u/0/uc?id=1ezc7H70Rlnc7tGhB062ua0FG-eLmDJV6&export=download'\n",
    "filename = f'{os.getcwd()}/data/fenald.xlsx'\n",
    "if not os.path.isfile(filename):\n",
    "    urllib.request.urlretrieve(url,filename)"
   ]
  },
  {
   "cell_type": "code",
   "execution_count": 28,
   "id": "2898317e",
   "metadata": {
    "execution": {
     "iopub.execute_input": "2023-05-03T13:50:28.757002Z",
     "iopub.status.busy": "2023-05-03T13:50:28.756002Z",
     "iopub.status.idle": "2023-05-03T13:50:28.945157Z",
     "shell.execute_reply": "2023-05-03T13:50:28.945157Z"
    },
    "papermill": {
     "duration": 0.204168,
     "end_time": "2023-05-03T13:50:28.947159",
     "exception": false,
     "start_time": "2023-05-03T13:50:28.742991",
     "status": "completed"
    },
    "tags": []
   },
   "outputs": [],
   "source": [
    "df = pd.read_excel(f'{os.getcwd()}/data/fenald.xlsx',sheet_name='quarterly',skiprows=1,nrows=292)\n",
    "df.date = pd.to_datetime(df.date.str[:4] + df.date.str[-2:])\n",
    "df = df.set_index('date')\n",
    "data_Q['dtfp_util'] = df['dtfp_util']"
   ]
  },
  {
   "cell_type": "markdown",
   "id": "0b3384de",
   "metadata": {
    "papermill": {
     "duration": 0.01201,
     "end_time": "2023-05-03T13:50:28.979186",
     "exception": false,
     "start_time": "2023-05-03T13:50:28.967176",
     "status": "completed"
    },
    "tags": []
   },
   "source": [
    "### 3.8. <a id='toc3_8_'></a>[Data from Haltiwanger (qtr.)](#toc0_)"
   ]
  },
  {
   "cell_type": "markdown",
   "id": "6752bf5d",
   "metadata": {
    "papermill": {
     "duration": 0.01401,
     "end_time": "2023-05-03T13:50:29.014216",
     "exception": false,
     "start_time": "2023-05-03T13:50:29.000206",
     "status": "completed"
    },
    "tags": []
   },
   "source": [
    "**Download:**"
   ]
  },
  {
   "cell_type": "code",
   "execution_count": 29,
   "id": "4ae426d9",
   "metadata": {
    "execution": {
     "iopub.execute_input": "2023-05-03T13:50:29.039235Z",
     "iopub.status.busy": "2023-05-03T13:50:29.039235Z",
     "iopub.status.idle": "2023-05-03T13:50:29.136316Z",
     "shell.execute_reply": "2023-05-03T13:50:29.135315Z"
    },
    "papermill": {
     "duration": 0.113049,
     "end_time": "2023-05-03T13:50:29.139318",
     "exception": false,
     "start_time": "2023-05-03T13:50:29.026269",
     "status": "completed"
    },
    "tags": []
   },
   "outputs": [
    {
     "name": "stdout",
     "output_type": "stream",
     "text": [
      "data loaded from data/data_haltiwanger.p\n"
     ]
    }
   ],
   "source": [
    "filepath = 'data/data_haltiwanger.p'\n",
    "if not os.path.isfile(filepath):\n",
    "    \n",
    "    data_haltiwanger = pd.read_excel('http://econweb.umd.edu/~haltiwan/download/DFH_JEP_JobFlows/DFH_JEP_2006_Job_Flows.xls',\n",
    "                                     skiprows=4,sheet_name='Final Estimates')\n",
    "    data_haltiwanger['year'] = data_haltiwanger.QTR.astype('str').str[:4]\n",
    "    data_haltiwanger['quarter'] = data_haltiwanger.QTR.astype('str').str[4]\n",
    "    data_haltiwanger['date'] = pd.to_datetime(data_haltiwanger['year'] + '-Q' + data_haltiwanger['quarter'])\n",
    "    \n",
    "    # save to disc\n",
    "    with open(filepath,'wb') as handle:\n",
    "        pickle.dump(data_haltiwanger,handle)\n",
    "        \n",
    "    print(f'data downloaded and saved to {filepath}')\n",
    "    \n",
    "else:\n",
    "    \n",
    "    with open(filepath, 'rb') as f:\n",
    "        data_haltiwanger = pickle.load(f)\n",
    "        \n",
    "    print(f'data loaded from {filepath}')        "
   ]
  },
  {
   "cell_type": "markdown",
   "id": "39c512d5",
   "metadata": {
    "papermill": {
     "duration": 0.011008,
     "end_time": "2023-05-03T13:50:29.170344",
     "exception": false,
     "start_time": "2023-05-03T13:50:29.159336",
     "status": "completed"
    },
    "tags": []
   },
   "source": [
    "**Proces:**"
   ]
  },
  {
   "cell_type": "code",
   "execution_count": 30,
   "id": "6a8c8241",
   "metadata": {
    "execution": {
     "iopub.execute_input": "2023-05-03T13:50:29.194364Z",
     "iopub.status.busy": "2023-05-03T13:50:29.193364Z",
     "iopub.status.idle": "2023-05-03T13:50:29.274430Z",
     "shell.execute_reply": "2023-05-03T13:50:29.273429Z"
    },
    "papermill": {
     "duration": 0.096079,
     "end_time": "2023-05-03T13:50:29.277436",
     "exception": false,
     "start_time": "2023-05-03T13:50:29.181357",
     "status": "completed"
    },
    "tags": []
   },
   "outputs": [],
   "source": [
    "jd = data_Q['jd'] = pd.Series(data=data_haltiwanger.JD.values,index=data_haltiwanger.date)\n",
    "jc = data_Q['jc'] = pd.Series(data=data_haltiwanger.JC.values,index=data_haltiwanger.date)"
   ]
  },
  {
   "cell_type": "markdown",
   "id": "38e02ca7",
   "metadata": {
    "papermill": {
     "duration": 0.01301,
     "end_time": "2023-05-03T13:50:29.312462",
     "exception": false,
     "start_time": "2023-05-03T13:50:29.299452",
     "status": "completed"
    },
    "tags": []
   },
   "source": [
    "**Resample to monthly**"
   ]
  },
  {
   "cell_type": "code",
   "execution_count": 31,
   "id": "3c9dff91",
   "metadata": {
    "execution": {
     "iopub.execute_input": "2023-05-03T13:50:29.336482Z",
     "iopub.status.busy": "2023-05-03T13:50:29.335482Z",
     "iopub.status.idle": "2023-05-03T13:50:29.430601Z",
     "shell.execute_reply": "2023-05-03T13:50:29.430601Z"
    },
    "papermill": {
     "duration": 0.111134,
     "end_time": "2023-05-03T13:50:29.434605",
     "exception": false,
     "start_time": "2023-05-03T13:50:29.323471",
     "status": "completed"
    },
    "tags": []
   },
   "outputs": [
    {
     "name": "stdout",
     "output_type": "stream",
     "text": [
      "PCEPI: [1947-01:2005-01] -> [1947-01:2005-01]\n",
      "PCEPI: [1947-01:2005-01] -> [1947-01:2005-01]\n"
     ]
    }
   ],
   "source": [
    "data['jd'] = resample_to_M(jd)\n",
    "data['jc'] = resample_to_M(jc)"
   ]
  },
  {
   "cell_type": "code",
   "execution_count": 32,
   "id": "fb820e39",
   "metadata": {
    "execution": {
     "iopub.execute_input": "2023-05-03T13:50:29.467590Z",
     "iopub.status.busy": "2023-05-03T13:50:29.467590Z",
     "iopub.status.idle": "2023-05-03T13:50:29.551703Z",
     "shell.execute_reply": "2023-05-03T13:50:29.551703Z"
    },
    "papermill": {
     "duration": 0.101126,
     "end_time": "2023-05-03T13:50:29.555706",
     "exception": false,
     "start_time": "2023-05-03T13:50:29.454580",
     "status": "completed"
    },
    "tags": []
   },
   "outputs": [
    {
     "name": "stdout",
     "output_type": "stream",
     "text": [
      "jc: 1948-01:2005-01\n",
      "jd: 1948-01:2005-01\n"
     ]
    }
   ],
   "source": [
    "for varname in ['jc','jd']: print_range(varname)"
   ]
  },
  {
   "cell_type": "markdown",
   "id": "1994de46",
   "metadata": {
    "papermill": {
     "duration": 0.011008,
     "end_time": "2023-05-03T13:50:29.586689",
     "exception": false,
     "start_time": "2023-05-03T13:50:29.575681",
     "status": "completed"
    },
    "tags": []
   },
   "source": [
    "**Logarithms**"
   ]
  },
  {
   "cell_type": "code",
   "execution_count": 33,
   "id": "b0aedd55",
   "metadata": {
    "execution": {
     "iopub.execute_input": "2023-05-03T13:50:29.610750Z",
     "iopub.status.busy": "2023-05-03T13:50:29.610750Z",
     "iopub.status.idle": "2023-05-03T13:50:29.690775Z",
     "shell.execute_reply": "2023-05-03T13:50:29.690775Z"
    },
    "papermill": {
     "duration": 0.09713,
     "end_time": "2023-05-03T13:50:29.694829",
     "exception": false,
     "start_time": "2023-05-03T13:50:29.597699",
     "status": "completed"
    },
    "tags": []
   },
   "outputs": [],
   "source": [
    "for varname in ['jc','jd']:\n",
    "    data[f'log_{varname}'] = 100*np.log(data[varname])"
   ]
  },
  {
   "cell_type": "markdown",
   "id": "53c4235d",
   "metadata": {
    "papermill": {
     "duration": 0.011007,
     "end_time": "2023-05-03T13:50:29.721802",
     "exception": false,
     "start_time": "2023-05-03T13:50:29.710795",
     "status": "completed"
    },
    "tags": []
   },
   "source": [
    "### 3.9. <a id='toc3_9_'></a>[Add monthly data to quarterly data](#toc0_)"
   ]
  },
  {
   "cell_type": "code",
   "execution_count": 34,
   "id": "20924718",
   "metadata": {
    "execution": {
     "iopub.execute_input": "2023-05-03T13:50:29.746865Z",
     "iopub.status.busy": "2023-05-03T13:50:29.745864Z",
     "iopub.status.idle": "2023-05-03T13:50:29.824931Z",
     "shell.execute_reply": "2023-05-03T13:50:29.824931Z"
    },
    "papermill": {
     "duration": 0.096082,
     "end_time": "2023-05-03T13:50:29.828893",
     "exception": false,
     "start_time": "2023-05-03T13:50:29.732811",
     "status": "completed"
    },
    "tags": []
   },
   "outputs": [],
   "source": [
    "data_Q_from_m = data.resample('Q',label='left').mean()\n",
    "data_Q_from_m.index += pd.tseries.frequencies.to_offset('1D')"
   ]
  },
  {
   "cell_type": "code",
   "execution_count": 35,
   "id": "0cbeeca2",
   "metadata": {
    "execution": {
     "iopub.execute_input": "2023-05-03T13:50:29.861920Z",
     "iopub.status.busy": "2023-05-03T13:50:29.860919Z",
     "iopub.status.idle": "2023-05-03T13:50:29.959043Z",
     "shell.execute_reply": "2023-05-03T13:50:29.958042Z"
    },
    "papermill": {
     "duration": 0.1131,
     "end_time": "2023-05-03T13:50:29.962043",
     "exception": false,
     "start_time": "2023-05-03T13:50:29.848943",
     "status": "completed"
    },
    "tags": []
   },
   "outputs": [],
   "source": [
    "for varname in data_Q_from_m:\n",
    "    if not varname in data_Q:\n",
    "        data_Q[varname] = data_Q_from_m[varname]"
   ]
  },
  {
   "cell_type": "markdown",
   "id": "badbc9fe",
   "metadata": {
    "papermill": {
     "duration": 0.011009,
     "end_time": "2023-05-03T13:50:29.994028",
     "exception": false,
     "start_time": "2023-05-03T13:50:29.983019",
     "status": "completed"
    },
    "tags": []
   },
   "source": [
    "## 4. <a id='toc4_'></a>[Dump](#toc0_)"
   ]
  },
  {
   "cell_type": "code",
   "execution_count": 36,
   "id": "cb4d6e44",
   "metadata": {
    "execution": {
     "iopub.execute_input": "2023-05-03T13:50:30.018047Z",
     "iopub.status.busy": "2023-05-03T13:50:30.017049Z",
     "iopub.status.idle": "2023-05-03T13:50:30.096111Z",
     "shell.execute_reply": "2023-05-03T13:50:30.095110Z"
    },
    "papermill": {
     "duration": 0.094077,
     "end_time": "2023-05-03T13:50:30.099113",
     "exception": false,
     "start_time": "2023-05-03T13:50:30.005036",
     "status": "completed"
    },
    "tags": []
   },
   "outputs": [],
   "source": [
    "with open('data/data.p','wb') as f:\n",
    "    pickle.dump(data,f)"
   ]
  },
  {
   "cell_type": "code",
   "execution_count": 37,
   "id": "e195262b",
   "metadata": {
    "execution": {
     "iopub.execute_input": "2023-05-03T13:50:30.144194Z",
     "iopub.status.busy": "2023-05-03T13:50:30.143196Z",
     "iopub.status.idle": "2023-05-03T13:50:30.223267Z",
     "shell.execute_reply": "2023-05-03T13:50:30.222261Z"
    },
    "papermill": {
     "duration": 0.099122,
     "end_time": "2023-05-03T13:50:30.226260",
     "exception": false,
     "start_time": "2023-05-03T13:50:30.127138",
     "status": "completed"
    },
    "tags": []
   },
   "outputs": [],
   "source": [
    "with open('data/data_Q.p','wb') as f:\n",
    "    pickle.dump(data_Q,f)"
   ]
  }
 ],
 "metadata": {
  "kernelspec": {
   "display_name": "base",
   "language": "python",
   "name": "python3"
  },
  "language_info": {
   "codemirror_mode": {
    "name": "ipython",
    "version": 3
   },
   "file_extension": ".py",
   "mimetype": "text/x-python",
   "name": "python",
   "nbconvert_exporter": "python",
   "pygments_lexer": "ipython3",
   "version": "3.9.16"
  },
  "papermill": {
   "default_parameters": {},
   "duration": 9.918277,
   "end_time": "2023-05-03T13:50:30.457456",
   "environment_variables": {},
   "exception": null,
   "input_path": "01a. Data.ipynb",
   "output_path": "temp_notebooks/01a. Data.ipynb",
   "parameters": {},
   "start_time": "2023-05-03T13:50:20.539179",
   "version": "2.4.0"
  },
  "toc-autonumbering": true,
  "vscode": {
   "interpreter": {
    "hash": "47ef90cdf3004d3f859f1fb202523c65c07ba7c22eefd261b181f4744e2d0403"
   }
  }
 },
 "nbformat": 4,
 "nbformat_minor": 5
}