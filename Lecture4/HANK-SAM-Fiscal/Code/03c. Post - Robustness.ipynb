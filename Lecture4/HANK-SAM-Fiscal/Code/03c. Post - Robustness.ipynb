{
 "cells": [
  {
   "cell_type": "markdown",
   "id": "3fcc5433",
   "metadata": {
    "papermill": {
     "duration": 0.01101,
     "end_time": "2023-05-03T18:33:24.906935",
     "exception": false,
     "start_time": "2023-05-03T18:33:24.895925",
     "status": "completed"
    },
    "tags": []
   },
   "source": [
    "# Robustness"
   ]
  },
  {
   "cell_type": "markdown",
   "id": "7cebdfa4",
   "metadata": {
    "papermill": {
     "duration": 0.005033,
     "end_time": "2023-05-03T18:33:24.919978",
     "exception": false,
     "start_time": "2023-05-03T18:33:24.914945",
     "status": "completed"
    },
    "tags": []
   },
   "source": [
    "**Table of contents**<a id='toc0_'></a>    \n",
    "- 1. [Settings](#toc1_)    \n",
    "- 2. [Setup](#toc2_)    \n",
    "- 3. [Calibrations](#toc3_)    \n",
    "- 4. [Fiscal multiplier](#toc4_)    \n",
    "- 5. [Slides](#toc5_)    \n",
    "\n",
    "<!-- vscode-jupyter-toc-config\n",
    "\tnumbering=true\n",
    "\tanchor=true\n",
    "\tflat=false\n",
    "\tminLevel=2\n",
    "\tmaxLevel=6\n",
    "\t/vscode-jupyter-toc-config -->\n",
    "<!-- THIS CELL WILL BE REPLACED ON TOC UPDATE. DO NOT WRITE YOUR TEXT IN THIS CELL -->"
   ]
  },
  {
   "cell_type": "code",
   "execution_count": 1,
   "id": "70a674ca",
   "metadata": {
    "execution": {
     "iopub.execute_input": "2023-05-03T18:33:24.931912Z",
     "iopub.status.busy": "2023-05-03T18:33:24.930912Z",
     "iopub.status.idle": "2023-05-03T18:33:32.891453Z",
     "shell.execute_reply": "2023-05-03T18:33:32.891453Z"
    },
    "papermill": {
     "duration": 7.970549,
     "end_time": "2023-05-03T18:33:32.895456",
     "exception": false,
     "start_time": "2023-05-03T18:33:24.924907",
     "status": "completed"
    },
    "tags": []
   },
   "outputs": [],
   "source": [
    "%load_ext autoreload\n",
    "%autoreload 2\n",
    "\n",
    "import numpy as np\n",
    "import matplotlib.pyplot as plt\n",
    "\n",
    "from FullHANKSAMModel import FullHANKSAMModelClass\n",
    "from figures import create_fig, save_fig\n",
    "import policy"
   ]
  },
  {
   "cell_type": "markdown",
   "id": "fb1154e2",
   "metadata": {
    "papermill": {
     "duration": 0.007019,
     "end_time": "2023-05-03T18:33:32.914515",
     "exception": false,
     "start_time": "2023-05-03T18:33:32.907496",
     "status": "completed"
    },
    "tags": []
   },
   "source": [
    "## 1. <a id='toc1_'></a>[Settings](#toc0_)"
   ]
  },
  {
   "cell_type": "code",
   "execution_count": 2,
   "id": "99177dd4",
   "metadata": {
    "execution": {
     "iopub.execute_input": "2023-05-03T18:33:32.926525Z",
     "iopub.status.busy": "2023-05-03T18:33:32.925526Z",
     "iopub.status.idle": "2023-05-03T18:33:33.044580Z",
     "shell.execute_reply": "2023-05-03T18:33:33.043579Z"
    },
    "papermill": {
     "duration": 0.129064,
     "end_time": "2023-05-03T18:33:33.048583",
     "exception": false,
     "start_time": "2023-05-03T18:33:32.919519",
     "status": "completed"
    },
    "tags": []
   },
   "outputs": [],
   "source": [
    "LOAD = False"
   ]
  },
  {
   "cell_type": "code",
   "execution_count": 3,
   "id": "d18cbd44",
   "metadata": {
    "execution": {
     "iopub.execute_input": "2023-05-03T18:33:33.070647Z",
     "iopub.status.busy": "2023-05-03T18:33:33.069646Z",
     "iopub.status.idle": "2023-05-03T18:33:33.183696Z",
     "shell.execute_reply": "2023-05-03T18:33:33.182694Z"
    },
    "papermill": {
     "duration": 0.127105,
     "end_time": "2023-05-03T18:33:33.186697",
     "exception": false,
     "start_time": "2023-05-03T18:33:33.059592",
     "status": "completed"
    },
    "tags": []
   },
   "outputs": [],
   "source": [
    "pols = ['G','hh_transfer','retention_subsidy','hiring_subsidy','phi_obar','u_bar']\n",
    "pols_flex = ['retention_subsidy','hiring_subsidy']\n",
    "pols_RA = ['G','retention_subsidy','hiring_subsidy']"
   ]
  },
  {
   "cell_type": "markdown",
   "id": "8d03f102",
   "metadata": {
    "papermill": {
     "duration": 0.008007,
     "end_time": "2023-05-03T18:33:33.207716",
     "exception": false,
     "start_time": "2023-05-03T18:33:33.199709",
     "status": "completed"
    },
    "tags": []
   },
   "source": [
    "## 2. <a id='toc2_'></a>[Setup](#toc0_)"
   ]
  },
  {
   "cell_type": "code",
   "execution_count": 4,
   "id": "8ea5ccbb-2989-4c86-82c4-6475da2225c1",
   "metadata": {
    "execution": {
     "iopub.execute_input": "2023-05-03T18:33:33.226730Z",
     "iopub.status.busy": "2023-05-03T18:33:33.225730Z",
     "iopub.status.idle": "2023-05-03T18:33:33.389866Z",
     "shell.execute_reply": "2023-05-03T18:33:33.389866Z"
    },
    "papermill": {
     "duration": 0.175144,
     "end_time": "2023-05-03T18:33:33.393869",
     "exception": false,
     "start_time": "2023-05-03T18:33:33.218725",
     "status": "completed"
    },
    "tags": []
   },
   "outputs": [],
   "source": [
    "basemodel = FullHANKSAMModelClass(name='baseline')\n",
    "basemodel.load()"
   ]
  },
  {
   "cell_type": "code",
   "execution_count": 5,
   "id": "59afd892",
   "metadata": {
    "execution": {
     "iopub.execute_input": "2023-05-03T18:33:33.414886Z",
     "iopub.status.busy": "2023-05-03T18:33:33.413886Z",
     "iopub.status.idle": "2023-05-03T18:33:33.538989Z",
     "shell.execute_reply": "2023-05-03T18:33:33.538989Z"
    },
    "papermill": {
     "duration": 0.137114,
     "end_time": "2023-05-03T18:33:33.542993",
     "exception": false,
     "start_time": "2023-05-03T18:33:33.405879",
     "status": "completed"
    },
    "tags": []
   },
   "outputs": [],
   "source": [
    "par = basemodel.par"
   ]
  },
  {
   "cell_type": "code",
   "execution_count": 6,
   "id": "7794c99a",
   "metadata": {
    "execution": {
     "iopub.execute_input": "2023-05-03T18:33:33.564055Z",
     "iopub.status.busy": "2023-05-03T18:33:33.563055Z",
     "iopub.status.idle": "2023-05-03T18:33:33.696120Z",
     "shell.execute_reply": "2023-05-03T18:33:33.695118Z"
    },
    "papermill": {
     "duration": 0.144074,
     "end_time": "2023-05-03T18:33:33.699122",
     "exception": false,
     "start_time": "2023-05-03T18:33:33.555048",
     "status": "completed"
    },
    "tags": []
   },
   "outputs": [],
   "source": [
    "model_specs = {\n",
    "\n",
    "    # wages\n",
    "    'eta_e_low':{'pardict':{'eta_e':0.10}},\n",
    "    'eta_e_mid':{'pardict':{'eta_e':0.50}},\n",
    "    'eta_e_high':{'pardict':{'eta_e':1.00}},\n",
    "\n",
    "    # NK\n",
    "    'phi':{'pardict':{'phi':par.phi*0.5}},\n",
    "    'delta_pi':{'pardict':{'delta_pi':par.delta_pi+0.2}},\n",
    "    'omega':{'pardict':{'omega':par.omega+0.10}},\n",
    "    \n",
    "}"
   ]
  },
  {
   "cell_type": "markdown",
   "id": "850ed195",
   "metadata": {
    "papermill": {
     "duration": 0.006008,
     "end_time": "2023-05-03T18:33:33.719188",
     "exception": false,
     "start_time": "2023-05-03T18:33:33.713180",
     "status": "completed"
    },
    "tags": []
   },
   "source": [
    "## 3. <a id='toc3_'></a>[Calibrations](#toc0_)"
   ]
  },
  {
   "cell_type": "code",
   "execution_count": 7,
   "id": "ceb406cf",
   "metadata": {
    "execution": {
     "iopub.execute_input": "2023-05-03T18:33:33.731192Z",
     "iopub.status.busy": "2023-05-03T18:33:33.730194Z",
     "iopub.status.idle": "2023-05-03T18:33:55.401066Z",
     "shell.execute_reply": "2023-05-03T18:33:55.400065Z"
    },
    "papermill": {
     "duration": 21.683885,
     "end_time": "2023-05-03T18:33:55.408072",
     "exception": false,
     "start_time": "2023-05-03T18:33:33.724187",
     "status": "completed"
    },
    "tags": []
   },
   "outputs": [
    {
     "name": "stdout",
     "output_type": "stream",
     "text": [
      "### eta_e_low ###\n"
     ]
    },
    {
     "name": "stdout",
     "output_type": "stream",
     "text": [
      "### eta_e_mid ###\n"
     ]
    },
    {
     "name": "stdout",
     "output_type": "stream",
     "text": [
      "### eta_e_high ###\n"
     ]
    },
    {
     "name": "stdout",
     "output_type": "stream",
     "text": [
      "### phi ###\n"
     ]
    },
    {
     "name": "stdout",
     "output_type": "stream",
     "text": [
      "### delta_pi ###\n"
     ]
    },
    {
     "name": "stdout",
     "output_type": "stream",
     "text": [
      "### omega ###\n"
     ]
    }
   ],
   "source": [
    "if not LOAD:\n",
    "    policy.create_models(basemodel,model_specs)"
   ]
  },
  {
   "cell_type": "code",
   "execution_count": 8,
   "id": "df148597",
   "metadata": {
    "execution": {
     "iopub.execute_input": "2023-05-03T18:33:55.431092Z",
     "iopub.status.busy": "2023-05-03T18:33:55.430090Z",
     "iopub.status.idle": "2023-05-03T18:33:55.549188Z",
     "shell.execute_reply": "2023-05-03T18:33:55.549188Z"
    },
    "papermill": {
     "duration": 0.130108,
     "end_time": "2023-05-03T18:33:55.553192",
     "exception": false,
     "start_time": "2023-05-03T18:33:55.423084",
     "status": "completed"
    },
    "tags": []
   },
   "outputs": [],
   "source": [
    "model_names = ['baseline'] + [name for name in model_specs.keys()]"
   ]
  },
  {
   "cell_type": "code",
   "execution_count": 9,
   "id": "59dfffdf",
   "metadata": {
    "execution": {
     "iopub.execute_input": "2023-05-03T18:33:55.575210Z",
     "iopub.status.busy": "2023-05-03T18:33:55.574255Z",
     "iopub.status.idle": "2023-05-03T19:14:40.372539Z",
     "shell.execute_reply": "2023-05-03T19:14:40.372539Z"
    },
    "papermill": {
     "duration": 2444.825394,
     "end_time": "2023-05-03T19:14:40.390596",
     "exception": false,
     "start_time": "2023-05-03T18:33:55.565202",
     "status": "completed"
    },
    "tags": []
   },
   "outputs": [
    {
     "name": "stdout",
     "output_type": "stream",
     "text": [
      "### baseline ###\n",
      "\n"
     ]
    },
    {
     "name": "stdout",
     "output_type": "stream",
     "text": [
      "full run"
     ]
    },
    {
     "name": "stdout",
     "output_type": "stream",
     "text": [
      " [var_u_G] "
     ]
    },
    {
     "name": "stdout",
     "output_type": "stream",
     "text": [
      "\n",
      "basepol = 'G'"
     ]
    },
    {
     "name": "stdout",
     "output_type": "stream",
     "text": [
      "\n",
      " hh_transfer"
     ]
    },
    {
     "name": "stdout",
     "output_type": "stream",
     "text": [
      "\n"
     ]
    },
    {
     "name": "stdout",
     "output_type": "stream",
     "text": [
      " retention_subsidy"
     ]
    },
    {
     "name": "stdout",
     "output_type": "stream",
     "text": [
      "\n"
     ]
    },
    {
     "name": "stdout",
     "output_type": "stream",
     "text": [
      " hiring_subsidy"
     ]
    },
    {
     "name": "stdout",
     "output_type": "stream",
     "text": [
      "\n"
     ]
    },
    {
     "name": "stdout",
     "output_type": "stream",
     "text": [
      " phi_obar"
     ]
    },
    {
     "name": "stdout",
     "output_type": "stream",
     "text": [
      "\n"
     ]
    },
    {
     "name": "stdout",
     "output_type": "stream",
     "text": [
      " u_bar"
     ]
    },
    {
     "name": "stdout",
     "output_type": "stream",
     "text": [
      "\n"
     ]
    },
    {
     "name": "stdout",
     "output_type": "stream",
     "text": [
      "\n",
      "### eta_e_low ###\n",
      "\n"
     ]
    },
    {
     "name": "stdout",
     "output_type": "stream",
     "text": [
      "full run"
     ]
    },
    {
     "name": "stdout",
     "output_type": "stream",
     "text": [
      " [var_u_G] "
     ]
    },
    {
     "name": "stdout",
     "output_type": "stream",
     "text": [
      "\n",
      "basepol = 'G'"
     ]
    },
    {
     "name": "stdout",
     "output_type": "stream",
     "text": [
      "\n",
      " hh_transfer"
     ]
    },
    {
     "name": "stdout",
     "output_type": "stream",
     "text": [
      "\n",
      " retention_subsidy"
     ]
    },
    {
     "name": "stdout",
     "output_type": "stream",
     "text": [
      "\n",
      " hiring_subsidy"
     ]
    },
    {
     "name": "stdout",
     "output_type": "stream",
     "text": [
      "\n"
     ]
    },
    {
     "name": "stdout",
     "output_type": "stream",
     "text": [
      " phi_obar"
     ]
    },
    {
     "name": "stdout",
     "output_type": "stream",
     "text": [
      "\n"
     ]
    },
    {
     "name": "stdout",
     "output_type": "stream",
     "text": [
      " u_bar"
     ]
    },
    {
     "name": "stdout",
     "output_type": "stream",
     "text": [
      "\n"
     ]
    },
    {
     "name": "stdout",
     "output_type": "stream",
     "text": [
      "\n",
      "### eta_e_mid ###\n",
      "\n"
     ]
    },
    {
     "name": "stdout",
     "output_type": "stream",
     "text": [
      "full run"
     ]
    },
    {
     "name": "stdout",
     "output_type": "stream",
     "text": [
      " [var_u_G] "
     ]
    },
    {
     "name": "stdout",
     "output_type": "stream",
     "text": [
      "\n",
      "basepol = 'G'"
     ]
    },
    {
     "name": "stdout",
     "output_type": "stream",
     "text": [
      "\n",
      " hh_transfer"
     ]
    },
    {
     "name": "stdout",
     "output_type": "stream",
     "text": [
      "\n"
     ]
    },
    {
     "name": "stdout",
     "output_type": "stream",
     "text": [
      " retention_subsidy"
     ]
    },
    {
     "name": "stdout",
     "output_type": "stream",
     "text": [
      "\n"
     ]
    },
    {
     "name": "stdout",
     "output_type": "stream",
     "text": [
      " hiring_subsidy"
     ]
    },
    {
     "name": "stdout",
     "output_type": "stream",
     "text": [
      "\n"
     ]
    },
    {
     "name": "stdout",
     "output_type": "stream",
     "text": [
      " phi_obar"
     ]
    },
    {
     "name": "stdout",
     "output_type": "stream",
     "text": [
      "\n"
     ]
    },
    {
     "name": "stdout",
     "output_type": "stream",
     "text": [
      " u_bar"
     ]
    },
    {
     "name": "stdout",
     "output_type": "stream",
     "text": [
      "\n"
     ]
    },
    {
     "name": "stdout",
     "output_type": "stream",
     "text": [
      "\n",
      "### eta_e_high ###\n",
      "\n"
     ]
    },
    {
     "name": "stdout",
     "output_type": "stream",
     "text": [
      "full run"
     ]
    },
    {
     "name": "stdout",
     "output_type": "stream",
     "text": [
      " [var_u_G] "
     ]
    },
    {
     "name": "stdout",
     "output_type": "stream",
     "text": [
      "\n",
      "basepol = 'G'"
     ]
    },
    {
     "name": "stdout",
     "output_type": "stream",
     "text": [
      "\n",
      " hh_transfer"
     ]
    },
    {
     "name": "stdout",
     "output_type": "stream",
     "text": [
      "\n"
     ]
    },
    {
     "name": "stdout",
     "output_type": "stream",
     "text": [
      " retention_subsidy"
     ]
    },
    {
     "name": "stdout",
     "output_type": "stream",
     "text": [
      "\n"
     ]
    },
    {
     "name": "stdout",
     "output_type": "stream",
     "text": [
      " hiring_subsidy"
     ]
    },
    {
     "name": "stdout",
     "output_type": "stream",
     "text": [
      "\n"
     ]
    },
    {
     "name": "stdout",
     "output_type": "stream",
     "text": [
      " phi_obar"
     ]
    },
    {
     "name": "stdout",
     "output_type": "stream",
     "text": [
      "\n",
      " u_bar"
     ]
    },
    {
     "name": "stdout",
     "output_type": "stream",
     "text": [
      "\n"
     ]
    },
    {
     "name": "stdout",
     "output_type": "stream",
     "text": [
      "\n",
      "### phi ###\n",
      "\n"
     ]
    },
    {
     "name": "stdout",
     "output_type": "stream",
     "text": [
      "full run"
     ]
    },
    {
     "name": "stdout",
     "output_type": "stream",
     "text": [
      " [var_u_G] "
     ]
    },
    {
     "name": "stdout",
     "output_type": "stream",
     "text": [
      "\n",
      "basepol = 'G'"
     ]
    },
    {
     "name": "stdout",
     "output_type": "stream",
     "text": [
      "\n",
      " hh_transfer"
     ]
    },
    {
     "name": "stdout",
     "output_type": "stream",
     "text": [
      "\n"
     ]
    },
    {
     "name": "stdout",
     "output_type": "stream",
     "text": [
      " retention_subsidy"
     ]
    },
    {
     "name": "stdout",
     "output_type": "stream",
     "text": [
      "\n",
      " hiring_subsidy"
     ]
    },
    {
     "name": "stdout",
     "output_type": "stream",
     "text": [
      "\n"
     ]
    },
    {
     "name": "stdout",
     "output_type": "stream",
     "text": [
      " phi_obar"
     ]
    },
    {
     "name": "stdout",
     "output_type": "stream",
     "text": [
      "\n"
     ]
    },
    {
     "name": "stdout",
     "output_type": "stream",
     "text": [
      " u_bar"
     ]
    },
    {
     "name": "stdout",
     "output_type": "stream",
     "text": [
      "\n"
     ]
    },
    {
     "name": "stdout",
     "output_type": "stream",
     "text": [
      "\n",
      "### delta_pi ###\n",
      "\n"
     ]
    },
    {
     "name": "stdout",
     "output_type": "stream",
     "text": [
      "full run"
     ]
    },
    {
     "name": "stdout",
     "output_type": "stream",
     "text": [
      " [var_u_G] "
     ]
    },
    {
     "name": "stdout",
     "output_type": "stream",
     "text": [
      "\n",
      "basepol = 'G'"
     ]
    },
    {
     "name": "stdout",
     "output_type": "stream",
     "text": [
      "\n",
      " hh_transfer"
     ]
    },
    {
     "name": "stdout",
     "output_type": "stream",
     "text": [
      "\n"
     ]
    },
    {
     "name": "stdout",
     "output_type": "stream",
     "text": [
      " retention_subsidy"
     ]
    },
    {
     "name": "stdout",
     "output_type": "stream",
     "text": [
      "\n"
     ]
    },
    {
     "name": "stdout",
     "output_type": "stream",
     "text": [
      " hiring_subsidy"
     ]
    },
    {
     "name": "stdout",
     "output_type": "stream",
     "text": [
      "\n"
     ]
    },
    {
     "name": "stdout",
     "output_type": "stream",
     "text": [
      " phi_obar"
     ]
    },
    {
     "name": "stdout",
     "output_type": "stream",
     "text": [
      "\n"
     ]
    },
    {
     "name": "stdout",
     "output_type": "stream",
     "text": [
      " u_bar"
     ]
    },
    {
     "name": "stdout",
     "output_type": "stream",
     "text": [
      "\n"
     ]
    },
    {
     "name": "stdout",
     "output_type": "stream",
     "text": [
      "\n",
      "### omega ###\n",
      "\n"
     ]
    },
    {
     "name": "stdout",
     "output_type": "stream",
     "text": [
      "full run"
     ]
    },
    {
     "name": "stdout",
     "output_type": "stream",
     "text": [
      " [var_u_G] "
     ]
    },
    {
     "name": "stdout",
     "output_type": "stream",
     "text": [
      "\n",
      "basepol = 'G'"
     ]
    },
    {
     "name": "stdout",
     "output_type": "stream",
     "text": [
      "\n",
      " hh_transfer"
     ]
    },
    {
     "name": "stdout",
     "output_type": "stream",
     "text": [
      "\n"
     ]
    },
    {
     "name": "stdout",
     "output_type": "stream",
     "text": [
      " retention_subsidy"
     ]
    },
    {
     "name": "stdout",
     "output_type": "stream",
     "text": [
      "\n"
     ]
    },
    {
     "name": "stdout",
     "output_type": "stream",
     "text": [
      " hiring_subsidy"
     ]
    },
    {
     "name": "stdout",
     "output_type": "stream",
     "text": [
      "\n"
     ]
    },
    {
     "name": "stdout",
     "output_type": "stream",
     "text": [
      " phi_obar"
     ]
    },
    {
     "name": "stdout",
     "output_type": "stream",
     "text": [
      "\n",
      " u_bar"
     ]
    },
    {
     "name": "stdout",
     "output_type": "stream",
     "text": [
      "\n"
     ]
    },
    {
     "name": "stdout",
     "output_type": "stream",
     "text": [
      "\n"
     ]
    }
   ],
   "source": [
    "if not LOAD:\n",
    "    policy.run_all(basemodel,model_names,pols)"
   ]
  },
  {
   "cell_type": "code",
   "execution_count": 10,
   "id": "f3c6a840",
   "metadata": {
    "execution": {
     "iopub.execute_input": "2023-05-03T19:14:40.422581Z",
     "iopub.status.busy": "2023-05-03T19:14:40.421579Z",
     "iopub.status.idle": "2023-05-03T19:14:40.612737Z",
     "shell.execute_reply": "2023-05-03T19:14:40.611736Z"
    },
    "papermill": {
     "duration": 0.207128,
     "end_time": "2023-05-03T19:14:40.615740",
     "exception": false,
     "start_time": "2023-05-03T19:14:40.408612",
     "status": "completed"
    },
    "tags": []
   },
   "outputs": [
    {
     "data": {
      "text/html": [
       "<div>\n",
       "<style scoped>\n",
       "    .dataframe tbody tr th:only-of-type {\n",
       "        vertical-align: middle;\n",
       "    }\n",
       "\n",
       "    .dataframe tbody tr th {\n",
       "        vertical-align: top;\n",
       "    }\n",
       "\n",
       "    .dataframe thead th {\n",
       "        text-align: right;\n",
       "    }\n",
       "</style>\n",
       "<table border=\"1\" class=\"dataframe\">\n",
       "  <thead>\n",
       "    <tr style=\"text-align: right;\">\n",
       "      <th></th>\n",
       "      <th></th>\n",
       "      <th>MPC (qtr.)</th>\n",
       "      <th>C. drop in unemployment</th>\n",
       "      <th>Relative C. drop at UI exit</th>\n",
       "      <th>Share of EU</th>\n",
       "      <th>Time-shift</th>\n",
       "      <th>A_hh</th>\n",
       "      <th>TFP</th>\n",
       "    </tr>\n",
       "  </thead>\n",
       "  <tbody>\n",
       "    <tr>\n",
       "      <th>0</th>\n",
       "      <td>baseline</td>\n",
       "      <td>40.65</td>\n",
       "      <td>-19.95</td>\n",
       "      <td>-43.08</td>\n",
       "      <td>45.01</td>\n",
       "      <td>9.00</td>\n",
       "      <td>1.00</td>\n",
       "      <td>0.8718</td>\n",
       "    </tr>\n",
       "    <tr>\n",
       "      <th>1</th>\n",
       "      <td>eta_e_low</td>\n",
       "      <td>40.65</td>\n",
       "      <td>-19.95</td>\n",
       "      <td>-43.08</td>\n",
       "      <td>45.23</td>\n",
       "      <td>9.00</td>\n",
       "      <td>1.00</td>\n",
       "      <td>0.7670</td>\n",
       "    </tr>\n",
       "    <tr>\n",
       "      <th>2</th>\n",
       "      <td>eta_e_mid</td>\n",
       "      <td>40.65</td>\n",
       "      <td>-19.95</td>\n",
       "      <td>-43.08</td>\n",
       "      <td>45.91</td>\n",
       "      <td>9.00</td>\n",
       "      <td>1.00</td>\n",
       "      <td>0.4939</td>\n",
       "    </tr>\n",
       "    <tr>\n",
       "      <th>3</th>\n",
       "      <td>eta_e_high</td>\n",
       "      <td>40.65</td>\n",
       "      <td>-19.95</td>\n",
       "      <td>-43.08</td>\n",
       "      <td>46.50</td>\n",
       "      <td>9.00</td>\n",
       "      <td>1.00</td>\n",
       "      <td>0.3189</td>\n",
       "    </tr>\n",
       "    <tr>\n",
       "      <th>4</th>\n",
       "      <td>phi</td>\n",
       "      <td>40.65</td>\n",
       "      <td>-19.95</td>\n",
       "      <td>-43.08</td>\n",
       "      <td>39.55</td>\n",
       "      <td>12.00</td>\n",
       "      <td>1.00</td>\n",
       "      <td>3.5003</td>\n",
       "    </tr>\n",
       "    <tr>\n",
       "      <th>5</th>\n",
       "      <td>delta_pi</td>\n",
       "      <td>40.65</td>\n",
       "      <td>-19.95</td>\n",
       "      <td>-43.08</td>\n",
       "      <td>42.77</td>\n",
       "      <td>9.00</td>\n",
       "      <td>1.00</td>\n",
       "      <td>1.9813</td>\n",
       "    </tr>\n",
       "    <tr>\n",
       "      <th>6</th>\n",
       "      <td>omega</td>\n",
       "      <td>40.65</td>\n",
       "      <td>-19.95</td>\n",
       "      <td>-43.08</td>\n",
       "      <td>43.77</td>\n",
       "      <td>11.00</td>\n",
       "      <td>1.00</td>\n",
       "      <td>1.0034</td>\n",
       "    </tr>\n",
       "  </tbody>\n",
       "</table>\n",
       "</div>"
      ],
      "text/plain": [
       "              MPC (qtr.) C. drop in unemployment Relative C. drop at UI exit  \\\n",
       "0    baseline      40.65                  -19.95                      -43.08   \n",
       "1   eta_e_low      40.65                  -19.95                      -43.08   \n",
       "2   eta_e_mid      40.65                  -19.95                      -43.08   \n",
       "3  eta_e_high      40.65                  -19.95                      -43.08   \n",
       "4         phi      40.65                  -19.95                      -43.08   \n",
       "5    delta_pi      40.65                  -19.95                      -43.08   \n",
       "6       omega      40.65                  -19.95                      -43.08   \n",
       "\n",
       "  Share of EU Time-shift  A_hh     TFP  \n",
       "0       45.01       9.00  1.00  0.8718  \n",
       "1       45.23       9.00  1.00  0.7670  \n",
       "2       45.91       9.00  1.00  0.4939  \n",
       "3       46.50       9.00  1.00  0.3189  \n",
       "4       39.55      12.00  1.00  3.5003  \n",
       "5       42.77       9.00  1.00  1.9813  \n",
       "6       43.77      11.00  1.00  1.0034  "
      ]
     },
     "metadata": {},
     "output_type": "display_data"
    }
   ],
   "source": [
    "models_all = policy.load_models(model_names)\n",
    "df = policy.moms(models_all)"
   ]
  },
  {
   "cell_type": "markdown",
   "id": "9f47dffa",
   "metadata": {
    "papermill": {
     "duration": 0.010007,
     "end_time": "2023-05-03T19:14:40.644808",
     "exception": false,
     "start_time": "2023-05-03T19:14:40.634801",
     "status": "completed"
    },
    "tags": []
   },
   "source": [
    "## 4. <a id='toc4_'></a>[Fiscal multiplier](#toc0_)"
   ]
  },
  {
   "cell_type": "code",
   "execution_count": 11,
   "id": "460348bb",
   "metadata": {
    "execution": {
     "iopub.execute_input": "2023-05-03T19:14:40.665782Z",
     "iopub.status.busy": "2023-05-03T19:14:40.664781Z",
     "iopub.status.idle": "2023-05-03T19:14:41.008065Z",
     "shell.execute_reply": "2023-05-03T19:14:41.008065Z"
    },
    "papermill": {
     "duration": 0.358251,
     "end_time": "2023-05-03T19:14:41.012068",
     "exception": false,
     "start_time": "2023-05-03T19:14:40.653817",
     "status": "completed"
    },
    "tags": []
   },
   "outputs": [
    {
     "data": {
      "text/html": [
       "<div>\n",
       "<style scoped>\n",
       "    .dataframe tbody tr th:only-of-type {\n",
       "        vertical-align: middle;\n",
       "    }\n",
       "\n",
       "    .dataframe tbody tr th {\n",
       "        vertical-align: top;\n",
       "    }\n",
       "\n",
       "    .dataframe thead th {\n",
       "        text-align: right;\n",
       "    }\n",
       "</style>\n",
       "<table border=\"1\" class=\"dataframe\">\n",
       "  <thead>\n",
       "    <tr style=\"text-align: right;\">\n",
       "      <th></th>\n",
       "      <th></th>\n",
       "      <th>G</th>\n",
       "      <th>transfer</th>\n",
       "      <th>retention</th>\n",
       "      <th>hiring</th>\n",
       "      <th>UI level</th>\n",
       "      <th>UI duration</th>\n",
       "    </tr>\n",
       "  </thead>\n",
       "  <tbody>\n",
       "    <tr>\n",
       "      <th>0</th>\n",
       "      <td>baseline</td>\n",
       "      <td>0.60</td>\n",
       "      <td>0.11</td>\n",
       "      <td>1.02</td>\n",
       "      <td>0.70</td>\n",
       "      <td>0.25</td>\n",
       "      <td>0.60</td>\n",
       "    </tr>\n",
       "    <tr>\n",
       "      <th>1</th>\n",
       "      <td>eta_e_low</td>\n",
       "      <td>0.57</td>\n",
       "      <td>0.11</td>\n",
       "      <td>0.96</td>\n",
       "      <td>0.66</td>\n",
       "      <td>0.24</td>\n",
       "      <td>0.57</td>\n",
       "    </tr>\n",
       "    <tr>\n",
       "      <th>2</th>\n",
       "      <td>eta_e_mid</td>\n",
       "      <td>0.48</td>\n",
       "      <td>0.09</td>\n",
       "      <td>0.79</td>\n",
       "      <td>0.55</td>\n",
       "      <td>0.20</td>\n",
       "      <td>0.48</td>\n",
       "    </tr>\n",
       "    <tr>\n",
       "      <th>3</th>\n",
       "      <td>eta_e_high</td>\n",
       "      <td>0.40</td>\n",
       "      <td>0.08</td>\n",
       "      <td>0.65</td>\n",
       "      <td>0.46</td>\n",
       "      <td>0.17</td>\n",
       "      <td>0.40</td>\n",
       "    </tr>\n",
       "    <tr>\n",
       "      <th>4</th>\n",
       "      <td>phi</td>\n",
       "      <td>0.34</td>\n",
       "      <td>0.07</td>\n",
       "      <td>1.02</td>\n",
       "      <td>0.72</td>\n",
       "      <td>0.15</td>\n",
       "      <td>0.35</td>\n",
       "    </tr>\n",
       "    <tr>\n",
       "      <th>5</th>\n",
       "      <td>delta_pi</td>\n",
       "      <td>0.48</td>\n",
       "      <td>0.09</td>\n",
       "      <td>1.06</td>\n",
       "      <td>0.73</td>\n",
       "      <td>0.20</td>\n",
       "      <td>0.48</td>\n",
       "    </tr>\n",
       "    <tr>\n",
       "      <th>6</th>\n",
       "      <td>omega</td>\n",
       "      <td>0.52</td>\n",
       "      <td>0.07</td>\n",
       "      <td>0.92</td>\n",
       "      <td>0.62</td>\n",
       "      <td>0.20</td>\n",
       "      <td>0.54</td>\n",
       "    </tr>\n",
       "  </tbody>\n",
       "</table>\n",
       "</div>"
      ],
      "text/plain": [
       "                  G transfer retention hiring UI level UI duration\n",
       "0    baseline  0.60     0.11      1.02   0.70     0.25        0.60\n",
       "1   eta_e_low  0.57     0.11      0.96   0.66     0.24        0.57\n",
       "2   eta_e_mid  0.48     0.09      0.79   0.55     0.20        0.48\n",
       "3  eta_e_high  0.40     0.08      0.65   0.46     0.17        0.40\n",
       "4         phi  0.34     0.07      1.02   0.72     0.15        0.35\n",
       "5    delta_pi  0.48     0.09      1.06   0.73     0.20        0.48\n",
       "6       omega  0.52     0.07      0.92   0.62     0.20        0.54"
      ]
     },
     "metadata": {},
     "output_type": "display_data"
    }
   ],
   "source": [
    "pol_models_all = policy.load_pol_models(model_names,pols)\n",
    "df = policy.fiscal_multipliers(pol_models_all)"
   ]
  },
  {
   "cell_type": "code",
   "execution_count": 12,
   "id": "757c168b",
   "metadata": {
    "execution": {
     "iopub.execute_input": "2023-05-03T19:14:41.046159Z",
     "iopub.status.busy": "2023-05-03T19:14:41.045138Z",
     "iopub.status.idle": "2023-05-03T19:14:41.182209Z",
     "shell.execute_reply": "2023-05-03T19:14:41.181208Z"
    },
    "papermill": {
     "duration": 0.152124,
     "end_time": "2023-05-03T19:14:41.185212",
     "exception": false,
     "start_time": "2023-05-03T19:14:41.033088",
     "status": "completed"
    },
    "tags": []
   },
   "outputs": [
    {
     "data": {
      "text/html": [
       "<div>\n",
       "<style scoped>\n",
       "    .dataframe tbody tr th:only-of-type {\n",
       "        vertical-align: middle;\n",
       "    }\n",
       "\n",
       "    .dataframe tbody tr th {\n",
       "        vertical-align: top;\n",
       "    }\n",
       "\n",
       "    .dataframe thead th {\n",
       "        text-align: right;\n",
       "    }\n",
       "</style>\n",
       "<table border=\"1\" class=\"dataframe\">\n",
       "  <thead>\n",
       "    <tr style=\"text-align: right;\">\n",
       "      <th></th>\n",
       "      <th></th>\n",
       "      <th>G</th>\n",
       "      <th>transfer</th>\n",
       "      <th>retention</th>\n",
       "      <th>hiring</th>\n",
       "      <th>UI level</th>\n",
       "      <th>UI duration</th>\n",
       "    </tr>\n",
       "  </thead>\n",
       "  <tbody>\n",
       "    <tr>\n",
       "      <th>0</th>\n",
       "      <td>baseline</td>\n",
       "      <td>1.00</td>\n",
       "      <td>0.19</td>\n",
       "      <td>1.72</td>\n",
       "      <td>1.17</td>\n",
       "      <td>0.41</td>\n",
       "      <td>1.00</td>\n",
       "    </tr>\n",
       "    <tr>\n",
       "      <th>1</th>\n",
       "      <td>eta_e_low</td>\n",
       "      <td>1.00</td>\n",
       "      <td>0.19</td>\n",
       "      <td>1.70</td>\n",
       "      <td>1.17</td>\n",
       "      <td>0.42</td>\n",
       "      <td>1.00</td>\n",
       "    </tr>\n",
       "    <tr>\n",
       "      <th>2</th>\n",
       "      <td>eta_e_mid</td>\n",
       "      <td>1.00</td>\n",
       "      <td>0.20</td>\n",
       "      <td>1.66</td>\n",
       "      <td>1.16</td>\n",
       "      <td>0.42</td>\n",
       "      <td>1.00</td>\n",
       "    </tr>\n",
       "    <tr>\n",
       "      <th>3</th>\n",
       "      <td>eta_e_high</td>\n",
       "      <td>1.00</td>\n",
       "      <td>0.20</td>\n",
       "      <td>1.62</td>\n",
       "      <td>1.15</td>\n",
       "      <td>0.43</td>\n",
       "      <td>1.00</td>\n",
       "    </tr>\n",
       "    <tr>\n",
       "      <th>4</th>\n",
       "      <td>phi</td>\n",
       "      <td>1.00</td>\n",
       "      <td>0.21</td>\n",
       "      <td>2.94</td>\n",
       "      <td>2.10</td>\n",
       "      <td>0.44</td>\n",
       "      <td>1.00</td>\n",
       "    </tr>\n",
       "    <tr>\n",
       "      <th>5</th>\n",
       "      <td>delta_pi</td>\n",
       "      <td>1.00</td>\n",
       "      <td>0.20</td>\n",
       "      <td>2.21</td>\n",
       "      <td>1.53</td>\n",
       "      <td>0.42</td>\n",
       "      <td>1.00</td>\n",
       "    </tr>\n",
       "    <tr>\n",
       "      <th>6</th>\n",
       "      <td>omega</td>\n",
       "      <td>1.00</td>\n",
       "      <td>0.13</td>\n",
       "      <td>1.75</td>\n",
       "      <td>1.18</td>\n",
       "      <td>0.39</td>\n",
       "      <td>1.03</td>\n",
       "    </tr>\n",
       "  </tbody>\n",
       "</table>\n",
       "</div>"
      ],
      "text/plain": [
       "                  G transfer retention hiring UI level UI duration\n",
       "0    baseline  1.00     0.19      1.72   1.17     0.41        1.00\n",
       "1   eta_e_low  1.00     0.19      1.70   1.17     0.42        1.00\n",
       "2   eta_e_mid  1.00     0.20      1.66   1.16     0.42        1.00\n",
       "3  eta_e_high  1.00     0.20      1.62   1.15     0.43        1.00\n",
       "4         phi  1.00     0.21      2.94   2.10     0.44        1.00\n",
       "5    delta_pi  1.00     0.20      2.21   1.53     0.42        1.00\n",
       "6       omega  1.00     0.13      1.75   1.18     0.39        1.03"
      ]
     },
     "metadata": {},
     "output_type": "display_data"
    }
   ],
   "source": [
    "df = policy.fiscal_multipliers(pol_models_all,do_rel=True)"
   ]
  },
  {
   "cell_type": "code",
   "execution_count": 13,
   "id": "44375f0d",
   "metadata": {
    "execution": {
     "iopub.execute_input": "2023-05-03T19:14:41.227292Z",
     "iopub.status.busy": "2023-05-03T19:14:41.226289Z",
     "iopub.status.idle": "2023-05-03T19:14:41.353351Z",
     "shell.execute_reply": "2023-05-03T19:14:41.352350Z"
    },
    "papermill": {
     "duration": 0.150122,
     "end_time": "2023-05-03T19:14:41.356353",
     "exception": false,
     "start_time": "2023-05-03T19:14:41.206231",
     "status": "completed"
    },
    "tags": []
   },
   "outputs": [
    {
     "data": {
      "text/html": [
       "<div>\n",
       "<style scoped>\n",
       "    .dataframe tbody tr th:only-of-type {\n",
       "        vertical-align: middle;\n",
       "    }\n",
       "\n",
       "    .dataframe tbody tr th {\n",
       "        vertical-align: top;\n",
       "    }\n",
       "\n",
       "    .dataframe thead th {\n",
       "        text-align: right;\n",
       "    }\n",
       "</style>\n",
       "<table border=\"1\" class=\"dataframe\">\n",
       "  <thead>\n",
       "    <tr style=\"text-align: right;\">\n",
       "      <th></th>\n",
       "      <th></th>\n",
       "      <th>TFP</th>\n",
       "      <th>G</th>\n",
       "    </tr>\n",
       "  </thead>\n",
       "  <tbody>\n",
       "    <tr>\n",
       "      <th>0</th>\n",
       "      <td>baseline</td>\n",
       "      <td>0.8718</td>\n",
       "      <td>0.0421</td>\n",
       "    </tr>\n",
       "    <tr>\n",
       "      <th>1</th>\n",
       "      <td>eta_e_low</td>\n",
       "      <td>0.7670</td>\n",
       "      <td>0.0394</td>\n",
       "    </tr>\n",
       "    <tr>\n",
       "      <th>2</th>\n",
       "      <td>eta_e_mid</td>\n",
       "      <td>0.4939</td>\n",
       "      <td>0.0310</td>\n",
       "    </tr>\n",
       "    <tr>\n",
       "      <th>3</th>\n",
       "      <td>eta_e_high</td>\n",
       "      <td>0.3189</td>\n",
       "      <td>0.0240</td>\n",
       "    </tr>\n",
       "    <tr>\n",
       "      <th>4</th>\n",
       "      <td>phi</td>\n",
       "      <td>3.5003</td>\n",
       "      <td>0.0177</td>\n",
       "    </tr>\n",
       "    <tr>\n",
       "      <th>5</th>\n",
       "      <td>delta_pi</td>\n",
       "      <td>1.9813</td>\n",
       "      <td>0.0306</td>\n",
       "    </tr>\n",
       "    <tr>\n",
       "      <th>6</th>\n",
       "      <td>omega</td>\n",
       "      <td>1.0034</td>\n",
       "      <td>0.0326</td>\n",
       "    </tr>\n",
       "  </tbody>\n",
       "</table>\n",
       "</div>"
      ],
      "text/plain": [
       "                  TFP       G\n",
       "0    baseline  0.8718  0.0421\n",
       "1   eta_e_low  0.7670  0.0394\n",
       "2   eta_e_mid  0.4939  0.0310\n",
       "3  eta_e_high  0.3189  0.0240\n",
       "4         phi  3.5003  0.0177\n",
       "5    delta_pi  1.9813  0.0306\n",
       "6       omega  1.0034  0.0326"
      ]
     },
     "metadata": {},
     "output_type": "display_data"
    }
   ],
   "source": [
    "df = policy.moms(models_all,momnames=['var_u','var_u_G'])"
   ]
  },
  {
   "cell_type": "markdown",
   "id": "c511947e",
   "metadata": {
    "papermill": {
     "duration": 0.010964,
     "end_time": "2023-05-03T19:14:41.386381",
     "exception": false,
     "start_time": "2023-05-03T19:14:41.375417",
     "status": "completed"
    },
    "tags": []
   },
   "source": [
    "## 5. <a id='toc5_'></a>[Slides](#toc0_)"
   ]
  },
  {
   "cell_type": "code",
   "execution_count": 14,
   "id": "90ead814",
   "metadata": {
    "execution": {
     "iopub.execute_input": "2023-05-03T19:14:41.407441Z",
     "iopub.status.busy": "2023-05-03T19:14:41.407441Z",
     "iopub.status.idle": "2023-05-03T19:14:41.529497Z",
     "shell.execute_reply": "2023-05-03T19:14:41.528496Z"
    },
    "papermill": {
     "duration": 0.13707,
     "end_time": "2023-05-03T19:14:41.532499",
     "exception": false,
     "start_time": "2023-05-03T19:14:41.395429",
     "status": "completed"
    },
    "tags": []
   },
   "outputs": [],
   "source": [
    "phi = model_specs['phi']['pardict']['phi']\n",
    "delta_pi = model_specs['delta_pi']['pardict']['delta_pi']\n",
    "omega = model_specs['omega']['pardict']['omega']\n",
    "\n",
    "model_labels = {\n",
    "    'baseline':'baseline',\n",
    "    'phi':f'$\\\\phi = {phi}$',\n",
    "    'delta_pi':f'$\\\\delta_{{\\\\pi}} = {delta_pi}$',\n",
    "    'omega':f'$\\\\omega = {omega}$',\n",
    "    'eta_e_low':'$\\\\eta_e = 0.10$',\n",
    "    'eta_e_mid':'$\\\\eta_e = 0.50$',\n",
    "    'eta_e_high':'$\\\\eta_e = 1.00$',\n",
    "}"
   ]
  },
  {
   "cell_type": "code",
   "execution_count": 15,
   "id": "7d477a42",
   "metadata": {
    "execution": {
     "iopub.execute_input": "2023-05-03T19:14:41.564567Z",
     "iopub.status.busy": "2023-05-03T19:14:41.564567Z",
     "iopub.status.idle": "2023-05-03T19:14:41.994882Z",
     "shell.execute_reply": "2023-05-03T19:14:41.993881Z"
    },
    "papermill": {
     "duration": 0.446367,
     "end_time": "2023-05-03T19:14:41.998885",
     "exception": false,
     "start_time": "2023-05-03T19:14:41.552518",
     "status": "completed"
    },
    "tags": []
   },
   "outputs": [
    {
     "data": {
      "text/html": [
       "<div>\n",
       "<style scoped>\n",
       "    .dataframe tbody tr th:only-of-type {\n",
       "        vertical-align: middle;\n",
       "    }\n",
       "\n",
       "    .dataframe tbody tr th {\n",
       "        vertical-align: top;\n",
       "    }\n",
       "\n",
       "    .dataframe thead th {\n",
       "        text-align: right;\n",
       "    }\n",
       "</style>\n",
       "<table border=\"1\" class=\"dataframe\">\n",
       "  <thead>\n",
       "    <tr style=\"text-align: right;\">\n",
       "      <th></th>\n",
       "      <th></th>\n",
       "      <th>G</th>\n",
       "      <th>transfer</th>\n",
       "      <th>retention</th>\n",
       "      <th>hiring</th>\n",
       "      <th>UI level</th>\n",
       "      <th>UI duration</th>\n",
       "    </tr>\n",
       "  </thead>\n",
       "  <tbody>\n",
       "    <tr>\n",
       "      <th>0</th>\n",
       "      <td>baseline</td>\n",
       "      <td>1.0 [0.60]</td>\n",
       "      <td>0.19</td>\n",
       "      <td>1.72</td>\n",
       "      <td>1.17</td>\n",
       "      <td>0.41</td>\n",
       "      <td>1.00</td>\n",
       "    </tr>\n",
       "    <tr>\n",
       "      <th>1</th>\n",
       "      <td>$\\phi = 177.5$</td>\n",
       "      <td>1.0 [0.34]</td>\n",
       "      <td>0.21</td>\n",
       "      <td>2.94</td>\n",
       "      <td>2.10</td>\n",
       "      <td>0.44</td>\n",
       "      <td>1.00</td>\n",
       "    </tr>\n",
       "    <tr>\n",
       "      <th>2</th>\n",
       "      <td>$\\delta_{\\pi} = 1.7$</td>\n",
       "      <td>1.0 [0.48]</td>\n",
       "      <td>0.20</td>\n",
       "      <td>2.21</td>\n",
       "      <td>1.53</td>\n",
       "      <td>0.42</td>\n",
       "      <td>1.00</td>\n",
       "    </tr>\n",
       "    <tr>\n",
       "      <th>3</th>\n",
       "      <td>$\\omega = 0.2$</td>\n",
       "      <td>1.0 [0.52]</td>\n",
       "      <td>0.13</td>\n",
       "      <td>1.75</td>\n",
       "      <td>1.18</td>\n",
       "      <td>0.39</td>\n",
       "      <td>1.03</td>\n",
       "    </tr>\n",
       "  </tbody>\n",
       "</table>\n",
       "</div>"
      ],
      "text/plain": [
       "                                  G transfer retention hiring UI level  \\\n",
       "0              baseline  1.0 [0.60]     0.19      1.72   1.17     0.41   \n",
       "1        $\\phi = 177.5$  1.0 [0.34]     0.21      2.94   2.10     0.44   \n",
       "2  $\\delta_{\\pi} = 1.7$  1.0 [0.48]     0.20      2.21   1.53     0.42   \n",
       "3        $\\omega = 0.2$  1.0 [0.52]     0.13      1.75   1.18     0.39   \n",
       "\n",
       "  UI duration  \n",
       "0        1.00  \n",
       "1        1.00  \n",
       "2        1.00  \n",
       "3        1.03  "
      ]
     },
     "metadata": {},
     "output_type": "display_data"
    }
   ],
   "source": [
    "df = policy.fiscal_multipliers(pol_models_all,['baseline','phi','delta_pi','omega'],\n",
    "                               tex='demand_loop',do_rel=True,not_G_rel=True,model_labels=model_labels)"
   ]
  },
  {
   "cell_type": "code",
   "execution_count": 16,
   "id": "491a9e7b",
   "metadata": {
    "execution": {
     "iopub.execute_input": "2023-05-03T19:14:42.031958Z",
     "iopub.status.busy": "2023-05-03T19:14:42.030959Z",
     "iopub.status.idle": "2023-05-03T19:14:42.164022Z",
     "shell.execute_reply": "2023-05-03T19:14:42.164022Z"
    },
    "papermill": {
     "duration": 0.149123,
     "end_time": "2023-05-03T19:14:42.168025",
     "exception": false,
     "start_time": "2023-05-03T19:14:42.018902",
     "status": "completed"
    },
    "tags": []
   },
   "outputs": [
    {
     "data": {
      "text/html": [
       "<div>\n",
       "<style scoped>\n",
       "    .dataframe tbody tr th:only-of-type {\n",
       "        vertical-align: middle;\n",
       "    }\n",
       "\n",
       "    .dataframe tbody tr th {\n",
       "        vertical-align: top;\n",
       "    }\n",
       "\n",
       "    .dataframe thead th {\n",
       "        text-align: right;\n",
       "    }\n",
       "</style>\n",
       "<table border=\"1\" class=\"dataframe\">\n",
       "  <thead>\n",
       "    <tr style=\"text-align: right;\">\n",
       "      <th></th>\n",
       "      <th></th>\n",
       "      <th>G</th>\n",
       "      <th>transfer</th>\n",
       "      <th>retention</th>\n",
       "      <th>hiring</th>\n",
       "      <th>UI level</th>\n",
       "      <th>UI duration</th>\n",
       "    </tr>\n",
       "  </thead>\n",
       "  <tbody>\n",
       "    <tr>\n",
       "      <th>0</th>\n",
       "      <td>baseline</td>\n",
       "      <td>1.0 [0.60]</td>\n",
       "      <td>0.19</td>\n",
       "      <td>1.72</td>\n",
       "      <td>1.17</td>\n",
       "      <td>0.41</td>\n",
       "      <td>1.00</td>\n",
       "    </tr>\n",
       "    <tr>\n",
       "      <th>1</th>\n",
       "      <td>$\\eta_e = 0.10$</td>\n",
       "      <td>1.0 [0.57]</td>\n",
       "      <td>0.19</td>\n",
       "      <td>1.70</td>\n",
       "      <td>1.17</td>\n",
       "      <td>0.42</td>\n",
       "      <td>1.00</td>\n",
       "    </tr>\n",
       "    <tr>\n",
       "      <th>2</th>\n",
       "      <td>$\\eta_e = 0.50$</td>\n",
       "      <td>1.0 [0.48]</td>\n",
       "      <td>0.20</td>\n",
       "      <td>1.66</td>\n",
       "      <td>1.16</td>\n",
       "      <td>0.42</td>\n",
       "      <td>1.00</td>\n",
       "    </tr>\n",
       "    <tr>\n",
       "      <th>3</th>\n",
       "      <td>$\\eta_e = 1.00$</td>\n",
       "      <td>1.0 [0.40]</td>\n",
       "      <td>0.20</td>\n",
       "      <td>1.62</td>\n",
       "      <td>1.15</td>\n",
       "      <td>0.43</td>\n",
       "      <td>1.00</td>\n",
       "    </tr>\n",
       "  </tbody>\n",
       "</table>\n",
       "</div>"
      ],
      "text/plain": [
       "                             G transfer retention hiring UI level UI duration\n",
       "0         baseline  1.0 [0.60]     0.19      1.72   1.17     0.41        1.00\n",
       "1  $\\eta_e = 0.10$  1.0 [0.57]     0.19      1.70   1.17     0.42        1.00\n",
       "2  $\\eta_e = 0.50$  1.0 [0.48]     0.20      1.66   1.16     0.42        1.00\n",
       "3  $\\eta_e = 1.00$  1.0 [0.40]     0.20      1.62   1.15     0.43        1.00"
      ]
     },
     "metadata": {},
     "output_type": "display_data"
    }
   ],
   "source": [
    "df = policy.fiscal_multipliers(pol_models_all,['baseline','eta_e_low','eta_e_mid','eta_e_high'],\n",
    "                               tex='wages',do_rel=True,not_G_rel=True,model_labels=model_labels)"
   ]
  }
 ],
 "metadata": {
  "kernelspec": {
   "display_name": "Python 3",
   "language": "python",
   "name": "python3"
  },
  "language_info": {
   "codemirror_mode": {
    "name": "ipython",
    "version": 3
   },
   "file_extension": ".py",
   "mimetype": "text/x-python",
   "name": "python",
   "nbconvert_exporter": "python",
   "pygments_lexer": "ipython3",
   "version": "3.9.16"
  },
  "papermill": {
   "default_parameters": {},
   "duration": 2482.186588,
   "end_time": "2023-05-03T19:14:45.111882",
   "environment_variables": {},
   "exception": null,
   "input_path": "03c. Post - Robustness.ipynb",
   "output_path": "temp_notebooks/03c. Post - Robustness.ipynb",
   "parameters": {},
   "start_time": "2023-05-03T18:33:22.925294",
   "version": "2.4.0"
  },
  "toc-autonumbering": true,
  "vscode": {
   "interpreter": {
    "hash": "47ef90cdf3004d3f859f1fb202523c65c07ba7c22eefd261b181f4744e2d0403"
   }
  }
 },
 "nbformat": 4,
 "nbformat_minor": 5
}