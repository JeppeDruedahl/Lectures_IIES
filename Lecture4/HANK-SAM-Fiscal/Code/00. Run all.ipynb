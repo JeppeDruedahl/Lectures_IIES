{
 "cells": [
  {
   "cell_type": "markdown",
   "id": "f0e712c5",
   "metadata": {},
   "source": [
    "# Run all"
   ]
  },
  {
   "cell_type": "markdown",
   "id": "4af1d322",
   "metadata": {},
   "source": [
    "**Table of contents**<a id='toc0_'></a>    \n",
    "- 1. [Imports](#toc1_)    \n",
    "- 2. [Settings](#toc2_)    \n",
    "- 3. [Clean up](#toc3_)    \n",
    "- 4. [Run](#toc4_)    \n",
    "\n",
    "<!-- vscode-jupyter-toc-config\n",
    "\tnumbering=true\n",
    "\tanchor=true\n",
    "\tflat=false\n",
    "\tminLevel=2\n",
    "\tmaxLevel=6\n",
    "\t/vscode-jupyter-toc-config -->\n",
    "<!-- THIS CELL WILL BE REPLACED ON TOC UPDATE. DO NOT WRITE YOUR TEXT IN THIS CELL -->"
   ]
  },
  {
   "cell_type": "markdown",
   "id": "5b560a6c",
   "metadata": {},
   "source": [
    "## 1. <a id='toc1_'></a>[Imports](#toc0_)"
   ]
  },
  {
   "cell_type": "code",
   "execution_count": 1,
   "id": "af33ddc5-87d5-4156-a416-25b702ad0063",
   "metadata": {},
   "outputs": [],
   "source": [
    "import os\n",
    "import glob\n",
    "import shutil\n",
    "import time\n",
    "\n",
    "from consav.misc import elapsed\n",
    "import papermill as pm\n",
    "\n",
    "if not os.path.isdir('temp_notebooks'):\n",
    "    os.mkdir('temp_notebooks')"
   ]
  },
  {
   "cell_type": "markdown",
   "id": "2478268d",
   "metadata": {},
   "source": [
    "## 2. <a id='toc2_'></a>[Settings](#toc0_)"
   ]
  },
  {
   "cell_type": "code",
   "execution_count": 2,
   "id": "64532349",
   "metadata": {},
   "outputs": [],
   "source": [
    "no_extra = False\n",
    "no_post = False\n",
    "clear_results = True"
   ]
  },
  {
   "cell_type": "code",
   "execution_count": 3,
   "id": "6f78489a-a06d-40b2-87c4-7e52f4b5279b",
   "metadata": {},
   "outputs": [],
   "source": [
    "def run_jupyter(filename,prepare_only=False):\n",
    "\n",
    "    try:\n",
    "        pm.execute_notebook(filename,f'temp_notebooks/{filename}',prepare_only=prepare_only)\n",
    "        shutil.copy(f'temp_notebooks/{filename}',f'{filename}')\n",
    "        time.sleep(1)\n",
    "        os.remove(f'temp_notebooks/{filename}')\n",
    "    except Exception as e:\n",
    "        print(f'failed, {e}',end='')\n",
    "        "
   ]
  },
  {
   "cell_type": "markdown",
   "id": "00890033",
   "metadata": {},
   "source": [
    "## 3. <a id='toc3_'></a>[Clean up](#toc0_)"
   ]
  },
  {
   "cell_type": "code",
   "execution_count": 4,
   "id": "26629f36",
   "metadata": {},
   "outputs": [],
   "source": [
    "if clear_results:\n",
    "\n",
    "    for filename in glob.glob('temp_notebooks/*.ipynb'):\n",
    "        os.remove(filename)   \n",
    "\n",
    "    for filename in glob.glob('saved/*.p') + glob.glob('saved/*.pickle'):\n",
    "        os.remove(filename)        \n",
    "\n",
    "    for filename in glob.glob('results/*.pdf') + glob.glob('results/*.tex'):\n",
    "        os.remove(filename)"
   ]
  },
  {
   "cell_type": "markdown",
   "id": "fc6e6e65",
   "metadata": {},
   "source": [
    "## 4. <a id='toc4_'></a>[Run](#toc0_)"
   ]
  },
  {
   "cell_type": "code",
   "execution_count": 5,
   "id": "536e299d-d812-4fd8-9321-a143dd911542",
   "metadata": {},
   "outputs": [
    {
     "name": "stdout",
     "output_type": "stream",
     "text": [
      "01a. Data.ipynb"
     ]
    },
    {
     "data": {
      "application/vnd.jupyter.widget-view+json": {
       "model_id": "c91b200a35714524810ef5a199979fd1",
       "version_major": 2,
       "version_minor": 0
      },
      "text/plain": [
       "Executing:   0%|          | 0/75 [00:00<?, ?cell/s]"
      ]
     },
     "metadata": {},
     "output_type": "display_data"
    },
    {
     "name": "stdout",
     "output_type": "stream",
     "text": [
      " [done in 11.1 secs secs]\n",
      "\n",
      "01b. Monetary IRFs.ipynb"
     ]
    },
    {
     "data": {
      "application/vnd.jupyter.widget-view+json": {
       "model_id": "dc3c980741d34fe1aee6126545946312",
       "version_major": 2,
       "version_minor": 0
      },
      "text/plain": [
       "Executing:   0%|          | 0/27 [00:00<?, ?cell/s]"
      ]
     },
     "metadata": {},
     "output_type": "display_data"
    },
    {
     "name": "stdout",
     "output_type": "stream",
     "text": [
      " [done in 23.1 secs secs]\n",
      "\n",
      "01b. Technology IRFs.ipynb"
     ]
    },
    {
     "data": {
      "application/vnd.jupyter.widget-view+json": {
       "model_id": "417a0358ce4b4242b305d99d59c982d8",
       "version_major": 2,
       "version_minor": 0
      },
      "text/plain": [
       "Executing:   0%|          | 0/37 [00:00<?, ?cell/s]"
      ]
     },
     "metadata": {},
     "output_type": "display_data"
    },
    {
     "name": "stdout",
     "output_type": "stream",
     "text": [
      " [done in 12.6 secs secs]\n",
      "\n",
      "01b. Unconditional investigation.ipynb"
     ]
    },
    {
     "data": {
      "application/vnd.jupyter.widget-view+json": {
       "model_id": "d3672824c98b42698d6cb80cb26430fe",
       "version_major": 2,
       "version_minor": 0
      },
      "text/plain": [
       "Executing:   0%|          | 0/22 [00:00<?, ?cell/s]"
      ]
     },
     "metadata": {},
     "output_type": "display_data"
    },
    {
     "name": "stdout",
     "output_type": "stream",
     "text": [
      " [done in 11.0 secs secs]\n",
      "\n",
      "02a. Calibration.ipynb"
     ]
    },
    {
     "data": {
      "application/vnd.jupyter.widget-view+json": {
       "model_id": "f63024e980004fd8856c966ffff229c8",
       "version_major": 2,
       "version_minor": 0
      },
      "text/plain": [
       "Executing:   0%|          | 0/18 [00:00<?, ?cell/s]"
      ]
     },
     "metadata": {},
     "output_type": "display_data"
    },
    {
     "name": "stdout",
     "output_type": "stream",
     "text": [
      " [done in 7.0 mins 53 secs secs]\n",
      "\n",
      "02b. Post - Decompositions.ipynb"
     ]
    },
    {
     "data": {
      "application/vnd.jupyter.widget-view+json": {
       "model_id": "5ccfc91c96654b0aa9b6c5b1ea3968e6",
       "version_major": 2,
       "version_minor": 0
      },
      "text/plain": [
       "Executing:   0%|          | 0/35 [00:00<?, ?cell/s]"
      ]
     },
     "metadata": {},
     "output_type": "display_data"
    },
    {
     "name": "stdout",
     "output_type": "stream",
     "text": [
      " [done in 4.0 mins 54 secs secs]\n",
      "\n",
      "02b. Post - Dynamic-calibration.ipynb"
     ]
    },
    {
     "data": {
      "application/vnd.jupyter.widget-view+json": {
       "model_id": "37d6620e1d3649388e847131de743bf3",
       "version_major": 2,
       "version_minor": 0
      },
      "text/plain": [
       "Executing:   0%|          | 0/13 [00:00<?, ?cell/s]"
      ]
     },
     "metadata": {},
     "output_type": "display_data"
    },
    {
     "name": "stdout",
     "output_type": "stream",
     "text": [
      " [done in 15.0 mins 42 secs secs]\n",
      "\n",
      "02b. Post - Separation and entry elasticities.ipynb"
     ]
    },
    {
     "data": {
      "application/vnd.jupyter.widget-view+json": {
       "model_id": "973707ce16be4169820a23329986a262",
       "version_major": 2,
       "version_minor": 0
      },
      "text/plain": [
       "Executing:   0%|          | 0/15 [00:00<?, ?cell/s]"
      ]
     },
     "metadata": {},
     "output_type": "display_data"
    },
    {
     "name": "stdout",
     "output_type": "stream",
     "text": [
      " [done in 8.0 mins 58 secs secs]\n",
      "\n",
      "02b. Post - Static-calibration.ipynb"
     ]
    },
    {
     "data": {
      "application/vnd.jupyter.widget-view+json": {
       "model_id": "335a11618d97444bb557d8a8b592fdca",
       "version_major": 2,
       "version_minor": 0
      },
      "text/plain": [
       "Executing:   0%|          | 0/21 [00:00<?, ?cell/s]"
      ]
     },
     "metadata": {},
     "output_type": "display_data"
    },
    {
     "name": "stdout",
     "output_type": "stream",
     "text": [
      " [done in 2.0 mins 35 secs secs]\n",
      "\n",
      "02c. Extra - Convergence.ipynb"
     ]
    },
    {
     "data": {
      "application/vnd.jupyter.widget-view+json": {
       "model_id": "75463ba5ae494e23bc3e82907f81cd5c",
       "version_major": 2,
       "version_minor": 0
      },
      "text/plain": [
       "Executing:   0%|          | 0/15 [00:00<?, ?cell/s]"
      ]
     },
     "metadata": {},
     "output_type": "display_data"
    },
    {
     "name": "stdout",
     "output_type": "stream",
     "text": [
      " [done in 18.0 mins 46 secs secs]\n",
      "\n",
      "02c. Extra - Demand and supply.ipynb"
     ]
    },
    {
     "data": {
      "application/vnd.jupyter.widget-view+json": {
       "model_id": "ac6726f055d347cd87680a83f868a8a6",
       "version_major": 2,
       "version_minor": 0
      },
      "text/plain": [
       "Executing:   0%|          | 0/11 [00:00<?, ?cell/s]"
      ]
     },
     "metadata": {},
     "output_type": "display_data"
    },
    {
     "name": "stdout",
     "output_type": "stream",
     "text": [
      " [done in 10.0 mins 57 secs secs]\n",
      "\n",
      "02c. Extra - Linear.ipynb"
     ]
    },
    {
     "data": {
      "application/vnd.jupyter.widget-view+json": {
       "model_id": "2e1559a57d1440bda895d106aeebed51",
       "version_major": 2,
       "version_minor": 0
      },
      "text/plain": [
       "Executing:   0%|          | 0/12 [00:00<?, ?cell/s]"
      ]
     },
     "metadata": {},
     "output_type": "display_data"
    },
    {
     "name": "stdout",
     "output_type": "stream",
     "text": [
      " [done in 5.0 mins 18 secs secs]\n",
      "\n",
      "03a. Calibrations.ipynb"
     ]
    },
    {
     "data": {
      "application/vnd.jupyter.widget-view+json": {
       "model_id": "63949ec636d04d72bc4598a1e7739937",
       "version_major": 2,
       "version_minor": 0
      },
      "text/plain": [
       "Executing:   0%|          | 0/12 [00:00<?, ?cell/s]"
      ]
     },
     "metadata": {},
     "output_type": "display_data"
    },
    {
     "name": "stdout",
     "output_type": "stream",
     "text": [
      " [done in 19.0 mins 22 secs secs]\n",
      "\n",
      "03b. Policies.ipynb"
     ]
    },
    {
     "data": {
      "application/vnd.jupyter.widget-view+json": {
       "model_id": "6c8cd6248922409299837bf77488c209",
       "version_major": 2,
       "version_minor": 0
      },
      "text/plain": [
       "Executing:   0%|          | 0/29 [00:00<?, ?cell/s]"
      ]
     },
     "metadata": {},
     "output_type": "display_data"
    },
    {
     "name": "stdout",
     "output_type": "stream",
     "text": [
      " [done in 2.0 hours 14.0 mins secs]\n",
      "\n",
      "03c. Post - Endogenous search.ipynb"
     ]
    },
    {
     "data": {
      "application/vnd.jupyter.widget-view+json": {
       "model_id": "2cea6f536d9f4b8ba1ca1da498ae6901",
       "version_major": 2,
       "version_minor": 0
      },
      "text/plain": [
       "Executing:   0%|          | 0/20 [00:00<?, ?cell/s]"
      ]
     },
     "metadata": {},
     "output_type": "display_data"
    },
    {
     "name": "stdout",
     "output_type": "stream",
     "text": [
      " [done in 9.0 mins 38 secs secs]\n",
      "\n",
      "03c. Post - Other policy shock.ipynb"
     ]
    },
    {
     "data": {
      "application/vnd.jupyter.widget-view+json": {
       "model_id": "f13280bd1b0344aab812a723725d816a",
       "version_major": 2,
       "version_minor": 0
      },
      "text/plain": [
       "Executing:   0%|          | 0/20 [00:00<?, ?cell/s]"
      ]
     },
     "metadata": {},
     "output_type": "display_data"
    },
    {
     "name": "stdout",
     "output_type": "stream",
     "text": [
      " [done in 43.0 mins 43 secs secs]\n",
      "\n",
      "03c. Post - Robustness.ipynb"
     ]
    },
    {
     "data": {
      "application/vnd.jupyter.widget-view+json": {
       "model_id": "602e53214726410098efa93833a47d36",
       "version_major": 2,
       "version_minor": 0
      },
      "text/plain": [
       "Executing:   0%|          | 0/23 [00:00<?, ?cell/s]"
      ]
     },
     "metadata": {},
     "output_type": "display_data"
    },
    {
     "name": "stdout",
     "output_type": "stream",
     "text": [
      " [done in 41.0 mins 23 secs secs]\n",
      "\n"
     ]
    }
   ],
   "source": [
    "for filename in glob.glob('*.ipynb'):\n",
    "    \n",
    "    if 'Run all' in filename: continue\n",
    "\n",
    "    prepare_only = False\n",
    "    if no_extra and 'Extra' in filename: prepare_only = True\n",
    "    if no_post and 'Post' in filename: prepare_only = True\n",
    "\n",
    "    print(filename,end='')\n",
    "\n",
    "    t0 = time.time()\n",
    "    run_jupyter(filename,prepare_only=prepare_only) \n",
    "    print(f' [done in {elapsed(t0)} secs]\\n')\n"
   ]
  }
 ],
 "metadata": {
  "kernelspec": {
   "display_name": "base",
   "language": "python",
   "name": "python3"
  },
  "language_info": {
   "codemirror_mode": {
    "name": "ipython",
    "version": 3
   },
   "file_extension": ".py",
   "mimetype": "text/x-python",
   "name": "python",
   "nbconvert_exporter": "python",
   "pygments_lexer": "ipython3",
   "version": "3.9.16"
  },
  "vscode": {
   "interpreter": {
    "hash": "47ef90cdf3004d3f859f1fb202523c65c07ba7c22eefd261b181f4744e2d0403"
   }
  }
 },
 "nbformat": 4,
 "nbformat_minor": 5
}
