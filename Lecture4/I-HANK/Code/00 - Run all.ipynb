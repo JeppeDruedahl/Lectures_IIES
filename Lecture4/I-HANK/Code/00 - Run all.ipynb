{
 "cells": [
  {
   "attachments": {},
   "cell_type": "markdown",
   "id": "1562c587",
   "metadata": {},
   "source": [
    "# Run all"
   ]
  },
  {
   "attachments": {},
   "cell_type": "markdown",
   "id": "684efe2f",
   "metadata": {},
   "source": [
    "**Table of contents**<a id='toc0_'></a>    \n",
    "- 1. [Imports](#toc1_)    \n",
    "- 2. [Settings](#toc2_)    \n",
    "- 3. [Clean up](#toc3_)    \n",
    "- 4. [Run](#toc4_)    \n",
    "\n",
    "<!-- vscode-jupyter-toc-config\n",
    "\tnumbering=true\n",
    "\tanchor=true\n",
    "\tflat=false\n",
    "\tminLevel=2\n",
    "\tmaxLevel=6\n",
    "\t/vscode-jupyter-toc-config -->\n",
    "<!-- THIS CELL WILL BE REPLACED ON TOC UPDATE. DO NOT WRITE YOUR TEXT IN THIS CELL -->"
   ]
  },
  {
   "attachments": {},
   "cell_type": "markdown",
   "id": "ed427fe1",
   "metadata": {},
   "source": [
    "## 1. <a id='toc1_'></a>[Imports](#toc0_)"
   ]
  },
  {
   "cell_type": "code",
   "execution_count": 1,
   "id": "af33ddc5-87d5-4156-a416-25b702ad0063",
   "metadata": {},
   "outputs": [],
   "source": [
    "import os\n",
    "import glob\n",
    "import shutil\n",
    "import time\n",
    "\n",
    "from consav.misc import elapsed\n",
    "import papermill as pm\n",
    "\n",
    "if not os.path.isdir('temp_notebooks'):\n",
    "    os.mkdir('temp_notebooks')"
   ]
  },
  {
   "attachments": {},
   "cell_type": "markdown",
   "id": "2458128b",
   "metadata": {},
   "source": [
    "## 2. <a id='toc2_'></a>[Settings](#toc0_)"
   ]
  },
  {
   "cell_type": "code",
   "execution_count": 2,
   "id": "64532349",
   "metadata": {},
   "outputs": [],
   "source": [
    "clear_results = True"
   ]
  },
  {
   "cell_type": "code",
   "execution_count": 3,
   "id": "6f78489a-a06d-40b2-87c4-7e52f4b5279b",
   "metadata": {},
   "outputs": [],
   "source": [
    "def run_jupyter(filename,prepare_only=False):\n",
    "\n",
    "    try:\n",
    "        pm.execute_notebook(filename,f'temp_notebooks/{filename}',prepare_only=prepare_only)\n",
    "        shutil.copy(f'temp_notebooks/{filename}',f'{filename}')\n",
    "        time.sleep(1)\n",
    "        os.remove(f'temp_notebooks/{filename}')\n",
    "    except Exception as e:\n",
    "        print(f'failed, {e}',end='')\n",
    "        "
   ]
  },
  {
   "attachments": {},
   "cell_type": "markdown",
   "id": "083cdc9b",
   "metadata": {},
   "source": [
    "## 3. <a id='toc3_'></a>[Clean up](#toc0_)"
   ]
  },
  {
   "cell_type": "code",
   "execution_count": 4,
   "id": "26629f36",
   "metadata": {},
   "outputs": [],
   "source": [
    "if clear_results:\n",
    "\n",
    "    for filename in glob.glob('temp_notebooks/*.ipynb'):\n",
    "        os.remove(filename)   \n",
    "\n",
    "    for filename in glob.glob('saved/*.pkl'):\n",
    "        if 'initial_guess' in filename: continue\n",
    "        os.remove(filename)\n",
    "\n",
    "    for filename in glob.glob('plots/*.pdf'):\n",
    "        os.remove(filename)\n",
    "\n",
    "    for filename in glob.glob('tables/*.txt'):\n",
    "        os.remove(filename)         "
   ]
  },
  {
   "attachments": {},
   "cell_type": "markdown",
   "id": "30476725",
   "metadata": {},
   "source": [
    "## 4. <a id='toc4_'></a>[Run](#toc0_)"
   ]
  },
  {
   "cell_type": "code",
   "execution_count": 5,
   "id": "536e299d-d812-4fd8-9321-a143dd911542",
   "metadata": {},
   "outputs": [
    {
     "name": "stdout",
     "output_type": "stream",
     "text": [
      "01a - Estimation.ipynb"
     ]
    },
    {
     "data": {
      "application/vnd.jupyter.widget-view+json": {
       "model_id": "351c3d91fcff443a891cc7104c8f8064",
       "version_major": 2,
       "version_minor": 0
      },
      "text/plain": [
       "Executing:   0%|          | 0/40 [00:00<?, ?cell/s]"
      ]
     },
     "metadata": {},
     "output_type": "display_data"
    },
    {
     "name": "stdout",
     "output_type": "stream",
     "text": [
      " [done in 3.0 mins 54 secs secs]\n",
      "\n",
      "01b - Steady State.ipynb"
     ]
    },
    {
     "data": {
      "application/vnd.jupyter.widget-view+json": {
       "model_id": "2692851db54f478d90e4c15f7e5a2e6c",
       "version_major": 2,
       "version_minor": 0
      },
      "text/plain": [
       "Executing:   0%|          | 0/19 [00:00<?, ?cell/s]"
      ]
     },
     "metadata": {},
     "output_type": "display_data"
    },
    {
     "name": "stdout",
     "output_type": "stream",
     "text": [
      " [done in 5.0 mins 11 secs secs]\n",
      "\n",
      "02 - Debt rule.ipynb"
     ]
    },
    {
     "data": {
      "application/vnd.jupyter.widget-view+json": {
       "model_id": "ced68b17f79a49ef9bb24121318a77c0",
       "version_major": 2,
       "version_minor": 0
      },
      "text/plain": [
       "Executing:   0%|          | 0/19 [00:00<?, ?cell/s]"
      ]
     },
     "metadata": {},
     "output_type": "display_data"
    },
    {
     "name": "stdout",
     "output_type": "stream",
     "text": [
      " [done in 5.0 mins 27 secs secs]\n",
      "\n",
      "02 - HH.ipynb"
     ]
    },
    {
     "data": {
      "application/vnd.jupyter.widget-view+json": {
       "model_id": "ba95416dc416404988c4a3ca1c5896bf",
       "version_major": 2,
       "version_minor": 0
      },
      "text/plain": [
       "Executing:   0%|          | 0/17 [00:00<?, ?cell/s]"
      ]
     },
     "metadata": {},
     "output_type": "display_data"
    },
    {
     "name": "stdout",
     "output_type": "stream",
     "text": [
      " [done in 4.0 mins 58 secs secs]\n",
      "\n",
      "02 - Linear.ipynb"
     ]
    },
    {
     "data": {
      "application/vnd.jupyter.widget-view+json": {
       "model_id": "681bc7494faf4a37847c37811cdbab01",
       "version_major": 2,
       "version_minor": 0
      },
      "text/plain": [
       "Executing:   0%|          | 0/15 [00:00<?, ?cell/s]"
      ]
     },
     "metadata": {},
     "output_type": "display_data"
    },
    {
     "name": "stdout",
     "output_type": "stream",
     "text": [
      " [done in 3.0 mins 23 secs secs]\n",
      "\n",
      "02 - Sensitivity.ipynb"
     ]
    },
    {
     "data": {
      "application/vnd.jupyter.widget-view+json": {
       "model_id": "75a171dc64ac4343877e22ed1d4aaf36",
       "version_major": 2,
       "version_minor": 0
      },
      "text/plain": [
       "Executing:   0%|          | 0/7 [00:00<?, ?cell/s]"
      ]
     },
     "metadata": {},
     "output_type": "display_data"
    },
    {
     "name": "stdout",
     "output_type": "stream",
     "text": [
      " [done in 20.0 mins 18 secs secs]\n",
      "\n",
      "02 - Stability.ipynb"
     ]
    },
    {
     "data": {
      "application/vnd.jupyter.widget-view+json": {
       "model_id": "af1de1a31c604a31a202f583033c4ff3",
       "version_major": 2,
       "version_minor": 0
      },
      "text/plain": [
       "Executing:   0%|          | 0/25 [00:00<?, ?cell/s]"
      ]
     },
     "metadata": {},
     "output_type": "display_data"
    },
    {
     "name": "stdout",
     "output_type": "stream",
     "text": [
      " [done in 27.0 mins 43 secs secs]\n",
      "\n",
      "03 - Analysis.ipynb"
     ]
    },
    {
     "data": {
      "application/vnd.jupyter.widget-view+json": {
       "model_id": "f0e14ee7aca042a2a4876354290bbeb2",
       "version_major": 2,
       "version_minor": 0
      },
      "text/plain": [
       "Executing:   0%|          | 0/16 [00:00<?, ?cell/s]"
      ]
     },
     "metadata": {},
     "output_type": "display_data"
    },
    {
     "name": "stdout",
     "output_type": "stream",
     "text": [
      " [done in 6.0 mins 9 secs secs]\n",
      "\n",
      "03 - Correlated shocks.ipynb"
     ]
    },
    {
     "data": {
      "application/vnd.jupyter.widget-view+json": {
       "model_id": "b8975a6edfaf4db88895b865dd671589",
       "version_major": 2,
       "version_minor": 0
      },
      "text/plain": [
       "Executing:   0%|          | 0/23 [00:00<?, ?cell/s]"
      ]
     },
     "metadata": {},
     "output_type": "display_data"
    },
    {
     "name": "stdout",
     "output_type": "stream",
     "text": [
      " [done in 11.0 mins 30 secs secs]\n",
      "\n",
      "03 - Robustness.ipynb"
     ]
    },
    {
     "data": {
      "application/vnd.jupyter.widget-view+json": {
       "model_id": "66ad7a2778a6414dba31d807693d80bc",
       "version_major": 2,
       "version_minor": 0
      },
      "text/plain": [
       "Executing:   0%|          | 0/17 [00:00<?, ?cell/s]"
      ]
     },
     "metadata": {},
     "output_type": "display_data"
    },
    {
     "name": "stdout",
     "output_type": "stream",
     "text": [
      " [done in 21.0 mins 34 secs secs]\n",
      "\n",
      "04 - Policy.ipynb"
     ]
    },
    {
     "data": {
      "application/vnd.jupyter.widget-view+json": {
       "model_id": "777006ca3eef4fdba24796cc567def9a",
       "version_major": 2,
       "version_minor": 0
      },
      "text/plain": [
       "Executing:   0%|          | 0/25 [00:00<?, ?cell/s]"
      ]
     },
     "metadata": {},
     "output_type": "display_data"
    },
    {
     "name": "stdout",
     "output_type": "stream",
     "text": [
      " [done in 6.0 mins 20 secs secs]\n",
      "\n"
     ]
    }
   ],
   "source": [
    "fast = False\n",
    "no_robustness = False\n",
    "for filename in glob.glob('*.ipynb'):\n",
    "    \n",
    "    if '00' in filename: continue\n",
    "    if '0x' in filename: continue\n",
    "\n",
    "    if fast:\n",
    "\n",
    "        if 'Linear' in filename: continue\n",
    "        if 'Sensitivity' in filename: continue\n",
    "        if 'Stability' in filename: continue\n",
    "        \n",
    "    if no_robustness:\n",
    "        \n",
    "        if 'Robustness' in filename: continue\n",
    "\n",
    "    print(filename,end='')\n",
    "\n",
    "    t0 = time.time()\n",
    "    run_jupyter(filename) \n",
    "    print(f' [done in {elapsed(t0)} secs]\\n')\n"
   ]
  }
 ],
 "metadata": {
  "kernelspec": {
   "display_name": "base",
   "language": "python",
   "name": "python3"
  },
  "language_info": {
   "codemirror_mode": {
    "name": "ipython",
    "version": 3
   },
   "file_extension": ".py",
   "mimetype": "text/x-python",
   "name": "python",
   "nbconvert_exporter": "python",
   "pygments_lexer": "ipython3",
   "version": "3.11.3"
  },
  "vscode": {
   "interpreter": {
    "hash": "47ef90cdf3004d3f859f1fb202523c65c07ba7c22eefd261b181f4744e2d0403"
   }
  }
 },
 "nbformat": 4,
 "nbformat_minor": 5
}
